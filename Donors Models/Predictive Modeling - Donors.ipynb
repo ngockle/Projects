{
 "cells": [
  {
   "cell_type": "markdown",
   "metadata": {
    "slideshow": {
     "slide_type": "-"
    }
   },
   "source": [
    "# Data Science for Non-Profit Fundraising"
   ]
  },
  {
   "cell_type": "markdown",
   "metadata": {},
   "source": [
    "Data science can be leveraged for non-profit fundraising by using models to predict donors for the current year. Analytics could also help identify cohorts and characteristics of potential donors. The aim of this project is to use an anonymized dataset to predict which constituent will donate in the current fiscal year."
   ]
  },
  {
   "cell_type": "markdown",
   "metadata": {},
   "source": [
    "## This report will be laid out in several steps:\n",
    "\n",
    "1. Data Preparation: review of the data source and prepping the data for analysis.\n",
    "2. Data Analysis: Using visualization, a preliminary analysis of the constiuent base of the dataset.\n",
    "3. Prediction Models: Using 3 different models to attempt to predict who will be a current year donor.\n",
    "4. Summary: Findings from analysis and performance of the models."
   ]
  },
  {
   "cell_type": "markdown",
   "metadata": {},
   "source": [
    "## 1. Data Preparation"
   ]
  },
  {
   "cell_type": "code",
   "execution_count": 1,
   "metadata": {},
   "outputs": [],
   "source": [
    "#import libraries\n",
    "import pandas as pd\n",
    "import numpy as np\n",
    "import xgboost as xgb\n",
    "import seaborn as sns\n",
    "from sklearn.model_selection import train_test_split \n",
    "from sklearn.metrics import balanced_accuracy_score, roc_auc_score, make_scorer \n",
    "from sklearn.model_selection import GridSearchCV \n",
    "from sklearn.metrics import confusion_matrix \n",
    "from sklearn.metrics import plot_confusion_matrix \n",
    "import matplotlib.pyplot as plt\n",
    "import matplotlib.ticker as ticker\n",
    "import matplotlib.gridspec as grd\n",
    "import scipy.stats\n",
    "import re\n",
    "from os import path\n",
    "from PIL import Image\n",
    "\n",
    "# for regressions with statsmodels:\n",
    "import statsmodels.api as sm\n",
    "import statsmodels.formula.api as smf\n",
    "import statsmodels.stats.api as sms\n",
    "from statsmodels.compat import lzip\n",
    "from statsmodels.stats.outliers_influence import OLSInfluence\n",
    "from statsmodels.graphics.regressionplots import plot_leverage_resid2\n",
    "\n",
    "# for regressions with scikit-learn:\n",
    "import sklearn.linear_model as sklm\n",
    "from sklearn import preprocessing\n",
    "from sklearn.model_selection import KFold\n",
    "from sklearn.metrics import confusion_matrix, classification_report, precision_score, \\\n",
    "                            accuracy_score, roc_curve, roc_auc_score\n",
    "from sklearn.model_selection import train_test_split, cross_validate, cross_val_score\n",
    "\n",
    "#for plotting confusion matrix:\n",
    "import scikitplot as skplt\n",
    "\n",
    "#for ordinal logistic regression\n",
    "from mord import LogisticIT\n",
    "\n",
    "#These are utility tools of the DMBA book. \n",
    "from dmba import regressionSummary, exhaustive_search\n",
    "from dmba import backward_elimination, forward_selection, stepwise_selection\n",
    "from dmba import adjusted_r2_score, AIC_score, BIC_score\n",
    "from dmba import classificationSummary, gainsChart, liftChart\n",
    "\n",
    "\n",
    "# for KNN:\n",
    "from sklearn.neighbors import NearestNeighbors\n",
    "from sklearn.neighbors import KNeighborsClassifier\n",
    "from sklearn.neighbors import KNeighborsRegressor\n",
    "\n",
    "#hyperparameter optimization usng RandomizedSearchCV\n",
    "from sklearn.model_selection import RandomizedSearchCV, GridSearchCV\n",
    "import xgboost"
   ]
  },
  {
   "cell_type": "markdown",
   "metadata": {},
   "source": [
    "### Data Source"
   ]
  },
  {
   "cell_type": "markdown",
   "metadata": {},
   "source": [
    "The data was sourced from Kaggle.\n",
    "\n",
    "A 34,000 row sample constituent data set from the book: Data Science for Fundraising.\n",
    "\n",
    "Pawlus, M. Fundraising Data, Version 1. Retrieved December 18, 2022 from https://www.kaggle.com/datasets/michaelpawlus/fundraising-data?select=data_science_for_fundraising_donor_data.csv."
   ]
  },
  {
   "cell_type": "markdown",
   "metadata": {},
   "source": [
    "### Importing data"
   ]
  },
  {
   "cell_type": "code",
   "execution_count": 2,
   "metadata": {},
   "outputs": [],
   "source": [
    "#loading the datasets\n",
    "df = pd.read_csv(\"data_science_for_fundraising_donor_data.csv\")"
   ]
  },
  {
   "cell_type": "code",
   "execution_count": 3,
   "metadata": {},
   "outputs": [
    {
     "name": "stdout",
     "output_type": "stream",
     "text": [
      "<class 'pandas.core.frame.DataFrame'>\n",
      "RangeIndex: 34508 entries, 0 to 34507\n",
      "Data columns (total 23 columns):\n",
      " #   Column               Non-Null Count  Dtype  \n",
      "---  ------               --------------  -----  \n",
      " 0   ID                   34508 non-null  int64  \n",
      " 1   ZIPCODE              34417 non-null  float64\n",
      " 2   AGE                  13318 non-null  float64\n",
      " 3   MARITAL_STATUS       9940 non-null   object \n",
      " 4   GENDER               34015 non-null  object \n",
      " 5   MEMBERSHIP_IND       34508 non-null  object \n",
      " 6   ALUMNUS_IND          34508 non-null  object \n",
      " 7   PARENT_IND           34508 non-null  object \n",
      " 8   HAS_INVOLVEMENT_IND  34508 non-null  object \n",
      " 9   WEALTH_RATING        2709 non-null   object \n",
      " 10  DEGREE_LEVEL         7606 non-null   object \n",
      " 11  PREF_ADDRESS_TYPE    30465 non-null  object \n",
      " 12  EMAIL_PRESENT_IND    34508 non-null  object \n",
      " 13  CON_YEARS            34508 non-null  int64  \n",
      " 14  PrevFYGiving         34508 non-null  object \n",
      " 15  PrevFY1Giving        34508 non-null  object \n",
      " 16  PrevFY2Giving        34508 non-null  object \n",
      " 17  PrevFY3Giving        34508 non-null  object \n",
      " 18  PrevFY4Giving        34508 non-null  object \n",
      " 19  CurrFYGiving         34508 non-null  object \n",
      " 20  TotalGiving          34508 non-null  float64\n",
      " 21  DONOR_IND            34508 non-null  object \n",
      " 22  BIRTH_DATE           13318 non-null  object \n",
      "dtypes: float64(3), int64(2), object(18)\n",
      "memory usage: 6.1+ MB\n"
     ]
    }
   ],
   "source": [
    "df.info()"
   ]
  },
  {
   "cell_type": "markdown",
   "metadata": {},
   "source": [
    "### Understanding the variables and dataset"
   ]
  },
  {
   "cell_type": "code",
   "execution_count": 4,
   "metadata": {},
   "outputs": [
    {
     "data": {
      "text/html": [
       "<div>\n",
       "<style scoped>\n",
       "    .dataframe tbody tr th:only-of-type {\n",
       "        vertical-align: middle;\n",
       "    }\n",
       "\n",
       "    .dataframe tbody tr th {\n",
       "        vertical-align: top;\n",
       "    }\n",
       "\n",
       "    .dataframe thead th {\n",
       "        text-align: right;\n",
       "    }\n",
       "</style>\n",
       "<table border=\"1\" class=\"dataframe\">\n",
       "  <thead>\n",
       "    <tr style=\"text-align: right;\">\n",
       "      <th></th>\n",
       "      <th>ID</th>\n",
       "      <th>ZIPCODE</th>\n",
       "      <th>AGE</th>\n",
       "      <th>MARITAL_STATUS</th>\n",
       "      <th>GENDER</th>\n",
       "      <th>MEMBERSHIP_IND</th>\n",
       "      <th>ALUMNUS_IND</th>\n",
       "      <th>PARENT_IND</th>\n",
       "      <th>HAS_INVOLVEMENT_IND</th>\n",
       "      <th>WEALTH_RATING</th>\n",
       "      <th>...</th>\n",
       "      <th>CON_YEARS</th>\n",
       "      <th>PrevFYGiving</th>\n",
       "      <th>PrevFY1Giving</th>\n",
       "      <th>PrevFY2Giving</th>\n",
       "      <th>PrevFY3Giving</th>\n",
       "      <th>PrevFY4Giving</th>\n",
       "      <th>CurrFYGiving</th>\n",
       "      <th>TotalGiving</th>\n",
       "      <th>DONOR_IND</th>\n",
       "      <th>BIRTH_DATE</th>\n",
       "    </tr>\n",
       "  </thead>\n",
       "  <tbody>\n",
       "    <tr>\n",
       "      <th>count</th>\n",
       "      <td>34508.000000</td>\n",
       "      <td>34417.000000</td>\n",
       "      <td>13318.000000</td>\n",
       "      <td>9940</td>\n",
       "      <td>34015</td>\n",
       "      <td>34508</td>\n",
       "      <td>34508</td>\n",
       "      <td>34508</td>\n",
       "      <td>34508</td>\n",
       "      <td>2709</td>\n",
       "      <td>...</td>\n",
       "      <td>34508.000000</td>\n",
       "      <td>34508</td>\n",
       "      <td>34508</td>\n",
       "      <td>34508</td>\n",
       "      <td>34508</td>\n",
       "      <td>34508</td>\n",
       "      <td>34508</td>\n",
       "      <td>3.450800e+04</td>\n",
       "      <td>34508</td>\n",
       "      <td>13318</td>\n",
       "    </tr>\n",
       "    <tr>\n",
       "      <th>unique</th>\n",
       "      <td>NaN</td>\n",
       "      <td>NaN</td>\n",
       "      <td>NaN</td>\n",
       "      <td>6</td>\n",
       "      <td>5</td>\n",
       "      <td>1</td>\n",
       "      <td>2</td>\n",
       "      <td>2</td>\n",
       "      <td>2</td>\n",
       "      <td>8</td>\n",
       "      <td>...</td>\n",
       "      <td>NaN</td>\n",
       "      <td>188</td>\n",
       "      <td>189</td>\n",
       "      <td>188</td>\n",
       "      <td>177</td>\n",
       "      <td>182</td>\n",
       "      <td>166</td>\n",
       "      <td>NaN</td>\n",
       "      <td>2</td>\n",
       "      <td>4812</td>\n",
       "    </tr>\n",
       "    <tr>\n",
       "      <th>top</th>\n",
       "      <td>NaN</td>\n",
       "      <td>NaN</td>\n",
       "      <td>NaN</td>\n",
       "      <td>Married</td>\n",
       "      <td>Female</td>\n",
       "      <td>N</td>\n",
       "      <td>N</td>\n",
       "      <td>N</td>\n",
       "      <td>N</td>\n",
       "      <td>$50,000-$99,999</td>\n",
       "      <td>...</td>\n",
       "      <td>NaN</td>\n",
       "      <td>$0</td>\n",
       "      <td>$0</td>\n",
       "      <td>$0</td>\n",
       "      <td>$0</td>\n",
       "      <td>$0</td>\n",
       "      <td>$0</td>\n",
       "      <td>NaN</td>\n",
       "      <td>Y</td>\n",
       "      <td>1990-09-10</td>\n",
       "    </tr>\n",
       "    <tr>\n",
       "      <th>freq</th>\n",
       "      <td>NaN</td>\n",
       "      <td>NaN</td>\n",
       "      <td>NaN</td>\n",
       "      <td>6547</td>\n",
       "      <td>16678</td>\n",
       "      <td>34508</td>\n",
       "      <td>26086</td>\n",
       "      <td>31807</td>\n",
       "      <td>26533</td>\n",
       "      <td>645</td>\n",
       "      <td>...</td>\n",
       "      <td>NaN</td>\n",
       "      <td>32139</td>\n",
       "      <td>32032</td>\n",
       "      <td>31971</td>\n",
       "      <td>32362</td>\n",
       "      <td>32544</td>\n",
       "      <td>32599</td>\n",
       "      <td>NaN</td>\n",
       "      <td>21433</td>\n",
       "      <td>20</td>\n",
       "    </tr>\n",
       "    <tr>\n",
       "      <th>mean</th>\n",
       "      <td>17254.500000</td>\n",
       "      <td>56161.625970</td>\n",
       "      <td>45.541973</td>\n",
       "      <td>NaN</td>\n",
       "      <td>NaN</td>\n",
       "      <td>NaN</td>\n",
       "      <td>NaN</td>\n",
       "      <td>NaN</td>\n",
       "      <td>NaN</td>\n",
       "      <td>NaN</td>\n",
       "      <td>...</td>\n",
       "      <td>1.137475</td>\n",
       "      <td>NaN</td>\n",
       "      <td>NaN</td>\n",
       "      <td>NaN</td>\n",
       "      <td>NaN</td>\n",
       "      <td>NaN</td>\n",
       "      <td>NaN</td>\n",
       "      <td>2.363534e+03</td>\n",
       "      <td>NaN</td>\n",
       "      <td>NaN</td>\n",
       "    </tr>\n",
       "    <tr>\n",
       "      <th>std</th>\n",
       "      <td>9961.745881</td>\n",
       "      <td>29966.704506</td>\n",
       "      <td>18.148996</td>\n",
       "      <td>NaN</td>\n",
       "      <td>NaN</td>\n",
       "      <td>NaN</td>\n",
       "      <td>NaN</td>\n",
       "      <td>NaN</td>\n",
       "      <td>NaN</td>\n",
       "      <td>NaN</td>\n",
       "      <td>...</td>\n",
       "      <td>2.423034</td>\n",
       "      <td>NaN</td>\n",
       "      <td>NaN</td>\n",
       "      <td>NaN</td>\n",
       "      <td>NaN</td>\n",
       "      <td>NaN</td>\n",
       "      <td>NaN</td>\n",
       "      <td>1.138014e+05</td>\n",
       "      <td>NaN</td>\n",
       "      <td>NaN</td>\n",
       "    </tr>\n",
       "    <tr>\n",
       "      <th>min</th>\n",
       "      <td>1.000000</td>\n",
       "      <td>211.000000</td>\n",
       "      <td>1.000000</td>\n",
       "      <td>NaN</td>\n",
       "      <td>NaN</td>\n",
       "      <td>NaN</td>\n",
       "      <td>NaN</td>\n",
       "      <td>NaN</td>\n",
       "      <td>NaN</td>\n",
       "      <td>NaN</td>\n",
       "      <td>...</td>\n",
       "      <td>0.000000</td>\n",
       "      <td>NaN</td>\n",
       "      <td>NaN</td>\n",
       "      <td>NaN</td>\n",
       "      <td>NaN</td>\n",
       "      <td>NaN</td>\n",
       "      <td>NaN</td>\n",
       "      <td>0.000000e+00</td>\n",
       "      <td>NaN</td>\n",
       "      <td>NaN</td>\n",
       "    </tr>\n",
       "    <tr>\n",
       "      <th>25%</th>\n",
       "      <td>8627.750000</td>\n",
       "      <td>29927.000000</td>\n",
       "      <td>31.000000</td>\n",
       "      <td>NaN</td>\n",
       "      <td>NaN</td>\n",
       "      <td>NaN</td>\n",
       "      <td>NaN</td>\n",
       "      <td>NaN</td>\n",
       "      <td>NaN</td>\n",
       "      <td>NaN</td>\n",
       "      <td>...</td>\n",
       "      <td>0.000000</td>\n",
       "      <td>NaN</td>\n",
       "      <td>NaN</td>\n",
       "      <td>NaN</td>\n",
       "      <td>NaN</td>\n",
       "      <td>NaN</td>\n",
       "      <td>NaN</td>\n",
       "      <td>0.000000e+00</td>\n",
       "      <td>NaN</td>\n",
       "      <td>NaN</td>\n",
       "    </tr>\n",
       "    <tr>\n",
       "      <th>50%</th>\n",
       "      <td>17254.500000</td>\n",
       "      <td>58108.000000</td>\n",
       "      <td>42.000000</td>\n",
       "      <td>NaN</td>\n",
       "      <td>NaN</td>\n",
       "      <td>NaN</td>\n",
       "      <td>NaN</td>\n",
       "      <td>NaN</td>\n",
       "      <td>NaN</td>\n",
       "      <td>NaN</td>\n",
       "      <td>...</td>\n",
       "      <td>0.000000</td>\n",
       "      <td>NaN</td>\n",
       "      <td>NaN</td>\n",
       "      <td>NaN</td>\n",
       "      <td>NaN</td>\n",
       "      <td>NaN</td>\n",
       "      <td>NaN</td>\n",
       "      <td>2.500000e+01</td>\n",
       "      <td>NaN</td>\n",
       "      <td>NaN</td>\n",
       "    </tr>\n",
       "    <tr>\n",
       "      <th>75%</th>\n",
       "      <td>25881.250000</td>\n",
       "      <td>90265.000000</td>\n",
       "      <td>58.000000</td>\n",
       "      <td>NaN</td>\n",
       "      <td>NaN</td>\n",
       "      <td>NaN</td>\n",
       "      <td>NaN</td>\n",
       "      <td>NaN</td>\n",
       "      <td>NaN</td>\n",
       "      <td>NaN</td>\n",
       "      <td>...</td>\n",
       "      <td>1.000000</td>\n",
       "      <td>NaN</td>\n",
       "      <td>NaN</td>\n",
       "      <td>NaN</td>\n",
       "      <td>NaN</td>\n",
       "      <td>NaN</td>\n",
       "      <td>NaN</td>\n",
       "      <td>1.440000e+02</td>\n",
       "      <td>NaN</td>\n",
       "      <td>NaN</td>\n",
       "    </tr>\n",
       "    <tr>\n",
       "      <th>max</th>\n",
       "      <td>34508.000000</td>\n",
       "      <td>99928.000000</td>\n",
       "      <td>110.000000</td>\n",
       "      <td>NaN</td>\n",
       "      <td>NaN</td>\n",
       "      <td>NaN</td>\n",
       "      <td>NaN</td>\n",
       "      <td>NaN</td>\n",
       "      <td>NaN</td>\n",
       "      <td>NaN</td>\n",
       "      <td>...</td>\n",
       "      <td>36.000000</td>\n",
       "      <td>NaN</td>\n",
       "      <td>NaN</td>\n",
       "      <td>NaN</td>\n",
       "      <td>NaN</td>\n",
       "      <td>NaN</td>\n",
       "      <td>NaN</td>\n",
       "      <td>1.222185e+07</td>\n",
       "      <td>NaN</td>\n",
       "      <td>NaN</td>\n",
       "    </tr>\n",
       "  </tbody>\n",
       "</table>\n",
       "<p>11 rows × 23 columns</p>\n",
       "</div>"
      ],
      "text/plain": [
       "                  ID       ZIPCODE           AGE MARITAL_STATUS  GENDER  \\\n",
       "count   34508.000000  34417.000000  13318.000000           9940   34015   \n",
       "unique           NaN           NaN           NaN              6       5   \n",
       "top              NaN           NaN           NaN        Married  Female   \n",
       "freq             NaN           NaN           NaN           6547   16678   \n",
       "mean    17254.500000  56161.625970     45.541973            NaN     NaN   \n",
       "std      9961.745881  29966.704506     18.148996            NaN     NaN   \n",
       "min         1.000000    211.000000      1.000000            NaN     NaN   \n",
       "25%      8627.750000  29927.000000     31.000000            NaN     NaN   \n",
       "50%     17254.500000  58108.000000     42.000000            NaN     NaN   \n",
       "75%     25881.250000  90265.000000     58.000000            NaN     NaN   \n",
       "max     34508.000000  99928.000000    110.000000            NaN     NaN   \n",
       "\n",
       "       MEMBERSHIP_IND ALUMNUS_IND PARENT_IND HAS_INVOLVEMENT_IND  \\\n",
       "count           34508       34508      34508               34508   \n",
       "unique              1           2          2                   2   \n",
       "top                 N           N          N                   N   \n",
       "freq            34508       26086      31807               26533   \n",
       "mean              NaN         NaN        NaN                 NaN   \n",
       "std               NaN         NaN        NaN                 NaN   \n",
       "min               NaN         NaN        NaN                 NaN   \n",
       "25%               NaN         NaN        NaN                 NaN   \n",
       "50%               NaN         NaN        NaN                 NaN   \n",
       "75%               NaN         NaN        NaN                 NaN   \n",
       "max               NaN         NaN        NaN                 NaN   \n",
       "\n",
       "          WEALTH_RATING  ...     CON_YEARS PrevFYGiving PrevFY1Giving  \\\n",
       "count              2709  ...  34508.000000        34508         34508   \n",
       "unique                8  ...           NaN          188           189   \n",
       "top     $50,000-$99,999  ...           NaN           $0            $0   \n",
       "freq                645  ...           NaN        32139         32032   \n",
       "mean                NaN  ...      1.137475          NaN           NaN   \n",
       "std                 NaN  ...      2.423034          NaN           NaN   \n",
       "min                 NaN  ...      0.000000          NaN           NaN   \n",
       "25%                 NaN  ...      0.000000          NaN           NaN   \n",
       "50%                 NaN  ...      0.000000          NaN           NaN   \n",
       "75%                 NaN  ...      1.000000          NaN           NaN   \n",
       "max                 NaN  ...     36.000000          NaN           NaN   \n",
       "\n",
       "        PrevFY2Giving PrevFY3Giving PrevFY4Giving CurrFYGiving   TotalGiving  \\\n",
       "count           34508         34508         34508        34508  3.450800e+04   \n",
       "unique            188           177           182          166           NaN   \n",
       "top                $0            $0            $0           $0           NaN   \n",
       "freq            31971         32362         32544        32599           NaN   \n",
       "mean              NaN           NaN           NaN          NaN  2.363534e+03   \n",
       "std               NaN           NaN           NaN          NaN  1.138014e+05   \n",
       "min               NaN           NaN           NaN          NaN  0.000000e+00   \n",
       "25%               NaN           NaN           NaN          NaN  0.000000e+00   \n",
       "50%               NaN           NaN           NaN          NaN  2.500000e+01   \n",
       "75%               NaN           NaN           NaN          NaN  1.440000e+02   \n",
       "max               NaN           NaN           NaN          NaN  1.222185e+07   \n",
       "\n",
       "       DONOR_IND  BIRTH_DATE  \n",
       "count      34508       13318  \n",
       "unique         2        4812  \n",
       "top            Y  1990-09-10  \n",
       "freq       21433          20  \n",
       "mean         NaN         NaN  \n",
       "std          NaN         NaN  \n",
       "min          NaN         NaN  \n",
       "25%          NaN         NaN  \n",
       "50%          NaN         NaN  \n",
       "75%          NaN         NaN  \n",
       "max          NaN         NaN  \n",
       "\n",
       "[11 rows x 23 columns]"
      ]
     },
     "execution_count": 4,
     "metadata": {},
     "output_type": "execute_result"
    }
   ],
   "source": [
    "df.describe(include='all') "
   ]
  },
  {
   "cell_type": "markdown",
   "metadata": {},
   "source": [
    "### Data Preprocessing"
   ]
  },
  {
   "cell_type": "markdown",
   "metadata": {},
   "source": [
    "Summary:\n",
    "1. Check and remove duplicates\n",
    "2. Removing irrelevant or duplicate date points\n",
    "3. Change categorical variables to numerical\n",
    "4. Check missing data"
   ]
  },
  {
   "cell_type": "markdown",
   "metadata": {},
   "source": [
    "#### 1) Check for duplicates"
   ]
  },
  {
   "cell_type": "code",
   "execution_count": 5,
   "metadata": {},
   "outputs": [
    {
     "name": "stdout",
     "output_type": "stream",
     "text": [
      "Number of duplicate rows = 0\n"
     ]
    }
   ],
   "source": [
    "dups = df.duplicated()\n",
    "print('Number of duplicate rows = %d' % (dups.sum()))  # counts the number of True's   "
   ]
  },
  {
   "cell_type": "markdown",
   "metadata": {},
   "source": [
    "#### 2) Removing irrelevant or duplicate date points"
   ]
  },
  {
   "cell_type": "code",
   "execution_count": 6,
   "metadata": {},
   "outputs": [
    {
     "data": {
      "text/plain": [
       "N    34508\n",
       "Name: MEMBERSHIP_IND, dtype: int64"
      ]
     },
     "execution_count": 6,
     "metadata": {},
     "output_type": "execute_result"
    }
   ],
   "source": [
    "df['MEMBERSHIP_IND'].value_counts()"
   ]
  },
  {
   "cell_type": "code",
   "execution_count": 7,
   "metadata": {},
   "outputs": [
    {
     "data": {
      "text/plain": [
       "34508"
      ]
     },
     "execution_count": 7,
     "metadata": {},
     "output_type": "execute_result"
    }
   ],
   "source": [
    "len(df['BIRTH_DATE'])"
   ]
  },
  {
   "cell_type": "code",
   "execution_count": 8,
   "metadata": {},
   "outputs": [
    {
     "data": {
      "text/plain": [
       "34508"
      ]
     },
     "execution_count": 8,
     "metadata": {},
     "output_type": "execute_result"
    }
   ],
   "source": [
    "len(df['AGE'])"
   ]
  },
  {
   "cell_type": "code",
   "execution_count": 9,
   "metadata": {},
   "outputs": [
    {
     "data": {
      "text/html": [
       "<div>\n",
       "<style scoped>\n",
       "    .dataframe tbody tr th:only-of-type {\n",
       "        vertical-align: middle;\n",
       "    }\n",
       "\n",
       "    .dataframe tbody tr th {\n",
       "        vertical-align: top;\n",
       "    }\n",
       "\n",
       "    .dataframe thead th {\n",
       "        text-align: right;\n",
       "    }\n",
       "</style>\n",
       "<table border=\"1\" class=\"dataframe\">\n",
       "  <thead>\n",
       "    <tr style=\"text-align: right;\">\n",
       "      <th></th>\n",
       "      <th>ZIPCODE</th>\n",
       "      <th>AGE</th>\n",
       "      <th>MARITAL_STATUS</th>\n",
       "      <th>GENDER</th>\n",
       "      <th>ALUMNUS_IND</th>\n",
       "      <th>PARENT_IND</th>\n",
       "      <th>HAS_INVOLVEMENT_IND</th>\n",
       "      <th>WEALTH_RATING</th>\n",
       "      <th>DEGREE_LEVEL</th>\n",
       "      <th>PREF_ADDRESS_TYPE</th>\n",
       "      <th>EMAIL_PRESENT_IND</th>\n",
       "      <th>CON_YEARS</th>\n",
       "      <th>PrevFYGiving</th>\n",
       "      <th>PrevFY1Giving</th>\n",
       "      <th>PrevFY2Giving</th>\n",
       "      <th>PrevFY3Giving</th>\n",
       "      <th>PrevFY4Giving</th>\n",
       "      <th>CurrFYGiving</th>\n",
       "      <th>TotalGiving</th>\n",
       "      <th>DONOR_IND</th>\n",
       "    </tr>\n",
       "  </thead>\n",
       "  <tbody>\n",
       "    <tr>\n",
       "      <th>0</th>\n",
       "      <td>23187.0</td>\n",
       "      <td>NaN</td>\n",
       "      <td>Married</td>\n",
       "      <td>Female</td>\n",
       "      <td>N</td>\n",
       "      <td>N</td>\n",
       "      <td>N</td>\n",
       "      <td>NaN</td>\n",
       "      <td>NaN</td>\n",
       "      <td>HOME</td>\n",
       "      <td>N</td>\n",
       "      <td>1</td>\n",
       "      <td>$0</td>\n",
       "      <td>$0</td>\n",
       "      <td>$0</td>\n",
       "      <td>$0</td>\n",
       "      <td>$0</td>\n",
       "      <td>$0</td>\n",
       "      <td>10.0</td>\n",
       "      <td>Y</td>\n",
       "    </tr>\n",
       "    <tr>\n",
       "      <th>1</th>\n",
       "      <td>77643.0</td>\n",
       "      <td>33.0</td>\n",
       "      <td>NaN</td>\n",
       "      <td>Female</td>\n",
       "      <td>Y</td>\n",
       "      <td>N</td>\n",
       "      <td>Y</td>\n",
       "      <td>NaN</td>\n",
       "      <td>UB</td>\n",
       "      <td>NaN</td>\n",
       "      <td>Y</td>\n",
       "      <td>0</td>\n",
       "      <td>$0</td>\n",
       "      <td>$0</td>\n",
       "      <td>$0</td>\n",
       "      <td>$0</td>\n",
       "      <td>$0</td>\n",
       "      <td>$0</td>\n",
       "      <td>2100.0</td>\n",
       "      <td>Y</td>\n",
       "    </tr>\n",
       "    <tr>\n",
       "      <th>2</th>\n",
       "      <td>NaN</td>\n",
       "      <td>NaN</td>\n",
       "      <td>Married</td>\n",
       "      <td>Female</td>\n",
       "      <td>N</td>\n",
       "      <td>N</td>\n",
       "      <td>N</td>\n",
       "      <td>NaN</td>\n",
       "      <td>NaN</td>\n",
       "      <td>HOME</td>\n",
       "      <td>N</td>\n",
       "      <td>1</td>\n",
       "      <td>$0</td>\n",
       "      <td>$0</td>\n",
       "      <td>$0</td>\n",
       "      <td>$0</td>\n",
       "      <td>$0</td>\n",
       "      <td>$200</td>\n",
       "      <td>200.0</td>\n",
       "      <td>Y</td>\n",
       "    </tr>\n",
       "    <tr>\n",
       "      <th>3</th>\n",
       "      <td>47141.0</td>\n",
       "      <td>31.0</td>\n",
       "      <td>NaN</td>\n",
       "      <td>Female</td>\n",
       "      <td>Y</td>\n",
       "      <td>N</td>\n",
       "      <td>Y</td>\n",
       "      <td>NaN</td>\n",
       "      <td>NaN</td>\n",
       "      <td>HOME</td>\n",
       "      <td>Y</td>\n",
       "      <td>0</td>\n",
       "      <td>$0</td>\n",
       "      <td>$0</td>\n",
       "      <td>$0</td>\n",
       "      <td>$0</td>\n",
       "      <td>$0</td>\n",
       "      <td>$0</td>\n",
       "      <td>0.0</td>\n",
       "      <td>N</td>\n",
       "    </tr>\n",
       "    <tr>\n",
       "      <th>4</th>\n",
       "      <td>92555.0</td>\n",
       "      <td>68.0</td>\n",
       "      <td>NaN</td>\n",
       "      <td>Female</td>\n",
       "      <td>N</td>\n",
       "      <td>N</td>\n",
       "      <td>N</td>\n",
       "      <td>NaN</td>\n",
       "      <td>NaN</td>\n",
       "      <td>HOME</td>\n",
       "      <td>Y</td>\n",
       "      <td>0</td>\n",
       "      <td>$0</td>\n",
       "      <td>$0</td>\n",
       "      <td>$0</td>\n",
       "      <td>$0</td>\n",
       "      <td>$0</td>\n",
       "      <td>$0</td>\n",
       "      <td>505.0</td>\n",
       "      <td>Y</td>\n",
       "    </tr>\n",
       "  </tbody>\n",
       "</table>\n",
       "</div>"
      ],
      "text/plain": [
       "   ZIPCODE   AGE MARITAL_STATUS  GENDER ALUMNUS_IND PARENT_IND  \\\n",
       "0  23187.0   NaN        Married  Female           N          N   \n",
       "1  77643.0  33.0            NaN  Female           Y          N   \n",
       "2      NaN   NaN        Married  Female           N          N   \n",
       "3  47141.0  31.0            NaN  Female           Y          N   \n",
       "4  92555.0  68.0            NaN  Female           N          N   \n",
       "\n",
       "  HAS_INVOLVEMENT_IND WEALTH_RATING DEGREE_LEVEL PREF_ADDRESS_TYPE  \\\n",
       "0                   N           NaN          NaN              HOME   \n",
       "1                   Y           NaN           UB               NaN   \n",
       "2                   N           NaN          NaN              HOME   \n",
       "3                   Y           NaN          NaN              HOME   \n",
       "4                   N           NaN          NaN              HOME   \n",
       "\n",
       "  EMAIL_PRESENT_IND  CON_YEARS PrevFYGiving PrevFY1Giving PrevFY2Giving  \\\n",
       "0                 N          1           $0            $0            $0   \n",
       "1                 Y          0           $0            $0            $0   \n",
       "2                 N          1           $0            $0            $0   \n",
       "3                 Y          0           $0            $0            $0   \n",
       "4                 Y          0           $0            $0            $0   \n",
       "\n",
       "  PrevFY3Giving PrevFY4Giving CurrFYGiving  TotalGiving DONOR_IND  \n",
       "0            $0            $0           $0         10.0         Y  \n",
       "1            $0            $0           $0       2100.0         Y  \n",
       "2            $0            $0         $200        200.0         Y  \n",
       "3            $0            $0           $0          0.0         N  \n",
       "4            $0            $0           $0        505.0         Y  "
      ]
     },
     "execution_count": 9,
     "metadata": {},
     "output_type": "execute_result"
    }
   ],
   "source": [
    "df.drop(['ID','BIRTH_DATE', 'MEMBERSHIP_IND'],\n",
    "        axis=1, inplace=True) ## set axis=0 to remove rows, axis=1 to remove columns\n",
    "df.head()"
   ]
  },
  {
   "cell_type": "markdown",
   "metadata": {},
   "source": [
    "Removed the following features:\n",
    "\n",
    "    ID - Not meaningful\n",
    "    MEMBERSHIP_IND - Not meaningful, only has negative value or null\n",
    "    BIRTH_DATE - redundant with AGE feature\n"
   ]
  },
  {
   "cell_type": "markdown",
   "metadata": {},
   "source": [
    "#### 3) Change categorical variables to correct numerical format"
   ]
  },
  {
   "cell_type": "code",
   "execution_count": 10,
   "metadata": {},
   "outputs": [
    {
     "data": {
      "text/plain": [
       "N    26086\n",
       "Y     8422\n",
       "Name: ALUMNUS_IND, dtype: int64"
      ]
     },
     "execution_count": 10,
     "metadata": {},
     "output_type": "execute_result"
    }
   ],
   "source": [
    "df['ALUMNUS_IND'].value_counts()"
   ]
  },
  {
   "cell_type": "code",
   "execution_count": 11,
   "metadata": {},
   "outputs": [
    {
     "data": {
      "text/plain": [
       "N    31807\n",
       "Y     2701\n",
       "Name: PARENT_IND, dtype: int64"
      ]
     },
     "execution_count": 11,
     "metadata": {},
     "output_type": "execute_result"
    }
   ],
   "source": [
    "df['PARENT_IND'].value_counts()"
   ]
  },
  {
   "cell_type": "code",
   "execution_count": 12,
   "metadata": {},
   "outputs": [
    {
     "data": {
      "text/plain": [
       "N    26533\n",
       "Y     7975\n",
       "Name: HAS_INVOLVEMENT_IND, dtype: int64"
      ]
     },
     "execution_count": 12,
     "metadata": {},
     "output_type": "execute_result"
    }
   ],
   "source": [
    "df['HAS_INVOLVEMENT_IND'].value_counts()"
   ]
  },
  {
   "cell_type": "code",
   "execution_count": 13,
   "metadata": {},
   "outputs": [
    {
     "data": {
      "text/plain": [
       "N    23221\n",
       "Y    11287\n",
       "Name: EMAIL_PRESENT_IND, dtype: int64"
      ]
     },
     "execution_count": 13,
     "metadata": {},
     "output_type": "execute_result"
    }
   ],
   "source": [
    "df['EMAIL_PRESENT_IND'].value_counts()"
   ]
  },
  {
   "cell_type": "code",
   "execution_count": 14,
   "metadata": {},
   "outputs": [
    {
     "data": {
      "text/plain": [
       "Y    21433\n",
       "N    13075\n",
       "Name: DONOR_IND, dtype: int64"
      ]
     },
     "execution_count": 14,
     "metadata": {},
     "output_type": "execute_result"
    }
   ],
   "source": [
    "df['DONOR_IND'].value_counts()"
   ]
  },
  {
   "cell_type": "code",
   "execution_count": 15,
   "metadata": {},
   "outputs": [],
   "source": [
    "#change to numerical\n",
    "df['ALUMNUS_IND'] = np.where(df['ALUMNUS_IND'] == \"Y\", 1, 0)\n",
    "df['PARENT_IND'] = np.where(df['PARENT_IND'] == \"Y\", 1, 0)\n",
    "df['HAS_INVOLVEMENT_IND'] = np.where(df['HAS_INVOLVEMENT_IND'] == \"Y\", 1, 0)\n",
    "df['EMAIL_PRESENT_IND'] = np.where(df['EMAIL_PRESENT_IND'] == \"Y\", 1, 0)\n",
    "df['DONOR_IND'] = np.where(df['DONOR_IND'] == \"Y\", 1, 0)"
   ]
  },
  {
   "cell_type": "code",
   "execution_count": 16,
   "metadata": {},
   "outputs": [
    {
     "data": {
      "text/plain": [
       "0    26086\n",
       "1     8422\n",
       "Name: ALUMNUS_IND, dtype: int64"
      ]
     },
     "execution_count": 16,
     "metadata": {},
     "output_type": "execute_result"
    }
   ],
   "source": [
    "#check\n",
    "df['ALUMNUS_IND'].value_counts()"
   ]
  },
  {
   "cell_type": "code",
   "execution_count": 17,
   "metadata": {},
   "outputs": [
    {
     "data": {
      "text/plain": [
       "PrevFYGiving     $99,954\n",
       "PrevFY1Giving        $96\n",
       "PrevFY2Giving       $995\n",
       "PrevFY3Giving        $96\n",
       "PrevFY4Giving       $992\n",
       "CurrFYGiving        $988\n",
       "dtype: object"
      ]
     },
     "execution_count": 17,
     "metadata": {},
     "output_type": "execute_result"
    }
   ],
   "source": [
    "Giving= df[['PrevFYGiving', 'PrevFY1Giving', 'PrevFY2Giving', 'PrevFY3Giving', 'PrevFY4Giving', 'CurrFYGiving']].copy()\n",
    "Giving.max()"
   ]
  },
  {
   "cell_type": "code",
   "execution_count": 18,
   "metadata": {},
   "outputs": [],
   "source": [
    "#remove commas\n",
    "df = df.replace(',','', regex=True)"
   ]
  },
  {
   "cell_type": "code",
   "execution_count": 19,
   "metadata": {},
   "outputs": [],
   "source": [
    "#remove $\n",
    "df['PrevFYGiving'] = df['PrevFYGiving'].str[1:]\n",
    "df['PrevFY1Giving'] = df['PrevFY1Giving'].str[1:]\n",
    "df['PrevFY2Giving'] = df['PrevFY2Giving'].str[1:]\n",
    "df['PrevFY3Giving'] = df['PrevFY3Giving'].str[1:]\n",
    "df['PrevFY4Giving'] = df['PrevFY4Giving'].str[1:]\n",
    "df['CurrFYGiving'] = df['CurrFYGiving'].str[1:]"
   ]
  },
  {
   "cell_type": "code",
   "execution_count": 20,
   "metadata": {},
   "outputs": [],
   "source": [
    "#change to numemrical\n",
    "df['PrevFYGiving'] = df['PrevFYGiving'].apply(pd.to_numeric,errors='coerce')\n",
    "df['PrevFY1Giving'] = df['PrevFY1Giving'].apply(pd.to_numeric,errors='coerce')\n",
    "df['PrevFY2Giving'] = df['PrevFY2Giving'].apply(pd.to_numeric,errors='coerce')\n",
    "df['PrevFY3Giving'] = df['PrevFY3Giving'].apply(pd.to_numeric,errors='coerce')\n",
    "df['PrevFY4Giving'] = df['PrevFY4Giving'].apply(pd.to_numeric,errors='coerce')\n",
    "df['CurrFYGiving'] = df['CurrFYGiving'].apply(pd.to_numeric,errors='coerce')"
   ]
  },
  {
   "cell_type": "code",
   "execution_count": 21,
   "metadata": {},
   "outputs": [
    {
     "data": {
      "text/plain": [
       "90265.0    5848\n",
       "70718.0       6\n",
       "29603.0       5\n",
       "13350.0       5\n",
       "4856.0        5\n",
       "           ... \n",
       "3754.0        1\n",
       "16216.0       1\n",
       "39572.0       1\n",
       "29318.0       1\n",
       "10015.0       1\n",
       "Name: ZIPCODE, Length: 20991, dtype: int64"
      ]
     },
     "execution_count": 21,
     "metadata": {},
     "output_type": "execute_result"
    }
   ],
   "source": [
    "df['ZIPCODE'].value_counts()"
   ]
  },
  {
   "cell_type": "markdown",
   "metadata": {},
   "source": [
    "90265 is the zipcode for Malibu, CA. As it is the most significant, I will update this attribute to binary fields for in Malibu or not. I chose this split rather than converting each zipcode to states or have each be a separate feature to avoid too many dimensions for later computation."
   ]
  },
  {
   "cell_type": "code",
   "execution_count": 22,
   "metadata": {},
   "outputs": [],
   "source": [
    "df['MalibuCA'] = np.where(df['ZIPCODE'] == 90265.0, 1, 0)"
   ]
  },
  {
   "cell_type": "code",
   "execution_count": 23,
   "metadata": {},
   "outputs": [
    {
     "data": {
      "text/html": [
       "<div>\n",
       "<style scoped>\n",
       "    .dataframe tbody tr th:only-of-type {\n",
       "        vertical-align: middle;\n",
       "    }\n",
       "\n",
       "    .dataframe tbody tr th {\n",
       "        vertical-align: top;\n",
       "    }\n",
       "\n",
       "    .dataframe thead th {\n",
       "        text-align: right;\n",
       "    }\n",
       "</style>\n",
       "<table border=\"1\" class=\"dataframe\">\n",
       "  <thead>\n",
       "    <tr style=\"text-align: right;\">\n",
       "      <th></th>\n",
       "      <th>ZIPCODE</th>\n",
       "      <th>AGE</th>\n",
       "      <th>MARITAL_STATUS</th>\n",
       "      <th>GENDER</th>\n",
       "      <th>ALUMNUS_IND</th>\n",
       "      <th>PARENT_IND</th>\n",
       "      <th>HAS_INVOLVEMENT_IND</th>\n",
       "      <th>WEALTH_RATING</th>\n",
       "      <th>DEGREE_LEVEL</th>\n",
       "      <th>PREF_ADDRESS_TYPE</th>\n",
       "      <th>...</th>\n",
       "      <th>CON_YEARS</th>\n",
       "      <th>PrevFYGiving</th>\n",
       "      <th>PrevFY1Giving</th>\n",
       "      <th>PrevFY2Giving</th>\n",
       "      <th>PrevFY3Giving</th>\n",
       "      <th>PrevFY4Giving</th>\n",
       "      <th>CurrFYGiving</th>\n",
       "      <th>TotalGiving</th>\n",
       "      <th>DONOR_IND</th>\n",
       "      <th>MalibuCA</th>\n",
       "    </tr>\n",
       "  </thead>\n",
       "  <tbody>\n",
       "    <tr>\n",
       "      <th>6</th>\n",
       "      <td>90265.0</td>\n",
       "      <td>NaN</td>\n",
       "      <td>NaN</td>\n",
       "      <td>Male</td>\n",
       "      <td>0</td>\n",
       "      <td>0</td>\n",
       "      <td>0</td>\n",
       "      <td>NaN</td>\n",
       "      <td>NaN</td>\n",
       "      <td>HOME</td>\n",
       "      <td>...</td>\n",
       "      <td>3</td>\n",
       "      <td>0</td>\n",
       "      <td>0</td>\n",
       "      <td>0</td>\n",
       "      <td>0</td>\n",
       "      <td>0</td>\n",
       "      <td>0</td>\n",
       "      <td>0.0</td>\n",
       "      <td>0</td>\n",
       "      <td>1</td>\n",
       "    </tr>\n",
       "    <tr>\n",
       "      <th>12</th>\n",
       "      <td>90265.0</td>\n",
       "      <td>NaN</td>\n",
       "      <td>NaN</td>\n",
       "      <td>Male</td>\n",
       "      <td>0</td>\n",
       "      <td>0</td>\n",
       "      <td>0</td>\n",
       "      <td>NaN</td>\n",
       "      <td>NaN</td>\n",
       "      <td>HOME</td>\n",
       "      <td>...</td>\n",
       "      <td>1</td>\n",
       "      <td>0</td>\n",
       "      <td>0</td>\n",
       "      <td>0</td>\n",
       "      <td>0</td>\n",
       "      <td>0</td>\n",
       "      <td>0</td>\n",
       "      <td>0.0</td>\n",
       "      <td>0</td>\n",
       "      <td>1</td>\n",
       "    </tr>\n",
       "    <tr>\n",
       "      <th>16</th>\n",
       "      <td>90265.0</td>\n",
       "      <td>NaN</td>\n",
       "      <td>NaN</td>\n",
       "      <td>Male</td>\n",
       "      <td>0</td>\n",
       "      <td>0</td>\n",
       "      <td>0</td>\n",
       "      <td>NaN</td>\n",
       "      <td>NaN</td>\n",
       "      <td>HOME</td>\n",
       "      <td>...</td>\n",
       "      <td>1</td>\n",
       "      <td>0</td>\n",
       "      <td>0</td>\n",
       "      <td>0</td>\n",
       "      <td>0</td>\n",
       "      <td>0</td>\n",
       "      <td>0</td>\n",
       "      <td>0.0</td>\n",
       "      <td>0</td>\n",
       "      <td>1</td>\n",
       "    </tr>\n",
       "    <tr>\n",
       "      <th>22</th>\n",
       "      <td>90265.0</td>\n",
       "      <td>61.0</td>\n",
       "      <td>NaN</td>\n",
       "      <td>Female</td>\n",
       "      <td>1</td>\n",
       "      <td>0</td>\n",
       "      <td>1</td>\n",
       "      <td>NaN</td>\n",
       "      <td>GP</td>\n",
       "      <td>HOME</td>\n",
       "      <td>...</td>\n",
       "      <td>2</td>\n",
       "      <td>0</td>\n",
       "      <td>0</td>\n",
       "      <td>0</td>\n",
       "      <td>0</td>\n",
       "      <td>0</td>\n",
       "      <td>0</td>\n",
       "      <td>65.0</td>\n",
       "      <td>1</td>\n",
       "      <td>1</td>\n",
       "    </tr>\n",
       "    <tr>\n",
       "      <th>31</th>\n",
       "      <td>90265.0</td>\n",
       "      <td>NaN</td>\n",
       "      <td>NaN</td>\n",
       "      <td>Male</td>\n",
       "      <td>0</td>\n",
       "      <td>0</td>\n",
       "      <td>0</td>\n",
       "      <td>NaN</td>\n",
       "      <td>NaN</td>\n",
       "      <td>HOME</td>\n",
       "      <td>...</td>\n",
       "      <td>1</td>\n",
       "      <td>51</td>\n",
       "      <td>0</td>\n",
       "      <td>0</td>\n",
       "      <td>0</td>\n",
       "      <td>0</td>\n",
       "      <td>0</td>\n",
       "      <td>51.0</td>\n",
       "      <td>1</td>\n",
       "      <td>1</td>\n",
       "    </tr>\n",
       "    <tr>\n",
       "      <th>...</th>\n",
       "      <td>...</td>\n",
       "      <td>...</td>\n",
       "      <td>...</td>\n",
       "      <td>...</td>\n",
       "      <td>...</td>\n",
       "      <td>...</td>\n",
       "      <td>...</td>\n",
       "      <td>...</td>\n",
       "      <td>...</td>\n",
       "      <td>...</td>\n",
       "      <td>...</td>\n",
       "      <td>...</td>\n",
       "      <td>...</td>\n",
       "      <td>...</td>\n",
       "      <td>...</td>\n",
       "      <td>...</td>\n",
       "      <td>...</td>\n",
       "      <td>...</td>\n",
       "      <td>...</td>\n",
       "      <td>...</td>\n",
       "      <td>...</td>\n",
       "    </tr>\n",
       "    <tr>\n",
       "      <th>34454</th>\n",
       "      <td>90265.0</td>\n",
       "      <td>NaN</td>\n",
       "      <td>NaN</td>\n",
       "      <td>Male</td>\n",
       "      <td>0</td>\n",
       "      <td>0</td>\n",
       "      <td>0</td>\n",
       "      <td>$50000-$99999</td>\n",
       "      <td>NaN</td>\n",
       "      <td>NaN</td>\n",
       "      <td>...</td>\n",
       "      <td>7</td>\n",
       "      <td>0</td>\n",
       "      <td>80</td>\n",
       "      <td>80</td>\n",
       "      <td>0</td>\n",
       "      <td>50</td>\n",
       "      <td>0</td>\n",
       "      <td>210.0</td>\n",
       "      <td>1</td>\n",
       "      <td>1</td>\n",
       "    </tr>\n",
       "    <tr>\n",
       "      <th>34462</th>\n",
       "      <td>90265.0</td>\n",
       "      <td>35.0</td>\n",
       "      <td>NaN</td>\n",
       "      <td>Female</td>\n",
       "      <td>0</td>\n",
       "      <td>0</td>\n",
       "      <td>0</td>\n",
       "      <td>$1-$24999</td>\n",
       "      <td>NaN</td>\n",
       "      <td>HOME</td>\n",
       "      <td>...</td>\n",
       "      <td>0</td>\n",
       "      <td>0</td>\n",
       "      <td>0</td>\n",
       "      <td>0</td>\n",
       "      <td>0</td>\n",
       "      <td>0</td>\n",
       "      <td>0</td>\n",
       "      <td>0.0</td>\n",
       "      <td>0</td>\n",
       "      <td>1</td>\n",
       "    </tr>\n",
       "    <tr>\n",
       "      <th>34473</th>\n",
       "      <td>90265.0</td>\n",
       "      <td>25.0</td>\n",
       "      <td>NaN</td>\n",
       "      <td>Male</td>\n",
       "      <td>0</td>\n",
       "      <td>1</td>\n",
       "      <td>0</td>\n",
       "      <td>NaN</td>\n",
       "      <td>NaN</td>\n",
       "      <td>CAMP</td>\n",
       "      <td>...</td>\n",
       "      <td>0</td>\n",
       "      <td>1</td>\n",
       "      <td>0</td>\n",
       "      <td>0</td>\n",
       "      <td>0</td>\n",
       "      <td>0</td>\n",
       "      <td>0</td>\n",
       "      <td>280.0</td>\n",
       "      <td>1</td>\n",
       "      <td>1</td>\n",
       "    </tr>\n",
       "    <tr>\n",
       "      <th>34498</th>\n",
       "      <td>90265.0</td>\n",
       "      <td>NaN</td>\n",
       "      <td>NaN</td>\n",
       "      <td>Male</td>\n",
       "      <td>0</td>\n",
       "      <td>0</td>\n",
       "      <td>0</td>\n",
       "      <td>NaN</td>\n",
       "      <td>NaN</td>\n",
       "      <td>HOME</td>\n",
       "      <td>...</td>\n",
       "      <td>1</td>\n",
       "      <td>20</td>\n",
       "      <td>0</td>\n",
       "      <td>0</td>\n",
       "      <td>0</td>\n",
       "      <td>0</td>\n",
       "      <td>0</td>\n",
       "      <td>20.0</td>\n",
       "      <td>1</td>\n",
       "      <td>1</td>\n",
       "    </tr>\n",
       "    <tr>\n",
       "      <th>34499</th>\n",
       "      <td>90265.0</td>\n",
       "      <td>57.0</td>\n",
       "      <td>NaN</td>\n",
       "      <td>Female</td>\n",
       "      <td>0</td>\n",
       "      <td>0</td>\n",
       "      <td>0</td>\n",
       "      <td>NaN</td>\n",
       "      <td>NaN</td>\n",
       "      <td>HOME</td>\n",
       "      <td>...</td>\n",
       "      <td>0</td>\n",
       "      <td>0</td>\n",
       "      <td>0</td>\n",
       "      <td>0</td>\n",
       "      <td>0</td>\n",
       "      <td>0</td>\n",
       "      <td>0</td>\n",
       "      <td>25.0</td>\n",
       "      <td>1</td>\n",
       "      <td>1</td>\n",
       "    </tr>\n",
       "  </tbody>\n",
       "</table>\n",
       "<p>5848 rows × 21 columns</p>\n",
       "</div>"
      ],
      "text/plain": [
       "       ZIPCODE   AGE MARITAL_STATUS  GENDER  ALUMNUS_IND  PARENT_IND  \\\n",
       "6      90265.0   NaN            NaN    Male            0           0   \n",
       "12     90265.0   NaN            NaN    Male            0           0   \n",
       "16     90265.0   NaN            NaN    Male            0           0   \n",
       "22     90265.0  61.0            NaN  Female            1           0   \n",
       "31     90265.0   NaN            NaN    Male            0           0   \n",
       "...        ...   ...            ...     ...          ...         ...   \n",
       "34454  90265.0   NaN            NaN    Male            0           0   \n",
       "34462  90265.0  35.0            NaN  Female            0           0   \n",
       "34473  90265.0  25.0            NaN    Male            0           1   \n",
       "34498  90265.0   NaN            NaN    Male            0           0   \n",
       "34499  90265.0  57.0            NaN  Female            0           0   \n",
       "\n",
       "       HAS_INVOLVEMENT_IND  WEALTH_RATING DEGREE_LEVEL PREF_ADDRESS_TYPE  ...  \\\n",
       "6                        0            NaN          NaN              HOME  ...   \n",
       "12                       0            NaN          NaN              HOME  ...   \n",
       "16                       0            NaN          NaN              HOME  ...   \n",
       "22                       1            NaN           GP              HOME  ...   \n",
       "31                       0            NaN          NaN              HOME  ...   \n",
       "...                    ...            ...          ...               ...  ...   \n",
       "34454                    0  $50000-$99999          NaN               NaN  ...   \n",
       "34462                    0      $1-$24999          NaN              HOME  ...   \n",
       "34473                    0            NaN          NaN              CAMP  ...   \n",
       "34498                    0            NaN          NaN              HOME  ...   \n",
       "34499                    0            NaN          NaN              HOME  ...   \n",
       "\n",
       "       CON_YEARS  PrevFYGiving  PrevFY1Giving  PrevFY2Giving  PrevFY3Giving  \\\n",
       "6              3             0              0              0              0   \n",
       "12             1             0              0              0              0   \n",
       "16             1             0              0              0              0   \n",
       "22             2             0              0              0              0   \n",
       "31             1            51              0              0              0   \n",
       "...          ...           ...            ...            ...            ...   \n",
       "34454          7             0             80             80              0   \n",
       "34462          0             0              0              0              0   \n",
       "34473          0             1              0              0              0   \n",
       "34498          1            20              0              0              0   \n",
       "34499          0             0              0              0              0   \n",
       "\n",
       "       PrevFY4Giving  CurrFYGiving  TotalGiving  DONOR_IND  MalibuCA  \n",
       "6                  0             0          0.0          0         1  \n",
       "12                 0             0          0.0          0         1  \n",
       "16                 0             0          0.0          0         1  \n",
       "22                 0             0         65.0          1         1  \n",
       "31                 0             0         51.0          1         1  \n",
       "...              ...           ...          ...        ...       ...  \n",
       "34454             50             0        210.0          1         1  \n",
       "34462              0             0          0.0          0         1  \n",
       "34473              0             0        280.0          1         1  \n",
       "34498              0             0         20.0          1         1  \n",
       "34499              0             0         25.0          1         1  \n",
       "\n",
       "[5848 rows x 21 columns]"
      ]
     },
     "execution_count": 23,
     "metadata": {},
     "output_type": "execute_result"
    }
   ],
   "source": [
    "#check\n",
    "df.loc[df['ZIPCODE'] == 90265]"
   ]
  },
  {
   "cell_type": "code",
   "execution_count": 24,
   "metadata": {},
   "outputs": [
    {
     "data": {
      "text/html": [
       "<div>\n",
       "<style scoped>\n",
       "    .dataframe tbody tr th:only-of-type {\n",
       "        vertical-align: middle;\n",
       "    }\n",
       "\n",
       "    .dataframe tbody tr th {\n",
       "        vertical-align: top;\n",
       "    }\n",
       "\n",
       "    .dataframe thead th {\n",
       "        text-align: right;\n",
       "    }\n",
       "</style>\n",
       "<table border=\"1\" class=\"dataframe\">\n",
       "  <thead>\n",
       "    <tr style=\"text-align: right;\">\n",
       "      <th></th>\n",
       "      <th>AGE</th>\n",
       "      <th>MARITAL_STATUS</th>\n",
       "      <th>GENDER</th>\n",
       "      <th>ALUMNUS_IND</th>\n",
       "      <th>PARENT_IND</th>\n",
       "      <th>HAS_INVOLVEMENT_IND</th>\n",
       "      <th>WEALTH_RATING</th>\n",
       "      <th>DEGREE_LEVEL</th>\n",
       "      <th>PREF_ADDRESS_TYPE</th>\n",
       "      <th>EMAIL_PRESENT_IND</th>\n",
       "      <th>CON_YEARS</th>\n",
       "      <th>PrevFYGiving</th>\n",
       "      <th>PrevFY1Giving</th>\n",
       "      <th>PrevFY2Giving</th>\n",
       "      <th>PrevFY3Giving</th>\n",
       "      <th>PrevFY4Giving</th>\n",
       "      <th>CurrFYGiving</th>\n",
       "      <th>TotalGiving</th>\n",
       "      <th>DONOR_IND</th>\n",
       "      <th>MalibuCA</th>\n",
       "    </tr>\n",
       "  </thead>\n",
       "  <tbody>\n",
       "    <tr>\n",
       "      <th>0</th>\n",
       "      <td>NaN</td>\n",
       "      <td>Married</td>\n",
       "      <td>Female</td>\n",
       "      <td>0</td>\n",
       "      <td>0</td>\n",
       "      <td>0</td>\n",
       "      <td>NaN</td>\n",
       "      <td>NaN</td>\n",
       "      <td>HOME</td>\n",
       "      <td>0</td>\n",
       "      <td>1</td>\n",
       "      <td>0</td>\n",
       "      <td>0</td>\n",
       "      <td>0</td>\n",
       "      <td>0</td>\n",
       "      <td>0</td>\n",
       "      <td>0</td>\n",
       "      <td>10.0</td>\n",
       "      <td>1</td>\n",
       "      <td>0</td>\n",
       "    </tr>\n",
       "    <tr>\n",
       "      <th>1</th>\n",
       "      <td>33.0</td>\n",
       "      <td>NaN</td>\n",
       "      <td>Female</td>\n",
       "      <td>1</td>\n",
       "      <td>0</td>\n",
       "      <td>1</td>\n",
       "      <td>NaN</td>\n",
       "      <td>UB</td>\n",
       "      <td>NaN</td>\n",
       "      <td>1</td>\n",
       "      <td>0</td>\n",
       "      <td>0</td>\n",
       "      <td>0</td>\n",
       "      <td>0</td>\n",
       "      <td>0</td>\n",
       "      <td>0</td>\n",
       "      <td>0</td>\n",
       "      <td>2100.0</td>\n",
       "      <td>1</td>\n",
       "      <td>0</td>\n",
       "    </tr>\n",
       "    <tr>\n",
       "      <th>2</th>\n",
       "      <td>NaN</td>\n",
       "      <td>Married</td>\n",
       "      <td>Female</td>\n",
       "      <td>0</td>\n",
       "      <td>0</td>\n",
       "      <td>0</td>\n",
       "      <td>NaN</td>\n",
       "      <td>NaN</td>\n",
       "      <td>HOME</td>\n",
       "      <td>0</td>\n",
       "      <td>1</td>\n",
       "      <td>0</td>\n",
       "      <td>0</td>\n",
       "      <td>0</td>\n",
       "      <td>0</td>\n",
       "      <td>0</td>\n",
       "      <td>200</td>\n",
       "      <td>200.0</td>\n",
       "      <td>1</td>\n",
       "      <td>0</td>\n",
       "    </tr>\n",
       "    <tr>\n",
       "      <th>3</th>\n",
       "      <td>31.0</td>\n",
       "      <td>NaN</td>\n",
       "      <td>Female</td>\n",
       "      <td>1</td>\n",
       "      <td>0</td>\n",
       "      <td>1</td>\n",
       "      <td>NaN</td>\n",
       "      <td>NaN</td>\n",
       "      <td>HOME</td>\n",
       "      <td>1</td>\n",
       "      <td>0</td>\n",
       "      <td>0</td>\n",
       "      <td>0</td>\n",
       "      <td>0</td>\n",
       "      <td>0</td>\n",
       "      <td>0</td>\n",
       "      <td>0</td>\n",
       "      <td>0.0</td>\n",
       "      <td>0</td>\n",
       "      <td>0</td>\n",
       "    </tr>\n",
       "    <tr>\n",
       "      <th>4</th>\n",
       "      <td>68.0</td>\n",
       "      <td>NaN</td>\n",
       "      <td>Female</td>\n",
       "      <td>0</td>\n",
       "      <td>0</td>\n",
       "      <td>0</td>\n",
       "      <td>NaN</td>\n",
       "      <td>NaN</td>\n",
       "      <td>HOME</td>\n",
       "      <td>1</td>\n",
       "      <td>0</td>\n",
       "      <td>0</td>\n",
       "      <td>0</td>\n",
       "      <td>0</td>\n",
       "      <td>0</td>\n",
       "      <td>0</td>\n",
       "      <td>0</td>\n",
       "      <td>505.0</td>\n",
       "      <td>1</td>\n",
       "      <td>0</td>\n",
       "    </tr>\n",
       "    <tr>\n",
       "      <th>5</th>\n",
       "      <td>57.0</td>\n",
       "      <td>NaN</td>\n",
       "      <td>Male</td>\n",
       "      <td>0</td>\n",
       "      <td>0</td>\n",
       "      <td>0</td>\n",
       "      <td>NaN</td>\n",
       "      <td>NaN</td>\n",
       "      <td>HOME</td>\n",
       "      <td>0</td>\n",
       "      <td>0</td>\n",
       "      <td>0</td>\n",
       "      <td>0</td>\n",
       "      <td>0</td>\n",
       "      <td>0</td>\n",
       "      <td>0</td>\n",
       "      <td>0</td>\n",
       "      <td>0.0</td>\n",
       "      <td>0</td>\n",
       "      <td>0</td>\n",
       "    </tr>\n",
       "    <tr>\n",
       "      <th>6</th>\n",
       "      <td>NaN</td>\n",
       "      <td>NaN</td>\n",
       "      <td>Male</td>\n",
       "      <td>0</td>\n",
       "      <td>0</td>\n",
       "      <td>0</td>\n",
       "      <td>NaN</td>\n",
       "      <td>NaN</td>\n",
       "      <td>HOME</td>\n",
       "      <td>1</td>\n",
       "      <td>3</td>\n",
       "      <td>0</td>\n",
       "      <td>0</td>\n",
       "      <td>0</td>\n",
       "      <td>0</td>\n",
       "      <td>0</td>\n",
       "      <td>0</td>\n",
       "      <td>0.0</td>\n",
       "      <td>0</td>\n",
       "      <td>1</td>\n",
       "    </tr>\n",
       "  </tbody>\n",
       "</table>\n",
       "</div>"
      ],
      "text/plain": [
       "    AGE MARITAL_STATUS  GENDER  ALUMNUS_IND  PARENT_IND  HAS_INVOLVEMENT_IND  \\\n",
       "0   NaN        Married  Female            0           0                    0   \n",
       "1  33.0            NaN  Female            1           0                    1   \n",
       "2   NaN        Married  Female            0           0                    0   \n",
       "3  31.0            NaN  Female            1           0                    1   \n",
       "4  68.0            NaN  Female            0           0                    0   \n",
       "5  57.0            NaN    Male            0           0                    0   \n",
       "6   NaN            NaN    Male            0           0                    0   \n",
       "\n",
       "  WEALTH_RATING DEGREE_LEVEL PREF_ADDRESS_TYPE  EMAIL_PRESENT_IND  CON_YEARS  \\\n",
       "0           NaN          NaN              HOME                  0          1   \n",
       "1           NaN           UB               NaN                  1          0   \n",
       "2           NaN          NaN              HOME                  0          1   \n",
       "3           NaN          NaN              HOME                  1          0   \n",
       "4           NaN          NaN              HOME                  1          0   \n",
       "5           NaN          NaN              HOME                  0          0   \n",
       "6           NaN          NaN              HOME                  1          3   \n",
       "\n",
       "   PrevFYGiving  PrevFY1Giving  PrevFY2Giving  PrevFY3Giving  PrevFY4Giving  \\\n",
       "0             0              0              0              0              0   \n",
       "1             0              0              0              0              0   \n",
       "2             0              0              0              0              0   \n",
       "3             0              0              0              0              0   \n",
       "4             0              0              0              0              0   \n",
       "5             0              0              0              0              0   \n",
       "6             0              0              0              0              0   \n",
       "\n",
       "   CurrFYGiving  TotalGiving  DONOR_IND  MalibuCA  \n",
       "0             0         10.0          1         0  \n",
       "1             0       2100.0          1         0  \n",
       "2           200        200.0          1         0  \n",
       "3             0          0.0          0         0  \n",
       "4             0        505.0          1         0  \n",
       "5             0          0.0          0         0  \n",
       "6             0          0.0          0         1  "
      ]
     },
     "execution_count": 24,
     "metadata": {},
     "output_type": "execute_result"
    }
   ],
   "source": [
    "df.drop(['ZIPCODE'],\n",
    "        axis=1, inplace=True) ## set axis=0 to remove rows, axis=1 to remove columns\n",
    "df.head(7)"
   ]
  },
  {
   "cell_type": "code",
   "execution_count": 25,
   "metadata": {},
   "outputs": [
    {
     "data": {
      "text/plain": [
       "$50000-$99999        645\n",
       "$1-$24999            580\n",
       "$25000-$49999        564\n",
       "$100000-$249999      511\n",
       "$250000-$499999      265\n",
       "$500000-$999999       81\n",
       "$1000000-$2499999     59\n",
       "$2500000-$4999999      4\n",
       "Name: WEALTH_RATING, dtype: int64"
      ]
     },
     "execution_count": 25,
     "metadata": {},
     "output_type": "execute_result"
    }
   ],
   "source": [
    "df['WEALTH_RATING'].value_counts()"
   ]
  },
  {
   "cell_type": "code",
   "execution_count": 26,
   "metadata": {},
   "outputs": [],
   "source": [
    "#dictionary for integer encoding for ordinal categorical value\n",
    "ordinal_cols = {\n",
    "        '$1-$24999':8, \n",
    "        '$25000-$49999':7,\n",
    "        '$50000-$99999':6, \n",
    "        '$100000-$249999':5,\n",
    "        '$250000-$499999':4, \n",
    "        '$500000-$999999':3, \n",
    "        '$1000000-$2499999':2,\n",
    "        '$2500000-$4999999':1\n",
    "}"
   ]
  },
  {
   "cell_type": "code",
   "execution_count": 27,
   "metadata": {},
   "outputs": [],
   "source": [
    "#map new values to attribute\n",
    "df['WEALTH_RATING'] = df['WEALTH_RATING'].map(ordinal_cols).fillna(df['WEALTH_RATING'])"
   ]
  },
  {
   "cell_type": "code",
   "execution_count": 28,
   "metadata": {},
   "outputs": [
    {
     "data": {
      "text/plain": [
       "6.0    645\n",
       "8.0    580\n",
       "7.0    564\n",
       "5.0    511\n",
       "4.0    265\n",
       "3.0     81\n",
       "2.0     59\n",
       "1.0      4\n",
       "Name: WEALTH_RATING, dtype: int64"
      ]
     },
     "execution_count": 28,
     "metadata": {},
     "output_type": "execute_result"
    }
   ],
   "source": [
    "df['WEALTH_RATING'].value_counts()"
   ]
  },
  {
   "cell_type": "code",
   "execution_count": 29,
   "metadata": {},
   "outputs": [
    {
     "data": {
      "text/plain": [
       "Married          6547\n",
       "Single           3140\n",
       "Widowed           157\n",
       "Divorced           84\n",
       "Separated           9\n",
       "Never Married       3\n",
       "Name: MARITAL_STATUS, dtype: int64"
      ]
     },
     "execution_count": 29,
     "metadata": {},
     "output_type": "execute_result"
    }
   ],
   "source": [
    "df['MARITAL_STATUS'].value_counts()"
   ]
  },
  {
   "cell_type": "code",
   "execution_count": 30,
   "metadata": {},
   "outputs": [
    {
     "data": {
      "text/plain": [
       "Female     16678\n",
       "Male       16233\n",
       "Uknown      1091\n",
       "Unknown       12\n",
       "U              1\n",
       "Name: GENDER, dtype: int64"
      ]
     },
     "execution_count": 30,
     "metadata": {},
     "output_type": "execute_result"
    }
   ],
   "source": [
    "df['GENDER'].value_counts()"
   ]
  },
  {
   "cell_type": "code",
   "execution_count": 31,
   "metadata": {},
   "outputs": [],
   "source": [
    "#removing misclassed fields and combining those without a rating\n",
    "df= df.replace('Uknown', \"0\")\n",
    "df= df.replace('Unknown', \"0\")\n",
    "df= df.replace('U', \"0\")"
   ]
  },
  {
   "cell_type": "code",
   "execution_count": 32,
   "metadata": {},
   "outputs": [],
   "source": [
    "df = df.loc[(df['GENDER'] != \"0\")]"
   ]
  },
  {
   "cell_type": "code",
   "execution_count": 33,
   "metadata": {},
   "outputs": [
    {
     "data": {
      "text/plain": [
       "Female    16678\n",
       "Male      16233\n",
       "Name: GENDER, dtype: int64"
      ]
     },
     "execution_count": 33,
     "metadata": {},
     "output_type": "execute_result"
    }
   ],
   "source": [
    "df['GENDER'].value_counts()"
   ]
  },
  {
   "cell_type": "code",
   "execution_count": 34,
   "metadata": {},
   "outputs": [
    {
     "data": {
      "text/plain": [
       "32.0     383\n",
       "30.0     368\n",
       "31.0     350\n",
       "27.0     337\n",
       "33.0     330\n",
       "        ... \n",
       "99.0       2\n",
       "110.0      2\n",
       "103.0      1\n",
       "101.0      1\n",
       "1.0        1\n",
       "Name: AGE, Length: 102, dtype: int64"
      ]
     },
     "execution_count": 34,
     "metadata": {},
     "output_type": "execute_result"
    }
   ],
   "source": [
    "df['AGE'].value_counts()"
   ]
  },
  {
   "cell_type": "markdown",
   "metadata": {},
   "source": [
    "####  4) Missing Data"
   ]
  },
  {
   "cell_type": "code",
   "execution_count": 35,
   "metadata": {},
   "outputs": [
    {
     "data": {
      "text/html": [
       "<div>\n",
       "<style scoped>\n",
       "    .dataframe tbody tr th:only-of-type {\n",
       "        vertical-align: middle;\n",
       "    }\n",
       "\n",
       "    .dataframe tbody tr th {\n",
       "        vertical-align: top;\n",
       "    }\n",
       "\n",
       "    .dataframe thead th {\n",
       "        text-align: right;\n",
       "    }\n",
       "</style>\n",
       "<table border=\"1\" class=\"dataframe\">\n",
       "  <thead>\n",
       "    <tr style=\"text-align: right;\">\n",
       "      <th></th>\n",
       "      <th>AGE</th>\n",
       "      <th>MARITAL_STATUS</th>\n",
       "      <th>GENDER</th>\n",
       "      <th>WEALTH_RATING</th>\n",
       "      <th>DEGREE_LEVEL</th>\n",
       "      <th>PREF_ADDRESS_TYPE</th>\n",
       "    </tr>\n",
       "  </thead>\n",
       "  <tbody>\n",
       "    <tr>\n",
       "      <th>0</th>\n",
       "      <td>NaN</td>\n",
       "      <td>Married</td>\n",
       "      <td>Female</td>\n",
       "      <td>NaN</td>\n",
       "      <td>NaN</td>\n",
       "      <td>HOME</td>\n",
       "    </tr>\n",
       "    <tr>\n",
       "      <th>1</th>\n",
       "      <td>33.0</td>\n",
       "      <td>NaN</td>\n",
       "      <td>Female</td>\n",
       "      <td>NaN</td>\n",
       "      <td>UB</td>\n",
       "      <td>NaN</td>\n",
       "    </tr>\n",
       "    <tr>\n",
       "      <th>2</th>\n",
       "      <td>NaN</td>\n",
       "      <td>Married</td>\n",
       "      <td>Female</td>\n",
       "      <td>NaN</td>\n",
       "      <td>NaN</td>\n",
       "      <td>HOME</td>\n",
       "    </tr>\n",
       "    <tr>\n",
       "      <th>3</th>\n",
       "      <td>31.0</td>\n",
       "      <td>NaN</td>\n",
       "      <td>Female</td>\n",
       "      <td>NaN</td>\n",
       "      <td>NaN</td>\n",
       "      <td>HOME</td>\n",
       "    </tr>\n",
       "    <tr>\n",
       "      <th>4</th>\n",
       "      <td>68.0</td>\n",
       "      <td>NaN</td>\n",
       "      <td>Female</td>\n",
       "      <td>NaN</td>\n",
       "      <td>NaN</td>\n",
       "      <td>HOME</td>\n",
       "    </tr>\n",
       "    <tr>\n",
       "      <th>...</th>\n",
       "      <td>...</td>\n",
       "      <td>...</td>\n",
       "      <td>...</td>\n",
       "      <td>...</td>\n",
       "      <td>...</td>\n",
       "      <td>...</td>\n",
       "    </tr>\n",
       "    <tr>\n",
       "      <th>34503</th>\n",
       "      <td>NaN</td>\n",
       "      <td>NaN</td>\n",
       "      <td>Female</td>\n",
       "      <td>NaN</td>\n",
       "      <td>NaN</td>\n",
       "      <td>HOME</td>\n",
       "    </tr>\n",
       "    <tr>\n",
       "      <th>34504</th>\n",
       "      <td>24.0</td>\n",
       "      <td>NaN</td>\n",
       "      <td>Male</td>\n",
       "      <td>4.0</td>\n",
       "      <td>NaN</td>\n",
       "      <td>CAMP</td>\n",
       "    </tr>\n",
       "    <tr>\n",
       "      <th>34505</th>\n",
       "      <td>27.0</td>\n",
       "      <td>NaN</td>\n",
       "      <td>Female</td>\n",
       "      <td>NaN</td>\n",
       "      <td>UB</td>\n",
       "      <td>HOME</td>\n",
       "    </tr>\n",
       "    <tr>\n",
       "      <th>34506</th>\n",
       "      <td>46.0</td>\n",
       "      <td>Married</td>\n",
       "      <td>Female</td>\n",
       "      <td>NaN</td>\n",
       "      <td>NaN</td>\n",
       "      <td>HOME</td>\n",
       "    </tr>\n",
       "    <tr>\n",
       "      <th>34507</th>\n",
       "      <td>58.0</td>\n",
       "      <td>Married</td>\n",
       "      <td>Female</td>\n",
       "      <td>NaN</td>\n",
       "      <td>UB</td>\n",
       "      <td>HOME</td>\n",
       "    </tr>\n",
       "  </tbody>\n",
       "</table>\n",
       "<p>33404 rows × 6 columns</p>\n",
       "</div>"
      ],
      "text/plain": [
       "        AGE MARITAL_STATUS  GENDER  WEALTH_RATING DEGREE_LEVEL  \\\n",
       "0       NaN        Married  Female            NaN          NaN   \n",
       "1      33.0            NaN  Female            NaN           UB   \n",
       "2       NaN        Married  Female            NaN          NaN   \n",
       "3      31.0            NaN  Female            NaN          NaN   \n",
       "4      68.0            NaN  Female            NaN          NaN   \n",
       "...     ...            ...     ...            ...          ...   \n",
       "34503   NaN            NaN  Female            NaN          NaN   \n",
       "34504  24.0            NaN    Male            4.0          NaN   \n",
       "34505  27.0            NaN  Female            NaN           UB   \n",
       "34506  46.0        Married  Female            NaN          NaN   \n",
       "34507  58.0        Married  Female            NaN           UB   \n",
       "\n",
       "      PREF_ADDRESS_TYPE  \n",
       "0                  HOME  \n",
       "1                   NaN  \n",
       "2                  HOME  \n",
       "3                  HOME  \n",
       "4                  HOME  \n",
       "...                 ...  \n",
       "34503              HOME  \n",
       "34504              CAMP  \n",
       "34505              HOME  \n",
       "34506              HOME  \n",
       "34507              HOME  \n",
       "\n",
       "[33404 rows x 6 columns]"
      ]
     },
     "execution_count": 35,
     "metadata": {},
     "output_type": "execute_result"
    }
   ],
   "source": [
    "#find columns that have missing values\n",
    "nan_cols = df.loc[:,df.isna().any(axis=0)]\n",
    "nan_cols"
   ]
  },
  {
   "cell_type": "code",
   "execution_count": 36,
   "metadata": {},
   "outputs": [],
   "source": [
    "df['WEALTH_RATING'] = df['WEALTH_RATING'].fillna(0)"
   ]
  },
  {
   "cell_type": "code",
   "execution_count": 37,
   "metadata": {},
   "outputs": [],
   "source": [
    "df.fillna({'AGE' : df['AGE'].median()}, inplace=True)"
   ]
  },
  {
   "cell_type": "code",
   "execution_count": 38,
   "metadata": {},
   "outputs": [],
   "source": [
    "#change categorical variables to new attributes - will also remove null variables\n",
    "df2 = pd.get_dummies(df, columns=['PREF_ADDRESS_TYPE', 'MARITAL_STATUS', 'GENDER', 'DEGREE_LEVEL', ])"
   ]
  },
  {
   "cell_type": "code",
   "execution_count": 39,
   "metadata": {},
   "outputs": [
    {
     "data": {
      "text/html": [
       "<div>\n",
       "<style scoped>\n",
       "    .dataframe tbody tr th:only-of-type {\n",
       "        vertical-align: middle;\n",
       "    }\n",
       "\n",
       "    .dataframe tbody tr th {\n",
       "        vertical-align: top;\n",
       "    }\n",
       "\n",
       "    .dataframe thead th {\n",
       "        text-align: right;\n",
       "    }\n",
       "</style>\n",
       "<table border=\"1\" class=\"dataframe\">\n",
       "  <thead>\n",
       "    <tr style=\"text-align: right;\">\n",
       "      <th></th>\n",
       "    </tr>\n",
       "  </thead>\n",
       "  <tbody>\n",
       "    <tr>\n",
       "      <th>0</th>\n",
       "    </tr>\n",
       "    <tr>\n",
       "      <th>1</th>\n",
       "    </tr>\n",
       "    <tr>\n",
       "      <th>2</th>\n",
       "    </tr>\n",
       "    <tr>\n",
       "      <th>3</th>\n",
       "    </tr>\n",
       "    <tr>\n",
       "      <th>4</th>\n",
       "    </tr>\n",
       "    <tr>\n",
       "      <th>...</th>\n",
       "    </tr>\n",
       "    <tr>\n",
       "      <th>34503</th>\n",
       "    </tr>\n",
       "    <tr>\n",
       "      <th>34504</th>\n",
       "    </tr>\n",
       "    <tr>\n",
       "      <th>34505</th>\n",
       "    </tr>\n",
       "    <tr>\n",
       "      <th>34506</th>\n",
       "    </tr>\n",
       "    <tr>\n",
       "      <th>34507</th>\n",
       "    </tr>\n",
       "  </tbody>\n",
       "</table>\n",
       "<p>33404 rows × 0 columns</p>\n",
       "</div>"
      ],
      "text/plain": [
       "Empty DataFrame\n",
       "Columns: []\n",
       "Index: [0, 1, 2, 3, 4, 5, 6, 7, 9, 10, 11, 12, 13, 14, 15, 16, 17, 18, 19, 21, 22, 23, 24, 25, 26, 27, 28, 29, 30, 31, 32, 33, 34, 36, 37, 38, 39, 40, 41, 42, 43, 44, 45, 46, 47, 48, 49, 50, 51, 52, 53, 54, 55, 56, 57, 60, 61, 62, 63, 64, 65, 66, 67, 68, 69, 70, 71, 72, 73, 74, 75, 76, 77, 78, 79, 80, 81, 82, 83, 84, 85, 86, 87, 88, 89, 90, 91, 92, 93, 94, 95, 96, 97, 98, 99, 101, 102, 103, 104, 105, ...]\n",
       "\n",
       "[33404 rows x 0 columns]"
      ]
     },
     "execution_count": 39,
     "metadata": {},
     "output_type": "execute_result"
    }
   ],
   "source": [
    "nan_cols = df2.loc[:,df2.isna().any(axis=0)]\n",
    "nan_cols"
   ]
  },
  {
   "cell_type": "code",
   "execution_count": 40,
   "metadata": {},
   "outputs": [
    {
     "name": "stdout",
     "output_type": "stream",
     "text": [
      "<class 'pandas.core.frame.DataFrame'>\n",
      "Int64Index: 33404 entries, 0 to 34507\n",
      "Data columns (total 35 columns):\n",
      " #   Column                        Non-Null Count  Dtype  \n",
      "---  ------                        --------------  -----  \n",
      " 0   AGE                           33404 non-null  float64\n",
      " 1   ALUMNUS_IND                   33404 non-null  int32  \n",
      " 2   PARENT_IND                    33404 non-null  int32  \n",
      " 3   HAS_INVOLVEMENT_IND           33404 non-null  int32  \n",
      " 4   WEALTH_RATING                 33404 non-null  float64\n",
      " 5   EMAIL_PRESENT_IND             33404 non-null  int32  \n",
      " 6   CON_YEARS                     33404 non-null  int64  \n",
      " 7   PrevFYGiving                  33404 non-null  int64  \n",
      " 8   PrevFY1Giving                 33404 non-null  int64  \n",
      " 9   PrevFY2Giving                 33404 non-null  int64  \n",
      " 10  PrevFY3Giving                 33404 non-null  int64  \n",
      " 11  PrevFY4Giving                 33404 non-null  int64  \n",
      " 12  CurrFYGiving                  33404 non-null  int64  \n",
      " 13  TotalGiving                   33404 non-null  float64\n",
      " 14  DONOR_IND                     33404 non-null  int32  \n",
      " 15  MalibuCA                      33404 non-null  int32  \n",
      " 16  PREF_ADDRESS_TYPE_BUSN        33404 non-null  uint8  \n",
      " 17  PREF_ADDRESS_TYPE_CAMP        33404 non-null  uint8  \n",
      " 18  PREF_ADDRESS_TYPE_HOME        33404 non-null  uint8  \n",
      " 19  PREF_ADDRESS_TYPE_OTR         33404 non-null  uint8  \n",
      " 20  MARITAL_STATUS_Divorced       33404 non-null  uint8  \n",
      " 21  MARITAL_STATUS_Married        33404 non-null  uint8  \n",
      " 22  MARITAL_STATUS_Never Married  33404 non-null  uint8  \n",
      " 23  MARITAL_STATUS_Separated      33404 non-null  uint8  \n",
      " 24  MARITAL_STATUS_Single         33404 non-null  uint8  \n",
      " 25  MARITAL_STATUS_Widowed        33404 non-null  uint8  \n",
      " 26  GENDER_Female                 33404 non-null  uint8  \n",
      " 27  GENDER_Male                   33404 non-null  uint8  \n",
      " 28  DEGREE_LEVEL_GC               33404 non-null  uint8  \n",
      " 29  DEGREE_LEVEL_GD               33404 non-null  uint8  \n",
      " 30  DEGREE_LEVEL_GM               33404 non-null  uint8  \n",
      " 31  DEGREE_LEVEL_GP               33404 non-null  uint8  \n",
      " 32  DEGREE_LEVEL_UB               33404 non-null  uint8  \n",
      " 33  DEGREE_LEVEL_UC               33404 non-null  uint8  \n",
      " 34  DEGREE_LEVEL_UG               33404 non-null  uint8  \n",
      "dtypes: float64(3), int32(6), int64(7), uint8(19)\n",
      "memory usage: 4.2 MB\n"
     ]
    }
   ],
   "source": [
    "df2.info()"
   ]
  },
  {
   "cell_type": "markdown",
   "metadata": {},
   "source": [
    "#### Create new target variable for CurrYrGiving"
   ]
  },
  {
   "cell_type": "code",
   "execution_count": 41,
   "metadata": {},
   "outputs": [],
   "source": [
    "df2['CurrYrDonor'] = np.where(df2['CurrFYGiving'] > 0, 1, 0)"
   ]
  },
  {
   "cell_type": "code",
   "execution_count": 42,
   "metadata": {},
   "outputs": [
    {
     "data": {
      "text/plain": [
       "0    31559\n",
       "1     1845\n",
       "Name: CurrYrDonor, dtype: int64"
      ]
     },
     "execution_count": 42,
     "metadata": {},
     "output_type": "execute_result"
    }
   ],
   "source": [
    "df2['CurrYrDonor'].value_counts()"
   ]
  },
  {
   "cell_type": "markdown",
   "metadata": {},
   "source": [
    "## 2. Data Analysis"
   ]
  },
  {
   "cell_type": "markdown",
   "metadata": {},
   "source": [
    "### What are the age ranges of the constituency base?"
   ]
  },
  {
   "cell_type": "code",
   "execution_count": 43,
   "metadata": {},
   "outputs": [
    {
     "data": {
      "text/plain": [
       "<AxesSubplot:ylabel='Frequency'>"
      ]
     },
     "execution_count": 43,
     "metadata": {},
     "output_type": "execute_result"
    },
    {
     "data": {
      "image/png": "[encoded data removed]",
      "text/plain": [
       "<Figure size 432x288 with 1 Axes>"
      ]
     },
     "metadata": {
      "needs_background": "light"
     },
     "output_type": "display_data"
    }
   ],
   "source": [
    "df['AGE'].plot.hist(bins=10)"
   ]
  },
  {
   "cell_type": "markdown",
   "metadata": {},
   "source": [
    "Most of the constituency base is between the ages of 35-45. This is typically the early to mid-career point for many people so they are in their core earning years. This constituency base could be ready to have a qualification visit from a fundraiser to explore thier potential philanthropic interests as their wealth continues to increase."
   ]
  },
  {
   "cell_type": "markdown",
   "metadata": {},
   "source": [
    "### How many of the constiuents have weath ratings?"
   ]
  },
  {
   "cell_type": "code",
   "execution_count": 44,
   "metadata": {},
   "outputs": [
    {
     "data": {
      "text/plain": [
       "<AxesSubplot:xlabel='count', ylabel='WEALTH_RATING'>"
      ]
     },
     "execution_count": 44,
     "metadata": {},
     "output_type": "execute_result"
    },
    {
     "data": {
      "image/png": "[encoded data removed]",
      "text/plain": [
       "<Figure size 432x288 with 1 Axes>"
      ]
     },
     "metadata": {
      "needs_background": "light"
     },
     "output_type": "display_data"
    }
   ],
   "source": [
    "sns.countplot(y=\"WEALTH_RATING\", data=df2)"
   ]
  },
  {
   "cell_type": "markdown",
   "metadata": {},
   "source": [
    "As expected, most of the constiuents do not have wealth ratings. Of those that do have a rating, they are in the lower range of wealth at 6, which is a score that makes them capable of a gift of fifty to ninety-nine thousand dollars."
   ]
  },
  {
   "cell_type": "markdown",
   "metadata": {},
   "source": [
    "### How many constiuents have ever made a gift?"
   ]
  },
  {
   "cell_type": "code",
   "execution_count": 45,
   "metadata": {},
   "outputs": [
    {
     "data": {
      "text/plain": [
       "<AxesSubplot:xlabel='count', ylabel='DONOR_IND'>"
      ]
     },
     "execution_count": 45,
     "metadata": {},
     "output_type": "execute_result"
    },
    {
     "data": {
      "image/png": "[encoded data removed]",
      "text/plain": [
       "<Figure size 432x288 with 1 Axes>"
      ]
     },
     "metadata": {
      "needs_background": "light"
     },
     "output_type": "display_data"
    }
   ],
   "source": [
    "sns.countplot(y=\"DONOR_IND\", data=df2)"
   ]
  },
  {
   "cell_type": "markdown",
   "metadata": {},
   "source": [
    "The majority of the constiuent base have made a gift before to the institution. As this is anonymized data, the reason is unclear. Potentially, most constiuents were collected through a donation of some kind. Overall, the inclination to give again is high based on past giving."
   ]
  },
  {
   "cell_type": "markdown",
   "metadata": {},
   "source": [
    "### Exploring total giving"
   ]
  },
  {
   "cell_type": "markdown",
   "metadata": {},
   "source": [
    "### What is the correlation of total giving and age?"
   ]
  },
  {
   "cell_type": "code",
   "execution_count": 46,
   "metadata": {},
   "outputs": [
    {
     "data": {
      "text/plain": [
       "<matplotlib.collections.PathCollection at 0x25c6d8ae1c0>"
      ]
     },
     "execution_count": 46,
     "metadata": {},
     "output_type": "execute_result"
    },
    {
     "data": {
      "image/png": "[encoded data removed]",
      "text/plain": [
       "<Figure size 432x288 with 1 Axes>"
      ]
     },
     "metadata": {
      "needs_background": "light"
     },
     "output_type": "display_data"
    }
   ],
   "source": [
    "plt.scatter(x='AGE', y='TotalGiving', data=df2, marker='x')"
   ]
  },
  {
   "cell_type": "markdown",
   "metadata": {},
   "source": [
    "Two of the donors with the highest amount of total giving are avobe 80 years of age. However the 3rd highest total giving to the institution is in the 40s. As most people do not give, the correlation is hard to see in this graph.\n",
    "\n",
    "\n",
    "### Let's explore this further by incorporating gender into this graph."
   ]
  },
  {
   "cell_type": "code",
   "execution_count": 47,
   "metadata": {},
   "outputs": [
    {
     "data": {
      "text/plain": [
       "<seaborn.axisgrid.FacetGrid at 0x25c6d8c8a00>"
      ]
     },
     "execution_count": 47,
     "metadata": {},
     "output_type": "execute_result"
    },
    {
     "data": {
      "image/png": "[encoded data removed]",
      "text/plain": [
       "<Figure size 432.125x360 with 1 Axes>"
      ]
     },
     "metadata": {
      "needs_background": "light"
     },
     "output_type": "display_data"
    }
   ],
   "source": [
    "sns.relplot(x='AGE', y=\"TotalGiving\", hue=\"GENDER\", data=df)"
   ]
  },
  {
   "cell_type": "markdown",
   "metadata": {},
   "source": [
    "The top three highest donors are female to the institution."
   ]
  },
  {
   "cell_type": "markdown",
   "metadata": {},
   "source": [
    "### Now let's take a look at total giving by age."
   ]
  },
  {
   "cell_type": "code",
   "execution_count": 48,
   "metadata": {},
   "outputs": [
    {
     "data": {
      "text/plain": [
       "<matplotlib.collections.PathCollection at 0x25c6ea15a60>"
      ]
     },
     "execution_count": 48,
     "metadata": {},
     "output_type": "execute_result"
    },
    {
     "data": {
      "image/png": "[encoded data removed]",
      "text/plain": [
       "<Figure size 432x288 with 1 Axes>"
      ]
     },
     "metadata": {
      "needs_background": "light"
     },
     "output_type": "display_data"
    }
   ],
   "source": [
    "plt.scatter(x='AGE', y='WEALTH_RATING', data=df2, marker='x')"
   ]
  },
  {
   "cell_type": "markdown",
   "metadata": {},
   "source": [
    "The most wealthy constiuents with a wealth rating of 1 are in the ages of 30-45.\n",
    "\n",
    "### Let's take a look at thier gender."
   ]
  },
  {
   "cell_type": "code",
   "execution_count": 49,
   "metadata": {},
   "outputs": [
    {
     "data": {
      "text/plain": [
       "<seaborn.axisgrid.FacetGrid at 0x25c6ea3fdc0>"
      ]
     },
     "execution_count": 49,
     "metadata": {},
     "output_type": "execute_result"
    },
    {
     "data": {
      "image/png": "[encoded data removed]",
      "text/plain": [
       "<Figure size 432.125x360 with 1 Axes>"
      ]
     },
     "metadata": {
      "needs_background": "light"
     },
     "output_type": "display_data"
    }
   ],
   "source": [
    "sns.relplot(x='AGE', y='WEALTH_RATING', hue=\"GENDER\", data=df)"
   ]
  },
  {
   "cell_type": "markdown",
   "metadata": {},
   "source": [
    "Two of the three known most wealthy constiuents are male. Let's take a look if they have ever donated to the institution."
   ]
  },
  {
   "cell_type": "code",
   "execution_count": 50,
   "metadata": {},
   "outputs": [
    {
     "data": {
      "text/plain": [
       "<seaborn.axisgrid.FacetGrid at 0x25c6ed69fa0>"
      ]
     },
     "execution_count": 50,
     "metadata": {},
     "output_type": "execute_result"
    },
    {
     "data": {
      "image/png": "[encoded data removed]",
      "text/plain": [
       "<Figure size 792.125x360 with 2 Axes>"
      ]
     },
     "metadata": {
      "needs_background": "light"
     },
     "output_type": "display_data"
    }
   ],
   "source": [
    "sns.relplot(x='AGE', y='WEALTH_RATING', hue=\"GENDER\", col=\"DONOR_IND\", data=df)"
   ]
  },
  {
   "cell_type": "markdown",
   "metadata": {},
   "source": [
    "A graph shows that the highest total giving are from female donors. This graph shows that the wealthiest female consituents has not donated."
   ]
  },
  {
   "cell_type": "markdown",
   "metadata": {},
   "source": [
    "### How many consituents donated last year?"
   ]
  },
  {
   "cell_type": "code",
   "execution_count": 51,
   "metadata": {},
   "outputs": [],
   "source": [
    "LastYrDonor = df2.loc[df2['PrevFYGiving'] != 0]"
   ]
  },
  {
   "cell_type": "code",
   "execution_count": 52,
   "metadata": {},
   "outputs": [
    {
     "data": {
      "text/html": [
       "<div>\n",
       "<style scoped>\n",
       "    .dataframe tbody tr th:only-of-type {\n",
       "        vertical-align: middle;\n",
       "    }\n",
       "\n",
       "    .dataframe tbody tr th {\n",
       "        vertical-align: top;\n",
       "    }\n",
       "\n",
       "    .dataframe thead th {\n",
       "        text-align: right;\n",
       "    }\n",
       "</style>\n",
       "<table border=\"1\" class=\"dataframe\">\n",
       "  <thead>\n",
       "    <tr style=\"text-align: right;\">\n",
       "      <th></th>\n",
       "      <th>AGE</th>\n",
       "      <th>ALUMNUS_IND</th>\n",
       "      <th>PARENT_IND</th>\n",
       "      <th>HAS_INVOLVEMENT_IND</th>\n",
       "      <th>WEALTH_RATING</th>\n",
       "      <th>EMAIL_PRESENT_IND</th>\n",
       "      <th>CON_YEARS</th>\n",
       "      <th>PrevFYGiving</th>\n",
       "      <th>PrevFY1Giving</th>\n",
       "      <th>PrevFY2Giving</th>\n",
       "      <th>...</th>\n",
       "      <th>GENDER_Female</th>\n",
       "      <th>GENDER_Male</th>\n",
       "      <th>DEGREE_LEVEL_GC</th>\n",
       "      <th>DEGREE_LEVEL_GD</th>\n",
       "      <th>DEGREE_LEVEL_GM</th>\n",
       "      <th>DEGREE_LEVEL_GP</th>\n",
       "      <th>DEGREE_LEVEL_UB</th>\n",
       "      <th>DEGREE_LEVEL_UC</th>\n",
       "      <th>DEGREE_LEVEL_UG</th>\n",
       "      <th>CurrYrDonor</th>\n",
       "    </tr>\n",
       "  </thead>\n",
       "  <tbody>\n",
       "    <tr>\n",
       "      <th>31</th>\n",
       "      <td>42.0</td>\n",
       "      <td>0</td>\n",
       "      <td>0</td>\n",
       "      <td>0</td>\n",
       "      <td>0.0</td>\n",
       "      <td>0</td>\n",
       "      <td>1</td>\n",
       "      <td>51</td>\n",
       "      <td>0</td>\n",
       "      <td>0</td>\n",
       "      <td>...</td>\n",
       "      <td>0</td>\n",
       "      <td>1</td>\n",
       "      <td>0</td>\n",
       "      <td>0</td>\n",
       "      <td>0</td>\n",
       "      <td>0</td>\n",
       "      <td>0</td>\n",
       "      <td>0</td>\n",
       "      <td>0</td>\n",
       "      <td>0</td>\n",
       "    </tr>\n",
       "    <tr>\n",
       "      <th>60</th>\n",
       "      <td>42.0</td>\n",
       "      <td>1</td>\n",
       "      <td>0</td>\n",
       "      <td>0</td>\n",
       "      <td>0.0</td>\n",
       "      <td>0</td>\n",
       "      <td>1</td>\n",
       "      <td>5000</td>\n",
       "      <td>0</td>\n",
       "      <td>0</td>\n",
       "      <td>...</td>\n",
       "      <td>0</td>\n",
       "      <td>1</td>\n",
       "      <td>0</td>\n",
       "      <td>0</td>\n",
       "      <td>0</td>\n",
       "      <td>0</td>\n",
       "      <td>1</td>\n",
       "      <td>0</td>\n",
       "      <td>0</td>\n",
       "      <td>0</td>\n",
       "    </tr>\n",
       "    <tr>\n",
       "      <th>85</th>\n",
       "      <td>32.0</td>\n",
       "      <td>1</td>\n",
       "      <td>0</td>\n",
       "      <td>0</td>\n",
       "      <td>0.0</td>\n",
       "      <td>0</td>\n",
       "      <td>0</td>\n",
       "      <td>20</td>\n",
       "      <td>0</td>\n",
       "      <td>0</td>\n",
       "      <td>...</td>\n",
       "      <td>0</td>\n",
       "      <td>1</td>\n",
       "      <td>0</td>\n",
       "      <td>0</td>\n",
       "      <td>0</td>\n",
       "      <td>0</td>\n",
       "      <td>0</td>\n",
       "      <td>0</td>\n",
       "      <td>0</td>\n",
       "      <td>0</td>\n",
       "    </tr>\n",
       "    <tr>\n",
       "      <th>97</th>\n",
       "      <td>42.0</td>\n",
       "      <td>0</td>\n",
       "      <td>0</td>\n",
       "      <td>0</td>\n",
       "      <td>0.0</td>\n",
       "      <td>1</td>\n",
       "      <td>3</td>\n",
       "      <td>120</td>\n",
       "      <td>0</td>\n",
       "      <td>0</td>\n",
       "      <td>...</td>\n",
       "      <td>1</td>\n",
       "      <td>0</td>\n",
       "      <td>0</td>\n",
       "      <td>0</td>\n",
       "      <td>0</td>\n",
       "      <td>0</td>\n",
       "      <td>0</td>\n",
       "      <td>0</td>\n",
       "      <td>0</td>\n",
       "      <td>0</td>\n",
       "    </tr>\n",
       "    <tr>\n",
       "      <th>108</th>\n",
       "      <td>79.0</td>\n",
       "      <td>0</td>\n",
       "      <td>0</td>\n",
       "      <td>0</td>\n",
       "      <td>0.0</td>\n",
       "      <td>0</td>\n",
       "      <td>1</td>\n",
       "      <td>25</td>\n",
       "      <td>0</td>\n",
       "      <td>0</td>\n",
       "      <td>...</td>\n",
       "      <td>1</td>\n",
       "      <td>0</td>\n",
       "      <td>0</td>\n",
       "      <td>0</td>\n",
       "      <td>0</td>\n",
       "      <td>0</td>\n",
       "      <td>0</td>\n",
       "      <td>0</td>\n",
       "      <td>0</td>\n",
       "      <td>0</td>\n",
       "    </tr>\n",
       "    <tr>\n",
       "      <th>...</th>\n",
       "      <td>...</td>\n",
       "      <td>...</td>\n",
       "      <td>...</td>\n",
       "      <td>...</td>\n",
       "      <td>...</td>\n",
       "      <td>...</td>\n",
       "      <td>...</td>\n",
       "      <td>...</td>\n",
       "      <td>...</td>\n",
       "      <td>...</td>\n",
       "      <td>...</td>\n",
       "      <td>...</td>\n",
       "      <td>...</td>\n",
       "      <td>...</td>\n",
       "      <td>...</td>\n",
       "      <td>...</td>\n",
       "      <td>...</td>\n",
       "      <td>...</td>\n",
       "      <td>...</td>\n",
       "      <td>...</td>\n",
       "      <td>...</td>\n",
       "    </tr>\n",
       "    <tr>\n",
       "      <th>34473</th>\n",
       "      <td>25.0</td>\n",
       "      <td>0</td>\n",
       "      <td>1</td>\n",
       "      <td>0</td>\n",
       "      <td>0.0</td>\n",
       "      <td>1</td>\n",
       "      <td>0</td>\n",
       "      <td>1</td>\n",
       "      <td>0</td>\n",
       "      <td>0</td>\n",
       "      <td>...</td>\n",
       "      <td>0</td>\n",
       "      <td>1</td>\n",
       "      <td>0</td>\n",
       "      <td>0</td>\n",
       "      <td>0</td>\n",
       "      <td>0</td>\n",
       "      <td>0</td>\n",
       "      <td>0</td>\n",
       "      <td>0</td>\n",
       "      <td>0</td>\n",
       "    </tr>\n",
       "    <tr>\n",
       "      <th>34475</th>\n",
       "      <td>42.0</td>\n",
       "      <td>0</td>\n",
       "      <td>0</td>\n",
       "      <td>0</td>\n",
       "      <td>0.0</td>\n",
       "      <td>0</td>\n",
       "      <td>8</td>\n",
       "      <td>1</td>\n",
       "      <td>0</td>\n",
       "      <td>0</td>\n",
       "      <td>...</td>\n",
       "      <td>1</td>\n",
       "      <td>0</td>\n",
       "      <td>0</td>\n",
       "      <td>0</td>\n",
       "      <td>0</td>\n",
       "      <td>0</td>\n",
       "      <td>0</td>\n",
       "      <td>0</td>\n",
       "      <td>0</td>\n",
       "      <td>0</td>\n",
       "    </tr>\n",
       "    <tr>\n",
       "      <th>34478</th>\n",
       "      <td>42.0</td>\n",
       "      <td>0</td>\n",
       "      <td>0</td>\n",
       "      <td>0</td>\n",
       "      <td>0.0</td>\n",
       "      <td>0</td>\n",
       "      <td>2</td>\n",
       "      <td>125</td>\n",
       "      <td>180</td>\n",
       "      <td>25</td>\n",
       "      <td>...</td>\n",
       "      <td>1</td>\n",
       "      <td>0</td>\n",
       "      <td>0</td>\n",
       "      <td>0</td>\n",
       "      <td>0</td>\n",
       "      <td>0</td>\n",
       "      <td>0</td>\n",
       "      <td>0</td>\n",
       "      <td>0</td>\n",
       "      <td>0</td>\n",
       "    </tr>\n",
       "    <tr>\n",
       "      <th>34497</th>\n",
       "      <td>25.0</td>\n",
       "      <td>1</td>\n",
       "      <td>0</td>\n",
       "      <td>1</td>\n",
       "      <td>0.0</td>\n",
       "      <td>1</td>\n",
       "      <td>0</td>\n",
       "      <td>1000</td>\n",
       "      <td>0</td>\n",
       "      <td>1000</td>\n",
       "      <td>...</td>\n",
       "      <td>1</td>\n",
       "      <td>0</td>\n",
       "      <td>0</td>\n",
       "      <td>0</td>\n",
       "      <td>0</td>\n",
       "      <td>0</td>\n",
       "      <td>1</td>\n",
       "      <td>0</td>\n",
       "      <td>0</td>\n",
       "      <td>0</td>\n",
       "    </tr>\n",
       "    <tr>\n",
       "      <th>34498</th>\n",
       "      <td>42.0</td>\n",
       "      <td>0</td>\n",
       "      <td>0</td>\n",
       "      <td>0</td>\n",
       "      <td>0.0</td>\n",
       "      <td>0</td>\n",
       "      <td>1</td>\n",
       "      <td>20</td>\n",
       "      <td>0</td>\n",
       "      <td>0</td>\n",
       "      <td>...</td>\n",
       "      <td>0</td>\n",
       "      <td>1</td>\n",
       "      <td>0</td>\n",
       "      <td>0</td>\n",
       "      <td>0</td>\n",
       "      <td>0</td>\n",
       "      <td>0</td>\n",
       "      <td>0</td>\n",
       "      <td>0</td>\n",
       "      <td>0</td>\n",
       "    </tr>\n",
       "  </tbody>\n",
       "</table>\n",
       "<p>2289 rows × 36 columns</p>\n",
       "</div>"
      ],
      "text/plain": [
       "        AGE  ALUMNUS_IND  PARENT_IND  HAS_INVOLVEMENT_IND  WEALTH_RATING  \\\n",
       "31     42.0            0           0                    0            0.0   \n",
       "60     42.0            1           0                    0            0.0   \n",
       "85     32.0            1           0                    0            0.0   \n",
       "97     42.0            0           0                    0            0.0   \n",
       "108    79.0            0           0                    0            0.0   \n",
       "...     ...          ...         ...                  ...            ...   \n",
       "34473  25.0            0           1                    0            0.0   \n",
       "34475  42.0            0           0                    0            0.0   \n",
       "34478  42.0            0           0                    0            0.0   \n",
       "34497  25.0            1           0                    1            0.0   \n",
       "34498  42.0            0           0                    0            0.0   \n",
       "\n",
       "       EMAIL_PRESENT_IND  CON_YEARS  PrevFYGiving  PrevFY1Giving  \\\n",
       "31                     0          1            51              0   \n",
       "60                     0          1          5000              0   \n",
       "85                     0          0            20              0   \n",
       "97                     1          3           120              0   \n",
       "108                    0          1            25              0   \n",
       "...                  ...        ...           ...            ...   \n",
       "34473                  1          0             1              0   \n",
       "34475                  0          8             1              0   \n",
       "34478                  0          2           125            180   \n",
       "34497                  1          0          1000              0   \n",
       "34498                  0          1            20              0   \n",
       "\n",
       "       PrevFY2Giving  ...  GENDER_Female  GENDER_Male  DEGREE_LEVEL_GC  \\\n",
       "31                 0  ...              0            1                0   \n",
       "60                 0  ...              0            1                0   \n",
       "85                 0  ...              0            1                0   \n",
       "97                 0  ...              1            0                0   \n",
       "108                0  ...              1            0                0   \n",
       "...              ...  ...            ...          ...              ...   \n",
       "34473              0  ...              0            1                0   \n",
       "34475              0  ...              1            0                0   \n",
       "34478             25  ...              1            0                0   \n",
       "34497           1000  ...              1            0                0   \n",
       "34498              0  ...              0            1                0   \n",
       "\n",
       "       DEGREE_LEVEL_GD  DEGREE_LEVEL_GM  DEGREE_LEVEL_GP  DEGREE_LEVEL_UB  \\\n",
       "31                   0                0                0                0   \n",
       "60                   0                0                0                1   \n",
       "85                   0                0                0                0   \n",
       "97                   0                0                0                0   \n",
       "108                  0                0                0                0   \n",
       "...                ...              ...              ...              ...   \n",
       "34473                0                0                0                0   \n",
       "34475                0                0                0                0   \n",
       "34478                0                0                0                0   \n",
       "34497                0                0                0                1   \n",
       "34498                0                0                0                0   \n",
       "\n",
       "       DEGREE_LEVEL_UC  DEGREE_LEVEL_UG  CurrYrDonor  \n",
       "31                   0                0            0  \n",
       "60                   0                0            0  \n",
       "85                   0                0            0  \n",
       "97                   0                0            0  \n",
       "108                  0                0            0  \n",
       "...                ...              ...          ...  \n",
       "34473                0                0            0  \n",
       "34475                0                0            0  \n",
       "34478                0                0            0  \n",
       "34497                0                0            0  \n",
       "34498                0                0            0  \n",
       "\n",
       "[2289 rows x 36 columns]"
      ]
     },
     "execution_count": 52,
     "metadata": {},
     "output_type": "execute_result"
    }
   ],
   "source": [
    "LastYrDonor"
   ]
  },
  {
   "cell_type": "markdown",
   "metadata": {},
   "source": [
    "There were a total of 2,289 consituents who made a gift last year."
   ]
  },
  {
   "cell_type": "markdown",
   "metadata": {},
   "source": [
    "### How many have donated so far?"
   ]
  },
  {
   "cell_type": "code",
   "execution_count": 53,
   "metadata": {},
   "outputs": [],
   "source": [
    "CurrYrDonor = df2.loc[df2['CurrFYGiving'] > 0]"
   ]
  },
  {
   "cell_type": "code",
   "execution_count": 54,
   "metadata": {},
   "outputs": [
    {
     "data": {
      "text/html": [
       "<div>\n",
       "<style scoped>\n",
       "    .dataframe tbody tr th:only-of-type {\n",
       "        vertical-align: middle;\n",
       "    }\n",
       "\n",
       "    .dataframe tbody tr th {\n",
       "        vertical-align: top;\n",
       "    }\n",
       "\n",
       "    .dataframe thead th {\n",
       "        text-align: right;\n",
       "    }\n",
       "</style>\n",
       "<table border=\"1\" class=\"dataframe\">\n",
       "  <thead>\n",
       "    <tr style=\"text-align: right;\">\n",
       "      <th></th>\n",
       "      <th>AGE</th>\n",
       "      <th>ALUMNUS_IND</th>\n",
       "      <th>PARENT_IND</th>\n",
       "      <th>HAS_INVOLVEMENT_IND</th>\n",
       "      <th>WEALTH_RATING</th>\n",
       "      <th>EMAIL_PRESENT_IND</th>\n",
       "      <th>CON_YEARS</th>\n",
       "      <th>PrevFYGiving</th>\n",
       "      <th>PrevFY1Giving</th>\n",
       "      <th>PrevFY2Giving</th>\n",
       "      <th>...</th>\n",
       "      <th>GENDER_Female</th>\n",
       "      <th>GENDER_Male</th>\n",
       "      <th>DEGREE_LEVEL_GC</th>\n",
       "      <th>DEGREE_LEVEL_GD</th>\n",
       "      <th>DEGREE_LEVEL_GM</th>\n",
       "      <th>DEGREE_LEVEL_GP</th>\n",
       "      <th>DEGREE_LEVEL_UB</th>\n",
       "      <th>DEGREE_LEVEL_UC</th>\n",
       "      <th>DEGREE_LEVEL_UG</th>\n",
       "      <th>CurrYrDonor</th>\n",
       "    </tr>\n",
       "  </thead>\n",
       "  <tbody>\n",
       "    <tr>\n",
       "      <th>2</th>\n",
       "      <td>42.0</td>\n",
       "      <td>0</td>\n",
       "      <td>0</td>\n",
       "      <td>0</td>\n",
       "      <td>0.0</td>\n",
       "      <td>0</td>\n",
       "      <td>1</td>\n",
       "      <td>0</td>\n",
       "      <td>0</td>\n",
       "      <td>0</td>\n",
       "      <td>...</td>\n",
       "      <td>1</td>\n",
       "      <td>0</td>\n",
       "      <td>0</td>\n",
       "      <td>0</td>\n",
       "      <td>0</td>\n",
       "      <td>0</td>\n",
       "      <td>0</td>\n",
       "      <td>0</td>\n",
       "      <td>0</td>\n",
       "      <td>1</td>\n",
       "    </tr>\n",
       "    <tr>\n",
       "      <th>19</th>\n",
       "      <td>42.0</td>\n",
       "      <td>0</td>\n",
       "      <td>1</td>\n",
       "      <td>0</td>\n",
       "      <td>0.0</td>\n",
       "      <td>1</td>\n",
       "      <td>1</td>\n",
       "      <td>0</td>\n",
       "      <td>0</td>\n",
       "      <td>0</td>\n",
       "      <td>...</td>\n",
       "      <td>0</td>\n",
       "      <td>1</td>\n",
       "      <td>0</td>\n",
       "      <td>0</td>\n",
       "      <td>0</td>\n",
       "      <td>0</td>\n",
       "      <td>0</td>\n",
       "      <td>0</td>\n",
       "      <td>0</td>\n",
       "      <td>1</td>\n",
       "    </tr>\n",
       "    <tr>\n",
       "      <th>61</th>\n",
       "      <td>30.0</td>\n",
       "      <td>1</td>\n",
       "      <td>0</td>\n",
       "      <td>1</td>\n",
       "      <td>0.0</td>\n",
       "      <td>1</td>\n",
       "      <td>1</td>\n",
       "      <td>0</td>\n",
       "      <td>25</td>\n",
       "      <td>0</td>\n",
       "      <td>...</td>\n",
       "      <td>0</td>\n",
       "      <td>1</td>\n",
       "      <td>0</td>\n",
       "      <td>0</td>\n",
       "      <td>0</td>\n",
       "      <td>0</td>\n",
       "      <td>1</td>\n",
       "      <td>0</td>\n",
       "      <td>0</td>\n",
       "      <td>1</td>\n",
       "    </tr>\n",
       "    <tr>\n",
       "      <th>67</th>\n",
       "      <td>29.0</td>\n",
       "      <td>0</td>\n",
       "      <td>0</td>\n",
       "      <td>0</td>\n",
       "      <td>0.0</td>\n",
       "      <td>0</td>\n",
       "      <td>0</td>\n",
       "      <td>0</td>\n",
       "      <td>0</td>\n",
       "      <td>0</td>\n",
       "      <td>...</td>\n",
       "      <td>1</td>\n",
       "      <td>0</td>\n",
       "      <td>0</td>\n",
       "      <td>0</td>\n",
       "      <td>0</td>\n",
       "      <td>0</td>\n",
       "      <td>0</td>\n",
       "      <td>0</td>\n",
       "      <td>0</td>\n",
       "      <td>1</td>\n",
       "    </tr>\n",
       "    <tr>\n",
       "      <th>95</th>\n",
       "      <td>42.0</td>\n",
       "      <td>0</td>\n",
       "      <td>0</td>\n",
       "      <td>0</td>\n",
       "      <td>0.0</td>\n",
       "      <td>0</td>\n",
       "      <td>0</td>\n",
       "      <td>0</td>\n",
       "      <td>0</td>\n",
       "      <td>0</td>\n",
       "      <td>...</td>\n",
       "      <td>1</td>\n",
       "      <td>0</td>\n",
       "      <td>0</td>\n",
       "      <td>0</td>\n",
       "      <td>0</td>\n",
       "      <td>0</td>\n",
       "      <td>0</td>\n",
       "      <td>0</td>\n",
       "      <td>0</td>\n",
       "      <td>1</td>\n",
       "    </tr>\n",
       "    <tr>\n",
       "      <th>...</th>\n",
       "      <td>...</td>\n",
       "      <td>...</td>\n",
       "      <td>...</td>\n",
       "      <td>...</td>\n",
       "      <td>...</td>\n",
       "      <td>...</td>\n",
       "      <td>...</td>\n",
       "      <td>...</td>\n",
       "      <td>...</td>\n",
       "      <td>...</td>\n",
       "      <td>...</td>\n",
       "      <td>...</td>\n",
       "      <td>...</td>\n",
       "      <td>...</td>\n",
       "      <td>...</td>\n",
       "      <td>...</td>\n",
       "      <td>...</td>\n",
       "      <td>...</td>\n",
       "      <td>...</td>\n",
       "      <td>...</td>\n",
       "      <td>...</td>\n",
       "    </tr>\n",
       "    <tr>\n",
       "      <th>34401</th>\n",
       "      <td>42.0</td>\n",
       "      <td>1</td>\n",
       "      <td>0</td>\n",
       "      <td>1</td>\n",
       "      <td>0.0</td>\n",
       "      <td>1</td>\n",
       "      <td>0</td>\n",
       "      <td>100</td>\n",
       "      <td>2</td>\n",
       "      <td>0</td>\n",
       "      <td>...</td>\n",
       "      <td>1</td>\n",
       "      <td>0</td>\n",
       "      <td>0</td>\n",
       "      <td>0</td>\n",
       "      <td>0</td>\n",
       "      <td>0</td>\n",
       "      <td>1</td>\n",
       "      <td>0</td>\n",
       "      <td>0</td>\n",
       "      <td>1</td>\n",
       "    </tr>\n",
       "    <tr>\n",
       "      <th>34415</th>\n",
       "      <td>41.0</td>\n",
       "      <td>1</td>\n",
       "      <td>0</td>\n",
       "      <td>0</td>\n",
       "      <td>0.0</td>\n",
       "      <td>1</td>\n",
       "      <td>0</td>\n",
       "      <td>0</td>\n",
       "      <td>0</td>\n",
       "      <td>0</td>\n",
       "      <td>...</td>\n",
       "      <td>0</td>\n",
       "      <td>1</td>\n",
       "      <td>0</td>\n",
       "      <td>0</td>\n",
       "      <td>0</td>\n",
       "      <td>0</td>\n",
       "      <td>1</td>\n",
       "      <td>0</td>\n",
       "      <td>0</td>\n",
       "      <td>1</td>\n",
       "    </tr>\n",
       "    <tr>\n",
       "      <th>34425</th>\n",
       "      <td>42.0</td>\n",
       "      <td>0</td>\n",
       "      <td>0</td>\n",
       "      <td>0</td>\n",
       "      <td>0.0</td>\n",
       "      <td>0</td>\n",
       "      <td>1</td>\n",
       "      <td>0</td>\n",
       "      <td>0</td>\n",
       "      <td>0</td>\n",
       "      <td>...</td>\n",
       "      <td>1</td>\n",
       "      <td>0</td>\n",
       "      <td>0</td>\n",
       "      <td>0</td>\n",
       "      <td>0</td>\n",
       "      <td>0</td>\n",
       "      <td>0</td>\n",
       "      <td>0</td>\n",
       "      <td>0</td>\n",
       "      <td>1</td>\n",
       "    </tr>\n",
       "    <tr>\n",
       "      <th>34448</th>\n",
       "      <td>42.0</td>\n",
       "      <td>0</td>\n",
       "      <td>0</td>\n",
       "      <td>0</td>\n",
       "      <td>0.0</td>\n",
       "      <td>0</td>\n",
       "      <td>4</td>\n",
       "      <td>0</td>\n",
       "      <td>0</td>\n",
       "      <td>0</td>\n",
       "      <td>...</td>\n",
       "      <td>0</td>\n",
       "      <td>1</td>\n",
       "      <td>0</td>\n",
       "      <td>0</td>\n",
       "      <td>0</td>\n",
       "      <td>0</td>\n",
       "      <td>0</td>\n",
       "      <td>0</td>\n",
       "      <td>0</td>\n",
       "      <td>1</td>\n",
       "    </tr>\n",
       "    <tr>\n",
       "      <th>34484</th>\n",
       "      <td>42.0</td>\n",
       "      <td>0</td>\n",
       "      <td>0</td>\n",
       "      <td>0</td>\n",
       "      <td>5.0</td>\n",
       "      <td>0</td>\n",
       "      <td>11</td>\n",
       "      <td>0</td>\n",
       "      <td>0</td>\n",
       "      <td>0</td>\n",
       "      <td>...</td>\n",
       "      <td>1</td>\n",
       "      <td>0</td>\n",
       "      <td>0</td>\n",
       "      <td>0</td>\n",
       "      <td>0</td>\n",
       "      <td>0</td>\n",
       "      <td>0</td>\n",
       "      <td>0</td>\n",
       "      <td>0</td>\n",
       "      <td>1</td>\n",
       "    </tr>\n",
       "  </tbody>\n",
       "</table>\n",
       "<p>1845 rows × 36 columns</p>\n",
       "</div>"
      ],
      "text/plain": [
       "        AGE  ALUMNUS_IND  PARENT_IND  HAS_INVOLVEMENT_IND  WEALTH_RATING  \\\n",
       "2      42.0            0           0                    0            0.0   \n",
       "19     42.0            0           1                    0            0.0   \n",
       "61     30.0            1           0                    1            0.0   \n",
       "67     29.0            0           0                    0            0.0   \n",
       "95     42.0            0           0                    0            0.0   \n",
       "...     ...          ...         ...                  ...            ...   \n",
       "34401  42.0            1           0                    1            0.0   \n",
       "34415  41.0            1           0                    0            0.0   \n",
       "34425  42.0            0           0                    0            0.0   \n",
       "34448  42.0            0           0                    0            0.0   \n",
       "34484  42.0            0           0                    0            5.0   \n",
       "\n",
       "       EMAIL_PRESENT_IND  CON_YEARS  PrevFYGiving  PrevFY1Giving  \\\n",
       "2                      0          1             0              0   \n",
       "19                     1          1             0              0   \n",
       "61                     1          1             0             25   \n",
       "67                     0          0             0              0   \n",
       "95                     0          0             0              0   \n",
       "...                  ...        ...           ...            ...   \n",
       "34401                  1          0           100              2   \n",
       "34415                  1          0             0              0   \n",
       "34425                  0          1             0              0   \n",
       "34448                  0          4             0              0   \n",
       "34484                  0         11             0              0   \n",
       "\n",
       "       PrevFY2Giving  ...  GENDER_Female  GENDER_Male  DEGREE_LEVEL_GC  \\\n",
       "2                  0  ...              1            0                0   \n",
       "19                 0  ...              0            1                0   \n",
       "61                 0  ...              0            1                0   \n",
       "67                 0  ...              1            0                0   \n",
       "95                 0  ...              1            0                0   \n",
       "...              ...  ...            ...          ...              ...   \n",
       "34401              0  ...              1            0                0   \n",
       "34415              0  ...              0            1                0   \n",
       "34425              0  ...              1            0                0   \n",
       "34448              0  ...              0            1                0   \n",
       "34484              0  ...              1            0                0   \n",
       "\n",
       "       DEGREE_LEVEL_GD  DEGREE_LEVEL_GM  DEGREE_LEVEL_GP  DEGREE_LEVEL_UB  \\\n",
       "2                    0                0                0                0   \n",
       "19                   0                0                0                0   \n",
       "61                   0                0                0                1   \n",
       "67                   0                0                0                0   \n",
       "95                   0                0                0                0   \n",
       "...                ...              ...              ...              ...   \n",
       "34401                0                0                0                1   \n",
       "34415                0                0                0                1   \n",
       "34425                0                0                0                0   \n",
       "34448                0                0                0                0   \n",
       "34484                0                0                0                0   \n",
       "\n",
       "       DEGREE_LEVEL_UC  DEGREE_LEVEL_UG  CurrYrDonor  \n",
       "2                    0                0            1  \n",
       "19                   0                0            1  \n",
       "61                   0                0            1  \n",
       "67                   0                0            1  \n",
       "95                   0                0            1  \n",
       "...                ...              ...          ...  \n",
       "34401                0                0            1  \n",
       "34415                0                0            1  \n",
       "34425                0                0            1  \n",
       "34448                0                0            1  \n",
       "34484                0                0            1  \n",
       "\n",
       "[1845 rows x 36 columns]"
      ]
     },
     "execution_count": 54,
     "metadata": {},
     "output_type": "execute_result"
    }
   ],
   "source": [
    "CurrYrDonor"
   ]
  },
  {
   "cell_type": "markdown",
   "metadata": {},
   "source": [
    "1,845 donors have so far donated this year."
   ]
  },
  {
   "cell_type": "markdown",
   "metadata": {},
   "source": [
    "### Are there any new donors to the institution? Are current year donors the same as last year?"
   ]
  },
  {
   "cell_type": "code",
   "execution_count": 55,
   "metadata": {},
   "outputs": [],
   "source": [
    "New = df2.loc[(df2['PrevFYGiving'] == 0) & (df2['CurrFYGiving'] != 0)]"
   ]
  },
  {
   "cell_type": "code",
   "execution_count": 56,
   "metadata": {},
   "outputs": [
    {
     "data": {
      "text/html": [
       "<div>\n",
       "<style scoped>\n",
       "    .dataframe tbody tr th:only-of-type {\n",
       "        vertical-align: middle;\n",
       "    }\n",
       "\n",
       "    .dataframe tbody tr th {\n",
       "        vertical-align: top;\n",
       "    }\n",
       "\n",
       "    .dataframe thead th {\n",
       "        text-align: right;\n",
       "    }\n",
       "</style>\n",
       "<table border=\"1\" class=\"dataframe\">\n",
       "  <thead>\n",
       "    <tr style=\"text-align: right;\">\n",
       "      <th></th>\n",
       "      <th>AGE</th>\n",
       "      <th>ALUMNUS_IND</th>\n",
       "      <th>PARENT_IND</th>\n",
       "      <th>HAS_INVOLVEMENT_IND</th>\n",
       "      <th>WEALTH_RATING</th>\n",
       "      <th>EMAIL_PRESENT_IND</th>\n",
       "      <th>CON_YEARS</th>\n",
       "      <th>PrevFYGiving</th>\n",
       "      <th>PrevFY1Giving</th>\n",
       "      <th>PrevFY2Giving</th>\n",
       "      <th>...</th>\n",
       "      <th>GENDER_Female</th>\n",
       "      <th>GENDER_Male</th>\n",
       "      <th>DEGREE_LEVEL_GC</th>\n",
       "      <th>DEGREE_LEVEL_GD</th>\n",
       "      <th>DEGREE_LEVEL_GM</th>\n",
       "      <th>DEGREE_LEVEL_GP</th>\n",
       "      <th>DEGREE_LEVEL_UB</th>\n",
       "      <th>DEGREE_LEVEL_UC</th>\n",
       "      <th>DEGREE_LEVEL_UG</th>\n",
       "      <th>CurrYrDonor</th>\n",
       "    </tr>\n",
       "  </thead>\n",
       "  <tbody>\n",
       "    <tr>\n",
       "      <th>2</th>\n",
       "      <td>42.0</td>\n",
       "      <td>0</td>\n",
       "      <td>0</td>\n",
       "      <td>0</td>\n",
       "      <td>0.0</td>\n",
       "      <td>0</td>\n",
       "      <td>1</td>\n",
       "      <td>0</td>\n",
       "      <td>0</td>\n",
       "      <td>0</td>\n",
       "      <td>...</td>\n",
       "      <td>1</td>\n",
       "      <td>0</td>\n",
       "      <td>0</td>\n",
       "      <td>0</td>\n",
       "      <td>0</td>\n",
       "      <td>0</td>\n",
       "      <td>0</td>\n",
       "      <td>0</td>\n",
       "      <td>0</td>\n",
       "      <td>1</td>\n",
       "    </tr>\n",
       "    <tr>\n",
       "      <th>19</th>\n",
       "      <td>42.0</td>\n",
       "      <td>0</td>\n",
       "      <td>1</td>\n",
       "      <td>0</td>\n",
       "      <td>0.0</td>\n",
       "      <td>1</td>\n",
       "      <td>1</td>\n",
       "      <td>0</td>\n",
       "      <td>0</td>\n",
       "      <td>0</td>\n",
       "      <td>...</td>\n",
       "      <td>0</td>\n",
       "      <td>1</td>\n",
       "      <td>0</td>\n",
       "      <td>0</td>\n",
       "      <td>0</td>\n",
       "      <td>0</td>\n",
       "      <td>0</td>\n",
       "      <td>0</td>\n",
       "      <td>0</td>\n",
       "      <td>1</td>\n",
       "    </tr>\n",
       "    <tr>\n",
       "      <th>61</th>\n",
       "      <td>30.0</td>\n",
       "      <td>1</td>\n",
       "      <td>0</td>\n",
       "      <td>1</td>\n",
       "      <td>0.0</td>\n",
       "      <td>1</td>\n",
       "      <td>1</td>\n",
       "      <td>0</td>\n",
       "      <td>25</td>\n",
       "      <td>0</td>\n",
       "      <td>...</td>\n",
       "      <td>0</td>\n",
       "      <td>1</td>\n",
       "      <td>0</td>\n",
       "      <td>0</td>\n",
       "      <td>0</td>\n",
       "      <td>0</td>\n",
       "      <td>1</td>\n",
       "      <td>0</td>\n",
       "      <td>0</td>\n",
       "      <td>1</td>\n",
       "    </tr>\n",
       "    <tr>\n",
       "      <th>67</th>\n",
       "      <td>29.0</td>\n",
       "      <td>0</td>\n",
       "      <td>0</td>\n",
       "      <td>0</td>\n",
       "      <td>0.0</td>\n",
       "      <td>0</td>\n",
       "      <td>0</td>\n",
       "      <td>0</td>\n",
       "      <td>0</td>\n",
       "      <td>0</td>\n",
       "      <td>...</td>\n",
       "      <td>1</td>\n",
       "      <td>0</td>\n",
       "      <td>0</td>\n",
       "      <td>0</td>\n",
       "      <td>0</td>\n",
       "      <td>0</td>\n",
       "      <td>0</td>\n",
       "      <td>0</td>\n",
       "      <td>0</td>\n",
       "      <td>1</td>\n",
       "    </tr>\n",
       "    <tr>\n",
       "      <th>95</th>\n",
       "      <td>42.0</td>\n",
       "      <td>0</td>\n",
       "      <td>0</td>\n",
       "      <td>0</td>\n",
       "      <td>0.0</td>\n",
       "      <td>0</td>\n",
       "      <td>0</td>\n",
       "      <td>0</td>\n",
       "      <td>0</td>\n",
       "      <td>0</td>\n",
       "      <td>...</td>\n",
       "      <td>1</td>\n",
       "      <td>0</td>\n",
       "      <td>0</td>\n",
       "      <td>0</td>\n",
       "      <td>0</td>\n",
       "      <td>0</td>\n",
       "      <td>0</td>\n",
       "      <td>0</td>\n",
       "      <td>0</td>\n",
       "      <td>1</td>\n",
       "    </tr>\n",
       "    <tr>\n",
       "      <th>...</th>\n",
       "      <td>...</td>\n",
       "      <td>...</td>\n",
       "      <td>...</td>\n",
       "      <td>...</td>\n",
       "      <td>...</td>\n",
       "      <td>...</td>\n",
       "      <td>...</td>\n",
       "      <td>...</td>\n",
       "      <td>...</td>\n",
       "      <td>...</td>\n",
       "      <td>...</td>\n",
       "      <td>...</td>\n",
       "      <td>...</td>\n",
       "      <td>...</td>\n",
       "      <td>...</td>\n",
       "      <td>...</td>\n",
       "      <td>...</td>\n",
       "      <td>...</td>\n",
       "      <td>...</td>\n",
       "      <td>...</td>\n",
       "      <td>...</td>\n",
       "    </tr>\n",
       "    <tr>\n",
       "      <th>34373</th>\n",
       "      <td>42.0</td>\n",
       "      <td>0</td>\n",
       "      <td>0</td>\n",
       "      <td>1</td>\n",
       "      <td>0.0</td>\n",
       "      <td>0</td>\n",
       "      <td>1</td>\n",
       "      <td>0</td>\n",
       "      <td>0</td>\n",
       "      <td>130</td>\n",
       "      <td>...</td>\n",
       "      <td>1</td>\n",
       "      <td>0</td>\n",
       "      <td>0</td>\n",
       "      <td>0</td>\n",
       "      <td>0</td>\n",
       "      <td>0</td>\n",
       "      <td>0</td>\n",
       "      <td>0</td>\n",
       "      <td>0</td>\n",
       "      <td>1</td>\n",
       "    </tr>\n",
       "    <tr>\n",
       "      <th>34415</th>\n",
       "      <td>41.0</td>\n",
       "      <td>1</td>\n",
       "      <td>0</td>\n",
       "      <td>0</td>\n",
       "      <td>0.0</td>\n",
       "      <td>1</td>\n",
       "      <td>0</td>\n",
       "      <td>0</td>\n",
       "      <td>0</td>\n",
       "      <td>0</td>\n",
       "      <td>...</td>\n",
       "      <td>0</td>\n",
       "      <td>1</td>\n",
       "      <td>0</td>\n",
       "      <td>0</td>\n",
       "      <td>0</td>\n",
       "      <td>0</td>\n",
       "      <td>1</td>\n",
       "      <td>0</td>\n",
       "      <td>0</td>\n",
       "      <td>1</td>\n",
       "    </tr>\n",
       "    <tr>\n",
       "      <th>34425</th>\n",
       "      <td>42.0</td>\n",
       "      <td>0</td>\n",
       "      <td>0</td>\n",
       "      <td>0</td>\n",
       "      <td>0.0</td>\n",
       "      <td>0</td>\n",
       "      <td>1</td>\n",
       "      <td>0</td>\n",
       "      <td>0</td>\n",
       "      <td>0</td>\n",
       "      <td>...</td>\n",
       "      <td>1</td>\n",
       "      <td>0</td>\n",
       "      <td>0</td>\n",
       "      <td>0</td>\n",
       "      <td>0</td>\n",
       "      <td>0</td>\n",
       "      <td>0</td>\n",
       "      <td>0</td>\n",
       "      <td>0</td>\n",
       "      <td>1</td>\n",
       "    </tr>\n",
       "    <tr>\n",
       "      <th>34448</th>\n",
       "      <td>42.0</td>\n",
       "      <td>0</td>\n",
       "      <td>0</td>\n",
       "      <td>0</td>\n",
       "      <td>0.0</td>\n",
       "      <td>0</td>\n",
       "      <td>4</td>\n",
       "      <td>0</td>\n",
       "      <td>0</td>\n",
       "      <td>0</td>\n",
       "      <td>...</td>\n",
       "      <td>0</td>\n",
       "      <td>1</td>\n",
       "      <td>0</td>\n",
       "      <td>0</td>\n",
       "      <td>0</td>\n",
       "      <td>0</td>\n",
       "      <td>0</td>\n",
       "      <td>0</td>\n",
       "      <td>0</td>\n",
       "      <td>1</td>\n",
       "    </tr>\n",
       "    <tr>\n",
       "      <th>34484</th>\n",
       "      <td>42.0</td>\n",
       "      <td>0</td>\n",
       "      <td>0</td>\n",
       "      <td>0</td>\n",
       "      <td>5.0</td>\n",
       "      <td>0</td>\n",
       "      <td>11</td>\n",
       "      <td>0</td>\n",
       "      <td>0</td>\n",
       "      <td>0</td>\n",
       "      <td>...</td>\n",
       "      <td>1</td>\n",
       "      <td>0</td>\n",
       "      <td>0</td>\n",
       "      <td>0</td>\n",
       "      <td>0</td>\n",
       "      <td>0</td>\n",
       "      <td>0</td>\n",
       "      <td>0</td>\n",
       "      <td>0</td>\n",
       "      <td>1</td>\n",
       "    </tr>\n",
       "  </tbody>\n",
       "</table>\n",
       "<p>1689 rows × 36 columns</p>\n",
       "</div>"
      ],
      "text/plain": [
       "        AGE  ALUMNUS_IND  PARENT_IND  HAS_INVOLVEMENT_IND  WEALTH_RATING  \\\n",
       "2      42.0            0           0                    0            0.0   \n",
       "19     42.0            0           1                    0            0.0   \n",
       "61     30.0            1           0                    1            0.0   \n",
       "67     29.0            0           0                    0            0.0   \n",
       "95     42.0            0           0                    0            0.0   \n",
       "...     ...          ...         ...                  ...            ...   \n",
       "34373  42.0            0           0                    1            0.0   \n",
       "34415  41.0            1           0                    0            0.0   \n",
       "34425  42.0            0           0                    0            0.0   \n",
       "34448  42.0            0           0                    0            0.0   \n",
       "34484  42.0            0           0                    0            5.0   \n",
       "\n",
       "       EMAIL_PRESENT_IND  CON_YEARS  PrevFYGiving  PrevFY1Giving  \\\n",
       "2                      0          1             0              0   \n",
       "19                     1          1             0              0   \n",
       "61                     1          1             0             25   \n",
       "67                     0          0             0              0   \n",
       "95                     0          0             0              0   \n",
       "...                  ...        ...           ...            ...   \n",
       "34373                  0          1             0              0   \n",
       "34415                  1          0             0              0   \n",
       "34425                  0          1             0              0   \n",
       "34448                  0          4             0              0   \n",
       "34484                  0         11             0              0   \n",
       "\n",
       "       PrevFY2Giving  ...  GENDER_Female  GENDER_Male  DEGREE_LEVEL_GC  \\\n",
       "2                  0  ...              1            0                0   \n",
       "19                 0  ...              0            1                0   \n",
       "61                 0  ...              0            1                0   \n",
       "67                 0  ...              1            0                0   \n",
       "95                 0  ...              1            0                0   \n",
       "...              ...  ...            ...          ...              ...   \n",
       "34373            130  ...              1            0                0   \n",
       "34415              0  ...              0            1                0   \n",
       "34425              0  ...              1            0                0   \n",
       "34448              0  ...              0            1                0   \n",
       "34484              0  ...              1            0                0   \n",
       "\n",
       "       DEGREE_LEVEL_GD  DEGREE_LEVEL_GM  DEGREE_LEVEL_GP  DEGREE_LEVEL_UB  \\\n",
       "2                    0                0                0                0   \n",
       "19                   0                0                0                0   \n",
       "61                   0                0                0                1   \n",
       "67                   0                0                0                0   \n",
       "95                   0                0                0                0   \n",
       "...                ...              ...              ...              ...   \n",
       "34373                0                0                0                0   \n",
       "34415                0                0                0                1   \n",
       "34425                0                0                0                0   \n",
       "34448                0                0                0                0   \n",
       "34484                0                0                0                0   \n",
       "\n",
       "       DEGREE_LEVEL_UC  DEGREE_LEVEL_UG  CurrYrDonor  \n",
       "2                    0                0            1  \n",
       "19                   0                0            1  \n",
       "61                   0                0            1  \n",
       "67                   0                0            1  \n",
       "95                   0                0            1  \n",
       "...                ...              ...          ...  \n",
       "34373                0                0            1  \n",
       "34415                0                0            1  \n",
       "34425                0                0            1  \n",
       "34448                0                0            1  \n",
       "34484                0                0            1  \n",
       "\n",
       "[1689 rows x 36 columns]"
      ]
     },
     "execution_count": 56,
     "metadata": {},
     "output_type": "execute_result"
    }
   ],
   "source": [
    "New"
   ]
  },
  {
   "cell_type": "markdown",
   "metadata": {},
   "source": [
    "There are 1,689 people that have donated this year but not last year."
   ]
  },
  {
   "cell_type": "markdown",
   "metadata": {},
   "source": [
    "### Correlations between features"
   ]
  },
  {
   "cell_type": "code",
   "execution_count": 57,
   "metadata": {},
   "outputs": [
    {
     "data": {
      "text/plain": [
       "<AxesSubplot:>"
      ]
     },
     "execution_count": 57,
     "metadata": {},
     "output_type": "execute_result"
    },
    {
     "data": {
      "image/png": "[encoded data removed]",
      "text/plain": [
       "<Figure size 432x288 with 2 Axes>"
      ]
     },
     "metadata": {
      "needs_background": "light"
     },
     "output_type": "display_data"
    }
   ],
   "source": [
    "# correlation heatmap \n",
    "corrmat = df2.corr()\n",
    "sns.heatmap(corrmat, square = True, cmap=\"Blues\")"
   ]
  },
  {
   "cell_type": "markdown",
   "metadata": {},
   "source": [
    "The highest correlated features are between the giving features.\n",
    "\n",
    "Reviewing how current fiscal year giving correlates to other giving features:"
   ]
  },
  {
   "cell_type": "code",
   "execution_count": 58,
   "metadata": {},
   "outputs": [
    {
     "data": {
      "text/plain": [
       "<seaborn.axisgrid.PairGrid at 0x25c6edbd490>"
      ]
     },
     "execution_count": 58,
     "metadata": {},
     "output_type": "execute_result"
    },
    {
     "data": {
      "image/png": "[encoded data removed]",
      "text/plain": [
       "<Figure size 540x180 with 3 Axes>"
      ]
     },
     "metadata": {
      "needs_background": "light"
     },
     "output_type": "display_data"
    }
   ],
   "source": [
    "sns.pairplot(data=df2, y_vars=['CurrFYGiving'], x_vars=['TotalGiving', 'PrevFYGiving', 'CON_YEARS'])"
   ]
  },
  {
   "cell_type": "markdown",
   "metadata": {},
   "source": [
    "### Reviewing how wealth rating correlates to giving features:"
   ]
  },
  {
   "cell_type": "code",
   "execution_count": 59,
   "metadata": {},
   "outputs": [
    {
     "data": {
      "text/plain": [
       "<seaborn.axisgrid.PairGrid at 0x25c6f2ef0d0>"
      ]
     },
     "execution_count": 59,
     "metadata": {},
     "output_type": "execute_result"
    },
    {
     "data": {
      "image/png": "[encoded data removed]",
      "text/plain": [
       "<Figure size 540x180 with 3 Axes>"
      ]
     },
     "metadata": {
      "needs_background": "light"
     },
     "output_type": "display_data"
    }
   ],
   "source": [
    "sns.pairplot(data=df2, y_vars=['WEALTH_RATING'], x_vars=['TotalGiving', 'PrevFYGiving','CON_YEARS'])"
   ]
  },
  {
   "cell_type": "markdown",
   "metadata": {},
   "source": [
    "From the boxplot above there are some donors who have made sizeable gifts that have no wealth rating. This could be a discovery list to confirmm their capacity to donate. \n",
    "\n",
    "### Let's identify a discovery pool with anyone that is unrated and has total giving of over or equal to one hundred thousand. "
   ]
  },
  {
   "cell_type": "code",
   "execution_count": 60,
   "metadata": {},
   "outputs": [],
   "source": [
    "discovery = df2.loc[(df2['TotalGiving'] >= 100000) & (df2['WEALTH_RATING'] == 0)]"
   ]
  },
  {
   "cell_type": "code",
   "execution_count": 61,
   "metadata": {},
   "outputs": [
    {
     "data": {
      "text/html": [
       "<div>\n",
       "<style scoped>\n",
       "    .dataframe tbody tr th:only-of-type {\n",
       "        vertical-align: middle;\n",
       "    }\n",
       "\n",
       "    .dataframe tbody tr th {\n",
       "        vertical-align: top;\n",
       "    }\n",
       "\n",
       "    .dataframe thead th {\n",
       "        text-align: right;\n",
       "    }\n",
       "</style>\n",
       "<table border=\"1\" class=\"dataframe\">\n",
       "  <thead>\n",
       "    <tr style=\"text-align: right;\">\n",
       "      <th></th>\n",
       "      <th>AGE</th>\n",
       "      <th>ALUMNUS_IND</th>\n",
       "      <th>PARENT_IND</th>\n",
       "      <th>HAS_INVOLVEMENT_IND</th>\n",
       "      <th>WEALTH_RATING</th>\n",
       "      <th>EMAIL_PRESENT_IND</th>\n",
       "      <th>CON_YEARS</th>\n",
       "      <th>PrevFYGiving</th>\n",
       "      <th>PrevFY1Giving</th>\n",
       "      <th>PrevFY2Giving</th>\n",
       "      <th>...</th>\n",
       "      <th>GENDER_Female</th>\n",
       "      <th>GENDER_Male</th>\n",
       "      <th>DEGREE_LEVEL_GC</th>\n",
       "      <th>DEGREE_LEVEL_GD</th>\n",
       "      <th>DEGREE_LEVEL_GM</th>\n",
       "      <th>DEGREE_LEVEL_GP</th>\n",
       "      <th>DEGREE_LEVEL_UB</th>\n",
       "      <th>DEGREE_LEVEL_UC</th>\n",
       "      <th>DEGREE_LEVEL_UG</th>\n",
       "      <th>CurrYrDonor</th>\n",
       "    </tr>\n",
       "  </thead>\n",
       "  <tbody>\n",
       "    <tr>\n",
       "      <th>71</th>\n",
       "      <td>83.0</td>\n",
       "      <td>1</td>\n",
       "      <td>0</td>\n",
       "      <td>1</td>\n",
       "      <td>0.0</td>\n",
       "      <td>1</td>\n",
       "      <td>30</td>\n",
       "      <td>0</td>\n",
       "      <td>0</td>\n",
       "      <td>0</td>\n",
       "      <td>...</td>\n",
       "      <td>0</td>\n",
       "      <td>1</td>\n",
       "      <td>0</td>\n",
       "      <td>0</td>\n",
       "      <td>0</td>\n",
       "      <td>0</td>\n",
       "      <td>1</td>\n",
       "      <td>0</td>\n",
       "      <td>0</td>\n",
       "      <td>0</td>\n",
       "    </tr>\n",
       "    <tr>\n",
       "      <th>809</th>\n",
       "      <td>42.0</td>\n",
       "      <td>0</td>\n",
       "      <td>0</td>\n",
       "      <td>0</td>\n",
       "      <td>0.0</td>\n",
       "      <td>0</td>\n",
       "      <td>1</td>\n",
       "      <td>0</td>\n",
       "      <td>2500</td>\n",
       "      <td>0</td>\n",
       "      <td>...</td>\n",
       "      <td>1</td>\n",
       "      <td>0</td>\n",
       "      <td>0</td>\n",
       "      <td>0</td>\n",
       "      <td>0</td>\n",
       "      <td>0</td>\n",
       "      <td>0</td>\n",
       "      <td>0</td>\n",
       "      <td>0</td>\n",
       "      <td>0</td>\n",
       "    </tr>\n",
       "    <tr>\n",
       "      <th>1324</th>\n",
       "      <td>89.0</td>\n",
       "      <td>0</td>\n",
       "      <td>0</td>\n",
       "      <td>0</td>\n",
       "      <td>0.0</td>\n",
       "      <td>0</td>\n",
       "      <td>8</td>\n",
       "      <td>500000</td>\n",
       "      <td>1932960</td>\n",
       "      <td>3000</td>\n",
       "      <td>...</td>\n",
       "      <td>1</td>\n",
       "      <td>0</td>\n",
       "      <td>0</td>\n",
       "      <td>0</td>\n",
       "      <td>0</td>\n",
       "      <td>0</td>\n",
       "      <td>0</td>\n",
       "      <td>0</td>\n",
       "      <td>0</td>\n",
       "      <td>1</td>\n",
       "    </tr>\n",
       "    <tr>\n",
       "      <th>1792</th>\n",
       "      <td>90.0</td>\n",
       "      <td>0</td>\n",
       "      <td>0</td>\n",
       "      <td>1</td>\n",
       "      <td>0.0</td>\n",
       "      <td>0</td>\n",
       "      <td>15</td>\n",
       "      <td>0</td>\n",
       "      <td>0</td>\n",
       "      <td>0</td>\n",
       "      <td>...</td>\n",
       "      <td>0</td>\n",
       "      <td>1</td>\n",
       "      <td>0</td>\n",
       "      <td>0</td>\n",
       "      <td>0</td>\n",
       "      <td>0</td>\n",
       "      <td>0</td>\n",
       "      <td>0</td>\n",
       "      <td>0</td>\n",
       "      <td>0</td>\n",
       "    </tr>\n",
       "    <tr>\n",
       "      <th>2172</th>\n",
       "      <td>99.0</td>\n",
       "      <td>1</td>\n",
       "      <td>0</td>\n",
       "      <td>1</td>\n",
       "      <td>0.0</td>\n",
       "      <td>0</td>\n",
       "      <td>6</td>\n",
       "      <td>500000</td>\n",
       "      <td>0</td>\n",
       "      <td>500000</td>\n",
       "      <td>...</td>\n",
       "      <td>1</td>\n",
       "      <td>0</td>\n",
       "      <td>0</td>\n",
       "      <td>0</td>\n",
       "      <td>1</td>\n",
       "      <td>0</td>\n",
       "      <td>0</td>\n",
       "      <td>0</td>\n",
       "      <td>0</td>\n",
       "      <td>1</td>\n",
       "    </tr>\n",
       "    <tr>\n",
       "      <th>2461</th>\n",
       "      <td>42.0</td>\n",
       "      <td>0</td>\n",
       "      <td>0</td>\n",
       "      <td>0</td>\n",
       "      <td>0.0</td>\n",
       "      <td>0</td>\n",
       "      <td>1</td>\n",
       "      <td>1630</td>\n",
       "      <td>0</td>\n",
       "      <td>500</td>\n",
       "      <td>...</td>\n",
       "      <td>1</td>\n",
       "      <td>0</td>\n",
       "      <td>0</td>\n",
       "      <td>0</td>\n",
       "      <td>0</td>\n",
       "      <td>0</td>\n",
       "      <td>0</td>\n",
       "      <td>0</td>\n",
       "      <td>0</td>\n",
       "      <td>0</td>\n",
       "    </tr>\n",
       "    <tr>\n",
       "      <th>2928</th>\n",
       "      <td>42.0</td>\n",
       "      <td>0</td>\n",
       "      <td>0</td>\n",
       "      <td>0</td>\n",
       "      <td>0.0</td>\n",
       "      <td>0</td>\n",
       "      <td>5</td>\n",
       "      <td>19505</td>\n",
       "      <td>5000</td>\n",
       "      <td>14555</td>\n",
       "      <td>...</td>\n",
       "      <td>0</td>\n",
       "      <td>1</td>\n",
       "      <td>0</td>\n",
       "      <td>0</td>\n",
       "      <td>0</td>\n",
       "      <td>0</td>\n",
       "      <td>0</td>\n",
       "      <td>0</td>\n",
       "      <td>0</td>\n",
       "      <td>0</td>\n",
       "    </tr>\n",
       "    <tr>\n",
       "      <th>3286</th>\n",
       "      <td>42.0</td>\n",
       "      <td>0</td>\n",
       "      <td>0</td>\n",
       "      <td>0</td>\n",
       "      <td>0.0</td>\n",
       "      <td>0</td>\n",
       "      <td>0</td>\n",
       "      <td>3000</td>\n",
       "      <td>53000</td>\n",
       "      <td>10400</td>\n",
       "      <td>...</td>\n",
       "      <td>1</td>\n",
       "      <td>0</td>\n",
       "      <td>0</td>\n",
       "      <td>0</td>\n",
       "      <td>0</td>\n",
       "      <td>0</td>\n",
       "      <td>0</td>\n",
       "      <td>0</td>\n",
       "      <td>0</td>\n",
       "      <td>1</td>\n",
       "    </tr>\n",
       "    <tr>\n",
       "      <th>3524</th>\n",
       "      <td>42.0</td>\n",
       "      <td>0</td>\n",
       "      <td>0</td>\n",
       "      <td>0</td>\n",
       "      <td>0.0</td>\n",
       "      <td>0</td>\n",
       "      <td>0</td>\n",
       "      <td>0</td>\n",
       "      <td>0</td>\n",
       "      <td>0</td>\n",
       "      <td>...</td>\n",
       "      <td>0</td>\n",
       "      <td>1</td>\n",
       "      <td>0</td>\n",
       "      <td>0</td>\n",
       "      <td>0</td>\n",
       "      <td>0</td>\n",
       "      <td>0</td>\n",
       "      <td>0</td>\n",
       "      <td>0</td>\n",
       "      <td>1</td>\n",
       "    </tr>\n",
       "    <tr>\n",
       "      <th>4276</th>\n",
       "      <td>41.0</td>\n",
       "      <td>0</td>\n",
       "      <td>0</td>\n",
       "      <td>0</td>\n",
       "      <td>0.0</td>\n",
       "      <td>0</td>\n",
       "      <td>0</td>\n",
       "      <td>0</td>\n",
       "      <td>25000</td>\n",
       "      <td>10000</td>\n",
       "      <td>...</td>\n",
       "      <td>1</td>\n",
       "      <td>0</td>\n",
       "      <td>0</td>\n",
       "      <td>0</td>\n",
       "      <td>0</td>\n",
       "      <td>0</td>\n",
       "      <td>0</td>\n",
       "      <td>0</td>\n",
       "      <td>0</td>\n",
       "      <td>1</td>\n",
       "    </tr>\n",
       "    <tr>\n",
       "      <th>4663</th>\n",
       "      <td>42.0</td>\n",
       "      <td>0</td>\n",
       "      <td>0</td>\n",
       "      <td>0</td>\n",
       "      <td>0.0</td>\n",
       "      <td>0</td>\n",
       "      <td>1</td>\n",
       "      <td>0</td>\n",
       "      <td>0</td>\n",
       "      <td>0</td>\n",
       "      <td>...</td>\n",
       "      <td>0</td>\n",
       "      <td>1</td>\n",
       "      <td>0</td>\n",
       "      <td>0</td>\n",
       "      <td>0</td>\n",
       "      <td>0</td>\n",
       "      <td>0</td>\n",
       "      <td>0</td>\n",
       "      <td>0</td>\n",
       "      <td>0</td>\n",
       "    </tr>\n",
       "    <tr>\n",
       "      <th>5743</th>\n",
       "      <td>42.0</td>\n",
       "      <td>0</td>\n",
       "      <td>0</td>\n",
       "      <td>1</td>\n",
       "      <td>0.0</td>\n",
       "      <td>0</td>\n",
       "      <td>9</td>\n",
       "      <td>0</td>\n",
       "      <td>0</td>\n",
       "      <td>0</td>\n",
       "      <td>...</td>\n",
       "      <td>0</td>\n",
       "      <td>1</td>\n",
       "      <td>0</td>\n",
       "      <td>0</td>\n",
       "      <td>0</td>\n",
       "      <td>0</td>\n",
       "      <td>0</td>\n",
       "      <td>0</td>\n",
       "      <td>0</td>\n",
       "      <td>1</td>\n",
       "    </tr>\n",
       "    <tr>\n",
       "      <th>6371</th>\n",
       "      <td>42.0</td>\n",
       "      <td>0</td>\n",
       "      <td>0</td>\n",
       "      <td>1</td>\n",
       "      <td>0.0</td>\n",
       "      <td>0</td>\n",
       "      <td>3</td>\n",
       "      <td>0</td>\n",
       "      <td>0</td>\n",
       "      <td>0</td>\n",
       "      <td>...</td>\n",
       "      <td>1</td>\n",
       "      <td>0</td>\n",
       "      <td>0</td>\n",
       "      <td>0</td>\n",
       "      <td>0</td>\n",
       "      <td>0</td>\n",
       "      <td>0</td>\n",
       "      <td>0</td>\n",
       "      <td>0</td>\n",
       "      <td>0</td>\n",
       "    </tr>\n",
       "    <tr>\n",
       "      <th>6708</th>\n",
       "      <td>42.0</td>\n",
       "      <td>0</td>\n",
       "      <td>0</td>\n",
       "      <td>0</td>\n",
       "      <td>0.0</td>\n",
       "      <td>0</td>\n",
       "      <td>1</td>\n",
       "      <td>90000</td>\n",
       "      <td>25750</td>\n",
       "      <td>75000</td>\n",
       "      <td>...</td>\n",
       "      <td>0</td>\n",
       "      <td>1</td>\n",
       "      <td>0</td>\n",
       "      <td>0</td>\n",
       "      <td>0</td>\n",
       "      <td>0</td>\n",
       "      <td>0</td>\n",
       "      <td>0</td>\n",
       "      <td>0</td>\n",
       "      <td>1</td>\n",
       "    </tr>\n",
       "    <tr>\n",
       "      <th>7275</th>\n",
       "      <td>35.0</td>\n",
       "      <td>0</td>\n",
       "      <td>0</td>\n",
       "      <td>0</td>\n",
       "      <td>0.0</td>\n",
       "      <td>0</td>\n",
       "      <td>0</td>\n",
       "      <td>0</td>\n",
       "      <td>0</td>\n",
       "      <td>0</td>\n",
       "      <td>...</td>\n",
       "      <td>1</td>\n",
       "      <td>0</td>\n",
       "      <td>0</td>\n",
       "      <td>0</td>\n",
       "      <td>0</td>\n",
       "      <td>0</td>\n",
       "      <td>0</td>\n",
       "      <td>0</td>\n",
       "      <td>0</td>\n",
       "      <td>0</td>\n",
       "    </tr>\n",
       "    <tr>\n",
       "      <th>7538</th>\n",
       "      <td>36.0</td>\n",
       "      <td>0</td>\n",
       "      <td>0</td>\n",
       "      <td>0</td>\n",
       "      <td>0.0</td>\n",
       "      <td>0</td>\n",
       "      <td>0</td>\n",
       "      <td>0</td>\n",
       "      <td>0</td>\n",
       "      <td>0</td>\n",
       "      <td>...</td>\n",
       "      <td>0</td>\n",
       "      <td>1</td>\n",
       "      <td>0</td>\n",
       "      <td>0</td>\n",
       "      <td>0</td>\n",
       "      <td>0</td>\n",
       "      <td>0</td>\n",
       "      <td>0</td>\n",
       "      <td>0</td>\n",
       "      <td>0</td>\n",
       "    </tr>\n",
       "    <tr>\n",
       "      <th>7867</th>\n",
       "      <td>42.0</td>\n",
       "      <td>0</td>\n",
       "      <td>1</td>\n",
       "      <td>1</td>\n",
       "      <td>0.0</td>\n",
       "      <td>1</td>\n",
       "      <td>1</td>\n",
       "      <td>3100</td>\n",
       "      <td>16970</td>\n",
       "      <td>1000</td>\n",
       "      <td>...</td>\n",
       "      <td>1</td>\n",
       "      <td>0</td>\n",
       "      <td>0</td>\n",
       "      <td>0</td>\n",
       "      <td>0</td>\n",
       "      <td>0</td>\n",
       "      <td>0</td>\n",
       "      <td>0</td>\n",
       "      <td>0</td>\n",
       "      <td>0</td>\n",
       "    </tr>\n",
       "    <tr>\n",
       "      <th>9474</th>\n",
       "      <td>81.0</td>\n",
       "      <td>1</td>\n",
       "      <td>0</td>\n",
       "      <td>1</td>\n",
       "      <td>0.0</td>\n",
       "      <td>0</td>\n",
       "      <td>4</td>\n",
       "      <td>0</td>\n",
       "      <td>0</td>\n",
       "      <td>0</td>\n",
       "      <td>...</td>\n",
       "      <td>0</td>\n",
       "      <td>1</td>\n",
       "      <td>0</td>\n",
       "      <td>0</td>\n",
       "      <td>0</td>\n",
       "      <td>0</td>\n",
       "      <td>1</td>\n",
       "      <td>0</td>\n",
       "      <td>0</td>\n",
       "      <td>1</td>\n",
       "    </tr>\n",
       "    <tr>\n",
       "      <th>10649</th>\n",
       "      <td>88.0</td>\n",
       "      <td>0</td>\n",
       "      <td>0</td>\n",
       "      <td>1</td>\n",
       "      <td>0.0</td>\n",
       "      <td>0</td>\n",
       "      <td>16</td>\n",
       "      <td>0</td>\n",
       "      <td>0</td>\n",
       "      <td>0</td>\n",
       "      <td>...</td>\n",
       "      <td>0</td>\n",
       "      <td>1</td>\n",
       "      <td>0</td>\n",
       "      <td>0</td>\n",
       "      <td>0</td>\n",
       "      <td>0</td>\n",
       "      <td>0</td>\n",
       "      <td>0</td>\n",
       "      <td>0</td>\n",
       "      <td>0</td>\n",
       "    </tr>\n",
       "    <tr>\n",
       "      <th>10718</th>\n",
       "      <td>28.0</td>\n",
       "      <td>1</td>\n",
       "      <td>0</td>\n",
       "      <td>1</td>\n",
       "      <td>0.0</td>\n",
       "      <td>1</td>\n",
       "      <td>1</td>\n",
       "      <td>0</td>\n",
       "      <td>0</td>\n",
       "      <td>0</td>\n",
       "      <td>...</td>\n",
       "      <td>0</td>\n",
       "      <td>1</td>\n",
       "      <td>0</td>\n",
       "      <td>0</td>\n",
       "      <td>0</td>\n",
       "      <td>0</td>\n",
       "      <td>1</td>\n",
       "      <td>0</td>\n",
       "      <td>0</td>\n",
       "      <td>0</td>\n",
       "    </tr>\n",
       "    <tr>\n",
       "      <th>14327</th>\n",
       "      <td>42.0</td>\n",
       "      <td>0</td>\n",
       "      <td>0</td>\n",
       "      <td>0</td>\n",
       "      <td>0.0</td>\n",
       "      <td>0</td>\n",
       "      <td>0</td>\n",
       "      <td>0</td>\n",
       "      <td>25000</td>\n",
       "      <td>100</td>\n",
       "      <td>...</td>\n",
       "      <td>0</td>\n",
       "      <td>1</td>\n",
       "      <td>0</td>\n",
       "      <td>0</td>\n",
       "      <td>0</td>\n",
       "      <td>0</td>\n",
       "      <td>0</td>\n",
       "      <td>0</td>\n",
       "      <td>0</td>\n",
       "      <td>0</td>\n",
       "    </tr>\n",
       "    <tr>\n",
       "      <th>15395</th>\n",
       "      <td>85.0</td>\n",
       "      <td>1</td>\n",
       "      <td>0</td>\n",
       "      <td>1</td>\n",
       "      <td>0.0</td>\n",
       "      <td>0</td>\n",
       "      <td>2</td>\n",
       "      <td>6100</td>\n",
       "      <td>3100</td>\n",
       "      <td>3000</td>\n",
       "      <td>...</td>\n",
       "      <td>0</td>\n",
       "      <td>1</td>\n",
       "      <td>0</td>\n",
       "      <td>0</td>\n",
       "      <td>1</td>\n",
       "      <td>0</td>\n",
       "      <td>0</td>\n",
       "      <td>0</td>\n",
       "      <td>0</td>\n",
       "      <td>1</td>\n",
       "    </tr>\n",
       "    <tr>\n",
       "      <th>15784</th>\n",
       "      <td>42.0</td>\n",
       "      <td>0</td>\n",
       "      <td>0</td>\n",
       "      <td>0</td>\n",
       "      <td>0.0</td>\n",
       "      <td>0</td>\n",
       "      <td>3</td>\n",
       "      <td>7510</td>\n",
       "      <td>16970</td>\n",
       "      <td>10000</td>\n",
       "      <td>...</td>\n",
       "      <td>1</td>\n",
       "      <td>0</td>\n",
       "      <td>0</td>\n",
       "      <td>0</td>\n",
       "      <td>0</td>\n",
       "      <td>0</td>\n",
       "      <td>0</td>\n",
       "      <td>0</td>\n",
       "      <td>0</td>\n",
       "      <td>1</td>\n",
       "    </tr>\n",
       "    <tr>\n",
       "      <th>19149</th>\n",
       "      <td>42.0</td>\n",
       "      <td>1</td>\n",
       "      <td>0</td>\n",
       "      <td>0</td>\n",
       "      <td>0.0</td>\n",
       "      <td>0</td>\n",
       "      <td>1</td>\n",
       "      <td>1954</td>\n",
       "      <td>0</td>\n",
       "      <td>0</td>\n",
       "      <td>...</td>\n",
       "      <td>1</td>\n",
       "      <td>0</td>\n",
       "      <td>0</td>\n",
       "      <td>0</td>\n",
       "      <td>1</td>\n",
       "      <td>0</td>\n",
       "      <td>0</td>\n",
       "      <td>0</td>\n",
       "      <td>0</td>\n",
       "      <td>1</td>\n",
       "    </tr>\n",
       "    <tr>\n",
       "      <th>20141</th>\n",
       "      <td>42.0</td>\n",
       "      <td>0</td>\n",
       "      <td>0</td>\n",
       "      <td>0</td>\n",
       "      <td>0.0</td>\n",
       "      <td>1</td>\n",
       "      <td>0</td>\n",
       "      <td>2000</td>\n",
       "      <td>0</td>\n",
       "      <td>1200</td>\n",
       "      <td>...</td>\n",
       "      <td>0</td>\n",
       "      <td>1</td>\n",
       "      <td>0</td>\n",
       "      <td>0</td>\n",
       "      <td>0</td>\n",
       "      <td>0</td>\n",
       "      <td>0</td>\n",
       "      <td>0</td>\n",
       "      <td>0</td>\n",
       "      <td>0</td>\n",
       "    </tr>\n",
       "    <tr>\n",
       "      <th>20878</th>\n",
       "      <td>19.0</td>\n",
       "      <td>0</td>\n",
       "      <td>0</td>\n",
       "      <td>0</td>\n",
       "      <td>0.0</td>\n",
       "      <td>0</td>\n",
       "      <td>0</td>\n",
       "      <td>0</td>\n",
       "      <td>25000</td>\n",
       "      <td>75000</td>\n",
       "      <td>...</td>\n",
       "      <td>1</td>\n",
       "      <td>0</td>\n",
       "      <td>0</td>\n",
       "      <td>0</td>\n",
       "      <td>0</td>\n",
       "      <td>0</td>\n",
       "      <td>0</td>\n",
       "      <td>0</td>\n",
       "      <td>0</td>\n",
       "      <td>0</td>\n",
       "    </tr>\n",
       "    <tr>\n",
       "      <th>21597</th>\n",
       "      <td>103.0</td>\n",
       "      <td>1</td>\n",
       "      <td>0</td>\n",
       "      <td>1</td>\n",
       "      <td>0.0</td>\n",
       "      <td>0</td>\n",
       "      <td>10</td>\n",
       "      <td>0</td>\n",
       "      <td>0</td>\n",
       "      <td>0</td>\n",
       "      <td>...</td>\n",
       "      <td>0</td>\n",
       "      <td>1</td>\n",
       "      <td>0</td>\n",
       "      <td>0</td>\n",
       "      <td>0</td>\n",
       "      <td>0</td>\n",
       "      <td>1</td>\n",
       "      <td>0</td>\n",
       "      <td>0</td>\n",
       "      <td>1</td>\n",
       "    </tr>\n",
       "    <tr>\n",
       "      <th>22418</th>\n",
       "      <td>42.0</td>\n",
       "      <td>0</td>\n",
       "      <td>0</td>\n",
       "      <td>0</td>\n",
       "      <td>0.0</td>\n",
       "      <td>0</td>\n",
       "      <td>0</td>\n",
       "      <td>17500</td>\n",
       "      <td>3000</td>\n",
       "      <td>3400</td>\n",
       "      <td>...</td>\n",
       "      <td>1</td>\n",
       "      <td>0</td>\n",
       "      <td>0</td>\n",
       "      <td>0</td>\n",
       "      <td>0</td>\n",
       "      <td>0</td>\n",
       "      <td>0</td>\n",
       "      <td>0</td>\n",
       "      <td>0</td>\n",
       "      <td>0</td>\n",
       "    </tr>\n",
       "    <tr>\n",
       "      <th>23313</th>\n",
       "      <td>42.0</td>\n",
       "      <td>0</td>\n",
       "      <td>0</td>\n",
       "      <td>0</td>\n",
       "      <td>0.0</td>\n",
       "      <td>0</td>\n",
       "      <td>1</td>\n",
       "      <td>3000</td>\n",
       "      <td>11380</td>\n",
       "      <td>56500</td>\n",
       "      <td>...</td>\n",
       "      <td>0</td>\n",
       "      <td>1</td>\n",
       "      <td>0</td>\n",
       "      <td>0</td>\n",
       "      <td>0</td>\n",
       "      <td>0</td>\n",
       "      <td>0</td>\n",
       "      <td>0</td>\n",
       "      <td>0</td>\n",
       "      <td>1</td>\n",
       "    </tr>\n",
       "    <tr>\n",
       "      <th>23329</th>\n",
       "      <td>48.0</td>\n",
       "      <td>0</td>\n",
       "      <td>0</td>\n",
       "      <td>0</td>\n",
       "      <td>0.0</td>\n",
       "      <td>1</td>\n",
       "      <td>0</td>\n",
       "      <td>52325</td>\n",
       "      <td>10000</td>\n",
       "      <td>97850</td>\n",
       "      <td>...</td>\n",
       "      <td>1</td>\n",
       "      <td>0</td>\n",
       "      <td>0</td>\n",
       "      <td>0</td>\n",
       "      <td>0</td>\n",
       "      <td>0</td>\n",
       "      <td>0</td>\n",
       "      <td>0</td>\n",
       "      <td>0</td>\n",
       "      <td>1</td>\n",
       "    </tr>\n",
       "    <tr>\n",
       "      <th>23883</th>\n",
       "      <td>47.0</td>\n",
       "      <td>1</td>\n",
       "      <td>0</td>\n",
       "      <td>1</td>\n",
       "      <td>0.0</td>\n",
       "      <td>1</td>\n",
       "      <td>4</td>\n",
       "      <td>0</td>\n",
       "      <td>0</td>\n",
       "      <td>0</td>\n",
       "      <td>...</td>\n",
       "      <td>0</td>\n",
       "      <td>1</td>\n",
       "      <td>0</td>\n",
       "      <td>0</td>\n",
       "      <td>0</td>\n",
       "      <td>0</td>\n",
       "      <td>1</td>\n",
       "      <td>0</td>\n",
       "      <td>0</td>\n",
       "      <td>1</td>\n",
       "    </tr>\n",
       "    <tr>\n",
       "      <th>25791</th>\n",
       "      <td>42.0</td>\n",
       "      <td>0</td>\n",
       "      <td>0</td>\n",
       "      <td>0</td>\n",
       "      <td>0.0</td>\n",
       "      <td>0</td>\n",
       "      <td>1</td>\n",
       "      <td>0</td>\n",
       "      <td>0</td>\n",
       "      <td>0</td>\n",
       "      <td>...</td>\n",
       "      <td>0</td>\n",
       "      <td>1</td>\n",
       "      <td>0</td>\n",
       "      <td>0</td>\n",
       "      <td>0</td>\n",
       "      <td>0</td>\n",
       "      <td>0</td>\n",
       "      <td>0</td>\n",
       "      <td>0</td>\n",
       "      <td>1</td>\n",
       "    </tr>\n",
       "    <tr>\n",
       "      <th>26739</th>\n",
       "      <td>42.0</td>\n",
       "      <td>0</td>\n",
       "      <td>0</td>\n",
       "      <td>0</td>\n",
       "      <td>0.0</td>\n",
       "      <td>0</td>\n",
       "      <td>0</td>\n",
       "      <td>0</td>\n",
       "      <td>0</td>\n",
       "      <td>0</td>\n",
       "      <td>...</td>\n",
       "      <td>1</td>\n",
       "      <td>0</td>\n",
       "      <td>0</td>\n",
       "      <td>0</td>\n",
       "      <td>0</td>\n",
       "      <td>0</td>\n",
       "      <td>0</td>\n",
       "      <td>0</td>\n",
       "      <td>0</td>\n",
       "      <td>0</td>\n",
       "    </tr>\n",
       "    <tr>\n",
       "      <th>27237</th>\n",
       "      <td>46.0</td>\n",
       "      <td>0</td>\n",
       "      <td>0</td>\n",
       "      <td>0</td>\n",
       "      <td>0.0</td>\n",
       "      <td>0</td>\n",
       "      <td>0</td>\n",
       "      <td>90000</td>\n",
       "      <td>100000</td>\n",
       "      <td>97850</td>\n",
       "      <td>...</td>\n",
       "      <td>0</td>\n",
       "      <td>1</td>\n",
       "      <td>0</td>\n",
       "      <td>0</td>\n",
       "      <td>0</td>\n",
       "      <td>0</td>\n",
       "      <td>0</td>\n",
       "      <td>0</td>\n",
       "      <td>0</td>\n",
       "      <td>1</td>\n",
       "    </tr>\n",
       "    <tr>\n",
       "      <th>27583</th>\n",
       "      <td>42.0</td>\n",
       "      <td>0</td>\n",
       "      <td>0</td>\n",
       "      <td>0</td>\n",
       "      <td>0.0</td>\n",
       "      <td>0</td>\n",
       "      <td>0</td>\n",
       "      <td>99954</td>\n",
       "      <td>5000</td>\n",
       "      <td>34000</td>\n",
       "      <td>...</td>\n",
       "      <td>1</td>\n",
       "      <td>0</td>\n",
       "      <td>0</td>\n",
       "      <td>0</td>\n",
       "      <td>0</td>\n",
       "      <td>0</td>\n",
       "      <td>0</td>\n",
       "      <td>0</td>\n",
       "      <td>0</td>\n",
       "      <td>1</td>\n",
       "    </tr>\n",
       "    <tr>\n",
       "      <th>28611</th>\n",
       "      <td>59.0</td>\n",
       "      <td>1</td>\n",
       "      <td>0</td>\n",
       "      <td>0</td>\n",
       "      <td>0.0</td>\n",
       "      <td>0</td>\n",
       "      <td>0</td>\n",
       "      <td>0</td>\n",
       "      <td>0</td>\n",
       "      <td>0</td>\n",
       "      <td>...</td>\n",
       "      <td>0</td>\n",
       "      <td>1</td>\n",
       "      <td>0</td>\n",
       "      <td>0</td>\n",
       "      <td>1</td>\n",
       "      <td>0</td>\n",
       "      <td>0</td>\n",
       "      <td>0</td>\n",
       "      <td>0</td>\n",
       "      <td>0</td>\n",
       "    </tr>\n",
       "    <tr>\n",
       "      <th>29205</th>\n",
       "      <td>42.0</td>\n",
       "      <td>0</td>\n",
       "      <td>0</td>\n",
       "      <td>0</td>\n",
       "      <td>0.0</td>\n",
       "      <td>0</td>\n",
       "      <td>1</td>\n",
       "      <td>25200</td>\n",
       "      <td>11380</td>\n",
       "      <td>1000</td>\n",
       "      <td>...</td>\n",
       "      <td>0</td>\n",
       "      <td>1</td>\n",
       "      <td>0</td>\n",
       "      <td>0</td>\n",
       "      <td>0</td>\n",
       "      <td>0</td>\n",
       "      <td>0</td>\n",
       "      <td>0</td>\n",
       "      <td>0</td>\n",
       "      <td>1</td>\n",
       "    </tr>\n",
       "    <tr>\n",
       "      <th>30244</th>\n",
       "      <td>59.0</td>\n",
       "      <td>0</td>\n",
       "      <td>1</td>\n",
       "      <td>0</td>\n",
       "      <td>0.0</td>\n",
       "      <td>0</td>\n",
       "      <td>1</td>\n",
       "      <td>0</td>\n",
       "      <td>0</td>\n",
       "      <td>50000</td>\n",
       "      <td>...</td>\n",
       "      <td>1</td>\n",
       "      <td>0</td>\n",
       "      <td>0</td>\n",
       "      <td>0</td>\n",
       "      <td>0</td>\n",
       "      <td>0</td>\n",
       "      <td>0</td>\n",
       "      <td>0</td>\n",
       "      <td>0</td>\n",
       "      <td>1</td>\n",
       "    </tr>\n",
       "    <tr>\n",
       "      <th>30443</th>\n",
       "      <td>42.0</td>\n",
       "      <td>0</td>\n",
       "      <td>0</td>\n",
       "      <td>1</td>\n",
       "      <td>0.0</td>\n",
       "      <td>0</td>\n",
       "      <td>1</td>\n",
       "      <td>0</td>\n",
       "      <td>25000</td>\n",
       "      <td>5000</td>\n",
       "      <td>...</td>\n",
       "      <td>0</td>\n",
       "      <td>1</td>\n",
       "      <td>0</td>\n",
       "      <td>0</td>\n",
       "      <td>0</td>\n",
       "      <td>0</td>\n",
       "      <td>0</td>\n",
       "      <td>0</td>\n",
       "      <td>0</td>\n",
       "      <td>0</td>\n",
       "    </tr>\n",
       "    <tr>\n",
       "      <th>30766</th>\n",
       "      <td>42.0</td>\n",
       "      <td>0</td>\n",
       "      <td>1</td>\n",
       "      <td>0</td>\n",
       "      <td>0.0</td>\n",
       "      <td>1</td>\n",
       "      <td>0</td>\n",
       "      <td>0</td>\n",
       "      <td>0</td>\n",
       "      <td>0</td>\n",
       "      <td>...</td>\n",
       "      <td>0</td>\n",
       "      <td>1</td>\n",
       "      <td>0</td>\n",
       "      <td>0</td>\n",
       "      <td>0</td>\n",
       "      <td>0</td>\n",
       "      <td>0</td>\n",
       "      <td>0</td>\n",
       "      <td>0</td>\n",
       "      <td>0</td>\n",
       "    </tr>\n",
       "    <tr>\n",
       "      <th>32172</th>\n",
       "      <td>42.0</td>\n",
       "      <td>0</td>\n",
       "      <td>1</td>\n",
       "      <td>0</td>\n",
       "      <td>0.0</td>\n",
       "      <td>0</td>\n",
       "      <td>1</td>\n",
       "      <td>0</td>\n",
       "      <td>0</td>\n",
       "      <td>0</td>\n",
       "      <td>...</td>\n",
       "      <td>0</td>\n",
       "      <td>1</td>\n",
       "      <td>0</td>\n",
       "      <td>0</td>\n",
       "      <td>0</td>\n",
       "      <td>0</td>\n",
       "      <td>0</td>\n",
       "      <td>0</td>\n",
       "      <td>0</td>\n",
       "      <td>0</td>\n",
       "    </tr>\n",
       "    <tr>\n",
       "      <th>32411</th>\n",
       "      <td>42.0</td>\n",
       "      <td>1</td>\n",
       "      <td>0</td>\n",
       "      <td>0</td>\n",
       "      <td>0.0</td>\n",
       "      <td>0</td>\n",
       "      <td>0</td>\n",
       "      <td>100750</td>\n",
       "      <td>0</td>\n",
       "      <td>0</td>\n",
       "      <td>...</td>\n",
       "      <td>0</td>\n",
       "      <td>1</td>\n",
       "      <td>0</td>\n",
       "      <td>0</td>\n",
       "      <td>1</td>\n",
       "      <td>0</td>\n",
       "      <td>0</td>\n",
       "      <td>0</td>\n",
       "      <td>0</td>\n",
       "      <td>1</td>\n",
       "    </tr>\n",
       "    <tr>\n",
       "      <th>32924</th>\n",
       "      <td>42.0</td>\n",
       "      <td>0</td>\n",
       "      <td>0</td>\n",
       "      <td>0</td>\n",
       "      <td>0.0</td>\n",
       "      <td>0</td>\n",
       "      <td>4</td>\n",
       "      <td>3000</td>\n",
       "      <td>30000</td>\n",
       "      <td>0</td>\n",
       "      <td>...</td>\n",
       "      <td>1</td>\n",
       "      <td>0</td>\n",
       "      <td>0</td>\n",
       "      <td>0</td>\n",
       "      <td>0</td>\n",
       "      <td>0</td>\n",
       "      <td>0</td>\n",
       "      <td>0</td>\n",
       "      <td>0</td>\n",
       "      <td>0</td>\n",
       "    </tr>\n",
       "    <tr>\n",
       "      <th>33186</th>\n",
       "      <td>70.0</td>\n",
       "      <td>0</td>\n",
       "      <td>1</td>\n",
       "      <td>1</td>\n",
       "      <td>0.0</td>\n",
       "      <td>1</td>\n",
       "      <td>5</td>\n",
       "      <td>0</td>\n",
       "      <td>1</td>\n",
       "      <td>0</td>\n",
       "      <td>...</td>\n",
       "      <td>0</td>\n",
       "      <td>1</td>\n",
       "      <td>0</td>\n",
       "      <td>0</td>\n",
       "      <td>0</td>\n",
       "      <td>0</td>\n",
       "      <td>0</td>\n",
       "      <td>0</td>\n",
       "      <td>0</td>\n",
       "      <td>1</td>\n",
       "    </tr>\n",
       "    <tr>\n",
       "      <th>33879</th>\n",
       "      <td>42.0</td>\n",
       "      <td>1</td>\n",
       "      <td>1</td>\n",
       "      <td>0</td>\n",
       "      <td>0.0</td>\n",
       "      <td>1</td>\n",
       "      <td>0</td>\n",
       "      <td>78419</td>\n",
       "      <td>100000</td>\n",
       "      <td>5000</td>\n",
       "      <td>...</td>\n",
       "      <td>0</td>\n",
       "      <td>1</td>\n",
       "      <td>0</td>\n",
       "      <td>0</td>\n",
       "      <td>0</td>\n",
       "      <td>0</td>\n",
       "      <td>1</td>\n",
       "      <td>0</td>\n",
       "      <td>0</td>\n",
       "      <td>1</td>\n",
       "    </tr>\n",
       "    <tr>\n",
       "      <th>34056</th>\n",
       "      <td>88.0</td>\n",
       "      <td>1</td>\n",
       "      <td>0</td>\n",
       "      <td>0</td>\n",
       "      <td>0.0</td>\n",
       "      <td>0</td>\n",
       "      <td>16</td>\n",
       "      <td>500000</td>\n",
       "      <td>3000</td>\n",
       "      <td>199842</td>\n",
       "      <td>...</td>\n",
       "      <td>1</td>\n",
       "      <td>0</td>\n",
       "      <td>0</td>\n",
       "      <td>0</td>\n",
       "      <td>0</td>\n",
       "      <td>0</td>\n",
       "      <td>1</td>\n",
       "      <td>0</td>\n",
       "      <td>0</td>\n",
       "      <td>1</td>\n",
       "    </tr>\n",
       "  </tbody>\n",
       "</table>\n",
       "<p>46 rows × 36 columns</p>\n",
       "</div>"
      ],
      "text/plain": [
       "         AGE  ALUMNUS_IND  PARENT_IND  HAS_INVOLVEMENT_IND  WEALTH_RATING  \\\n",
       "71      83.0            1           0                    1            0.0   \n",
       "809     42.0            0           0                    0            0.0   \n",
       "1324    89.0            0           0                    0            0.0   \n",
       "1792    90.0            0           0                    1            0.0   \n",
       "2172    99.0            1           0                    1            0.0   \n",
       "2461    42.0            0           0                    0            0.0   \n",
       "2928    42.0            0           0                    0            0.0   \n",
       "3286    42.0            0           0                    0            0.0   \n",
       "3524    42.0            0           0                    0            0.0   \n",
       "4276    41.0            0           0                    0            0.0   \n",
       "4663    42.0            0           0                    0            0.0   \n",
       "5743    42.0            0           0                    1            0.0   \n",
       "6371    42.0            0           0                    1            0.0   \n",
       "6708    42.0            0           0                    0            0.0   \n",
       "7275    35.0            0           0                    0            0.0   \n",
       "7538    36.0            0           0                    0            0.0   \n",
       "7867    42.0            0           1                    1            0.0   \n",
       "9474    81.0            1           0                    1            0.0   \n",
       "10649   88.0            0           0                    1            0.0   \n",
       "10718   28.0            1           0                    1            0.0   \n",
       "14327   42.0            0           0                    0            0.0   \n",
       "15395   85.0            1           0                    1            0.0   \n",
       "15784   42.0            0           0                    0            0.0   \n",
       "19149   42.0            1           0                    0            0.0   \n",
       "20141   42.0            0           0                    0            0.0   \n",
       "20878   19.0            0           0                    0            0.0   \n",
       "21597  103.0            1           0                    1            0.0   \n",
       "22418   42.0            0           0                    0            0.0   \n",
       "23313   42.0            0           0                    0            0.0   \n",
       "23329   48.0            0           0                    0            0.0   \n",
       "23883   47.0            1           0                    1            0.0   \n",
       "25791   42.0            0           0                    0            0.0   \n",
       "26739   42.0            0           0                    0            0.0   \n",
       "27237   46.0            0           0                    0            0.0   \n",
       "27583   42.0            0           0                    0            0.0   \n",
       "28611   59.0            1           0                    0            0.0   \n",
       "29205   42.0            0           0                    0            0.0   \n",
       "30244   59.0            0           1                    0            0.0   \n",
       "30443   42.0            0           0                    1            0.0   \n",
       "30766   42.0            0           1                    0            0.0   \n",
       "32172   42.0            0           1                    0            0.0   \n",
       "32411   42.0            1           0                    0            0.0   \n",
       "32924   42.0            0           0                    0            0.0   \n",
       "33186   70.0            0           1                    1            0.0   \n",
       "33879   42.0            1           1                    0            0.0   \n",
       "34056   88.0            1           0                    0            0.0   \n",
       "\n",
       "       EMAIL_PRESENT_IND  CON_YEARS  PrevFYGiving  PrevFY1Giving  \\\n",
       "71                     1         30             0              0   \n",
       "809                    0          1             0           2500   \n",
       "1324                   0          8        500000        1932960   \n",
       "1792                   0         15             0              0   \n",
       "2172                   0          6        500000              0   \n",
       "2461                   0          1          1630              0   \n",
       "2928                   0          5         19505           5000   \n",
       "3286                   0          0          3000          53000   \n",
       "3524                   0          0             0              0   \n",
       "4276                   0          0             0          25000   \n",
       "4663                   0          1             0              0   \n",
       "5743                   0          9             0              0   \n",
       "6371                   0          3             0              0   \n",
       "6708                   0          1         90000          25750   \n",
       "7275                   0          0             0              0   \n",
       "7538                   0          0             0              0   \n",
       "7867                   1          1          3100          16970   \n",
       "9474                   0          4             0              0   \n",
       "10649                  0         16             0              0   \n",
       "10718                  1          1             0              0   \n",
       "14327                  0          0             0          25000   \n",
       "15395                  0          2          6100           3100   \n",
       "15784                  0          3          7510          16970   \n",
       "19149                  0          1          1954              0   \n",
       "20141                  1          0          2000              0   \n",
       "20878                  0          0             0          25000   \n",
       "21597                  0         10             0              0   \n",
       "22418                  0          0         17500           3000   \n",
       "23313                  0          1          3000          11380   \n",
       "23329                  1          0         52325          10000   \n",
       "23883                  1          4             0              0   \n",
       "25791                  0          1             0              0   \n",
       "26739                  0          0             0              0   \n",
       "27237                  0          0         90000         100000   \n",
       "27583                  0          0         99954           5000   \n",
       "28611                  0          0             0              0   \n",
       "29205                  0          1         25200          11380   \n",
       "30244                  0          1             0              0   \n",
       "30443                  0          1             0          25000   \n",
       "30766                  1          0             0              0   \n",
       "32172                  0          1             0              0   \n",
       "32411                  0          0        100750              0   \n",
       "32924                  0          4          3000          30000   \n",
       "33186                  1          5             0              1   \n",
       "33879                  1          0         78419         100000   \n",
       "34056                  0         16        500000           3000   \n",
       "\n",
       "       PrevFY2Giving  ...  GENDER_Female  GENDER_Male  DEGREE_LEVEL_GC  \\\n",
       "71                 0  ...              0            1                0   \n",
       "809                0  ...              1            0                0   \n",
       "1324            3000  ...              1            0                0   \n",
       "1792               0  ...              0            1                0   \n",
       "2172          500000  ...              1            0                0   \n",
       "2461             500  ...              1            0                0   \n",
       "2928           14555  ...              0            1                0   \n",
       "3286           10400  ...              1            0                0   \n",
       "3524               0  ...              0            1                0   \n",
       "4276           10000  ...              1            0                0   \n",
       "4663               0  ...              0            1                0   \n",
       "5743               0  ...              0            1                0   \n",
       "6371               0  ...              1            0                0   \n",
       "6708           75000  ...              0            1                0   \n",
       "7275               0  ...              1            0                0   \n",
       "7538               0  ...              0            1                0   \n",
       "7867            1000  ...              1            0                0   \n",
       "9474               0  ...              0            1                0   \n",
       "10649              0  ...              0            1                0   \n",
       "10718              0  ...              0            1                0   \n",
       "14327            100  ...              0            1                0   \n",
       "15395           3000  ...              0            1                0   \n",
       "15784          10000  ...              1            0                0   \n",
       "19149              0  ...              1            0                0   \n",
       "20141           1200  ...              0            1                0   \n",
       "20878          75000  ...              1            0                0   \n",
       "21597              0  ...              0            1                0   \n",
       "22418           3400  ...              1            0                0   \n",
       "23313          56500  ...              0            1                0   \n",
       "23329          97850  ...              1            0                0   \n",
       "23883              0  ...              0            1                0   \n",
       "25791              0  ...              0            1                0   \n",
       "26739              0  ...              1            0                0   \n",
       "27237          97850  ...              0            1                0   \n",
       "27583          34000  ...              1            0                0   \n",
       "28611              0  ...              0            1                0   \n",
       "29205           1000  ...              0            1                0   \n",
       "30244          50000  ...              1            0                0   \n",
       "30443           5000  ...              0            1                0   \n",
       "30766              0  ...              0            1                0   \n",
       "32172              0  ...              0            1                0   \n",
       "32411              0  ...              0            1                0   \n",
       "32924              0  ...              1            0                0   \n",
       "33186              0  ...              0            1                0   \n",
       "33879           5000  ...              0            1                0   \n",
       "34056         199842  ...              1            0                0   \n",
       "\n",
       "       DEGREE_LEVEL_GD  DEGREE_LEVEL_GM  DEGREE_LEVEL_GP  DEGREE_LEVEL_UB  \\\n",
       "71                   0                0                0                1   \n",
       "809                  0                0                0                0   \n",
       "1324                 0                0                0                0   \n",
       "1792                 0                0                0                0   \n",
       "2172                 0                1                0                0   \n",
       "2461                 0                0                0                0   \n",
       "2928                 0                0                0                0   \n",
       "3286                 0                0                0                0   \n",
       "3524                 0                0                0                0   \n",
       "4276                 0                0                0                0   \n",
       "4663                 0                0                0                0   \n",
       "5743                 0                0                0                0   \n",
       "6371                 0                0                0                0   \n",
       "6708                 0                0                0                0   \n",
       "7275                 0                0                0                0   \n",
       "7538                 0                0                0                0   \n",
       "7867                 0                0                0                0   \n",
       "9474                 0                0                0                1   \n",
       "10649                0                0                0                0   \n",
       "10718                0                0                0                1   \n",
       "14327                0                0                0                0   \n",
       "15395                0                1                0                0   \n",
       "15784                0                0                0                0   \n",
       "19149                0                1                0                0   \n",
       "20141                0                0                0                0   \n",
       "20878                0                0                0                0   \n",
       "21597                0                0                0                1   \n",
       "22418                0                0                0                0   \n",
       "23313                0                0                0                0   \n",
       "23329                0                0                0                0   \n",
       "23883                0                0                0                1   \n",
       "25791                0                0                0                0   \n",
       "26739                0                0                0                0   \n",
       "27237                0                0                0                0   \n",
       "27583                0                0                0                0   \n",
       "28611                0                1                0                0   \n",
       "29205                0                0                0                0   \n",
       "30244                0                0                0                0   \n",
       "30443                0                0                0                0   \n",
       "30766                0                0                0                0   \n",
       "32172                0                0                0                0   \n",
       "32411                0                1                0                0   \n",
       "32924                0                0                0                0   \n",
       "33186                0                0                0                0   \n",
       "33879                0                0                0                1   \n",
       "34056                0                0                0                1   \n",
       "\n",
       "       DEGREE_LEVEL_UC  DEGREE_LEVEL_UG  CurrYrDonor  \n",
       "71                   0                0            0  \n",
       "809                  0                0            0  \n",
       "1324                 0                0            1  \n",
       "1792                 0                0            0  \n",
       "2172                 0                0            1  \n",
       "2461                 0                0            0  \n",
       "2928                 0                0            0  \n",
       "3286                 0                0            1  \n",
       "3524                 0                0            1  \n",
       "4276                 0                0            1  \n",
       "4663                 0                0            0  \n",
       "5743                 0                0            1  \n",
       "6371                 0                0            0  \n",
       "6708                 0                0            1  \n",
       "7275                 0                0            0  \n",
       "7538                 0                0            0  \n",
       "7867                 0                0            0  \n",
       "9474                 0                0            1  \n",
       "10649                0                0            0  \n",
       "10718                0                0            0  \n",
       "14327                0                0            0  \n",
       "15395                0                0            1  \n",
       "15784                0                0            1  \n",
       "19149                0                0            1  \n",
       "20141                0                0            0  \n",
       "20878                0                0            0  \n",
       "21597                0                0            1  \n",
       "22418                0                0            0  \n",
       "23313                0                0            1  \n",
       "23329                0                0            1  \n",
       "23883                0                0            1  \n",
       "25791                0                0            1  \n",
       "26739                0                0            0  \n",
       "27237                0                0            1  \n",
       "27583                0                0            1  \n",
       "28611                0                0            0  \n",
       "29205                0                0            1  \n",
       "30244                0                0            1  \n",
       "30443                0                0            0  \n",
       "30766                0                0            0  \n",
       "32172                0                0            0  \n",
       "32411                0                0            1  \n",
       "32924                0                0            0  \n",
       "33186                0                0            1  \n",
       "33879                0                0            1  \n",
       "34056                0                0            1  \n",
       "\n",
       "[46 rows x 36 columns]"
      ]
     },
     "execution_count": 61,
     "metadata": {},
     "output_type": "execute_result"
    }
   ],
   "source": [
    "discovery"
   ]
  },
  {
   "cell_type": "markdown",
   "metadata": {},
   "source": [
    "There are 46 total that have total giving of $100,000 or more that have no wealth rating. This should be reviewed internally. The table above shows many that are in the age range where future gifts are possible. A wealth rating could help inform the strategic plan to cultivate them."
   ]
  },
  {
   "cell_type": "markdown",
   "metadata": {},
   "source": [
    "## 3. Prediction Models"
   ]
  },
  {
   "cell_type": "markdown",
   "metadata": {},
   "source": [
    "#### Prepping predictor and target variables"
   ]
  },
  {
   "cell_type": "markdown",
   "metadata": {},
   "source": [
    "Reviewing the features in the final dataframe to be potential predictor variables. I am removing features that contain giving information that could leak information on what our model is trying to predict such as total giving, consecutive years of giving, donor indicator, etc."
   ]
  },
  {
   "cell_type": "code",
   "execution_count": 62,
   "metadata": {},
   "outputs": [],
   "source": [
    "#Removing attributes that have giving information to avoid leakage to the data.\n",
    "X = df2.drop(columns=['CurrFYGiving', 'TotalGiving', 'CON_YEARS', 'DONOR_IND', 'CurrYrDonor'])\n"
   ]
  },
  {
   "cell_type": "markdown",
   "metadata": {},
   "source": [
    "The final list for prediction:"
   ]
  },
  {
   "cell_type": "code",
   "execution_count": 63,
   "metadata": {},
   "outputs": [
    {
     "data": {
      "text/plain": [
       "['AGE',\n",
       " 'ALUMNUS_IND',\n",
       " 'PARENT_IND',\n",
       " 'HAS_INVOLVEMENT_IND',\n",
       " 'WEALTH_RATING',\n",
       " 'EMAIL_PRESENT_IND',\n",
       " 'PrevFYGiving',\n",
       " 'PrevFY1Giving',\n",
       " 'PrevFY2Giving',\n",
       " 'PrevFY3Giving',\n",
       " 'PrevFY4Giving',\n",
       " 'MalibuCA',\n",
       " 'PREF_ADDRESS_TYPE_BUSN',\n",
       " 'PREF_ADDRESS_TYPE_CAMP',\n",
       " 'PREF_ADDRESS_TYPE_HOME',\n",
       " 'PREF_ADDRESS_TYPE_OTR',\n",
       " 'MARITAL_STATUS_Divorced',\n",
       " 'MARITAL_STATUS_Married',\n",
       " 'MARITAL_STATUS_Never Married',\n",
       " 'MARITAL_STATUS_Separated',\n",
       " 'MARITAL_STATUS_Single',\n",
       " 'MARITAL_STATUS_Widowed',\n",
       " 'GENDER_Female',\n",
       " 'GENDER_Male',\n",
       " 'DEGREE_LEVEL_GC',\n",
       " 'DEGREE_LEVEL_GD',\n",
       " 'DEGREE_LEVEL_GM',\n",
       " 'DEGREE_LEVEL_GP',\n",
       " 'DEGREE_LEVEL_UB',\n",
       " 'DEGREE_LEVEL_UC',\n",
       " 'DEGREE_LEVEL_UG']"
      ]
     },
     "execution_count": 63,
     "metadata": {},
     "output_type": "execute_result"
    }
   ],
   "source": [
    "list(X.columns)"
   ]
  },
  {
   "cell_type": "markdown",
   "metadata": {},
   "source": [
    "The target variable will be a binary feature that was created. It is defined as 1 for made a git this year and 0 as has not made a gift this year."
   ]
  },
  {
   "cell_type": "code",
   "execution_count": 64,
   "metadata": {},
   "outputs": [],
   "source": [
    "y = df2['CurrYrDonor']"
   ]
  },
  {
   "cell_type": "code",
   "execution_count": 65,
   "metadata": {},
   "outputs": [
    {
     "data": {
      "text/plain": [
       "(33404, 31)"
      ]
     },
     "execution_count": 65,
     "metadata": {},
     "output_type": "execute_result"
    }
   ],
   "source": [
    "# checking sizes of variables are the same\n",
    "X.shape"
   ]
  },
  {
   "cell_type": "code",
   "execution_count": 66,
   "metadata": {},
   "outputs": [
    {
     "data": {
      "text/plain": [
       "(33404,)"
      ]
     },
     "execution_count": 66,
     "metadata": {},
     "output_type": "execute_result"
    }
   ],
   "source": [
    "y.shape"
   ]
  },
  {
   "cell_type": "code",
   "execution_count": 67,
   "metadata": {},
   "outputs": [
    {
     "data": {
      "text/plain": [
       "0    31559\n",
       "1     1845\n",
       "Name: CurrYrDonor, dtype: int64"
      ]
     },
     "execution_count": 67,
     "metadata": {},
     "output_type": "execute_result"
    }
   ],
   "source": [
    "y.value_counts()"
   ]
  },
  {
   "cell_type": "markdown",
   "metadata": {},
   "source": [
    "#### Check balance of classes"
   ]
  },
  {
   "cell_type": "code",
   "execution_count": 68,
   "metadata": {},
   "outputs": [
    {
     "data": {
      "text/plain": [
       "0.0552329062387738"
      ]
     },
     "execution_count": 68,
     "metadata": {},
     "output_type": "execute_result"
    }
   ],
   "source": [
    "sum(y)/len(y)"
   ]
  },
  {
   "cell_type": "markdown",
   "metadata": {},
   "source": [
    "Class is imbalanced so stratify the data when splitting for train and test"
   ]
  },
  {
   "cell_type": "markdown",
   "metadata": {},
   "source": [
    "#### Split the data for performance evaluation with 25% test size and stratified for imbalance."
   ]
  },
  {
   "cell_type": "code",
   "execution_count": 69,
   "metadata": {},
   "outputs": [],
   "source": [
    "X_train, X_test, y_train, y_test = train_test_split(X, y, test_size=0.25, random_state=42, stratify=y)"
   ]
  },
  {
   "cell_type": "code",
   "execution_count": 70,
   "metadata": {},
   "outputs": [
    {
     "data": {
      "text/plain": [
       "0.05524288508362272"
      ]
     },
     "execution_count": 70,
     "metadata": {},
     "output_type": "execute_result"
    }
   ],
   "source": [
    "sum(y_train)/len(y_train)"
   ]
  },
  {
   "cell_type": "code",
   "execution_count": 71,
   "metadata": {},
   "outputs": [
    {
     "data": {
      "text/plain": [
       "0.055202969704227035"
      ]
     },
     "execution_count": 71,
     "metadata": {},
     "output_type": "execute_result"
    }
   ],
   "source": [
    "sum(y_test)/len(y_test)"
   ]
  },
  {
   "cell_type": "markdown",
   "metadata": {},
   "source": [
    "### Model #1: Logistic Regression"
   ]
  },
  {
   "cell_type": "code",
   "execution_count": 72,
   "metadata": {},
   "outputs": [
    {
     "data": {
      "text/plain": [
       "LogisticRegression(solver='liblinear')"
      ]
     },
     "execution_count": 72,
     "metadata": {},
     "output_type": "execute_result"
    }
   ],
   "source": [
    "#inital model\n",
    "lreg=sklm.LogisticRegression(solver='liblinear')\n",
    "lreg.fit(X_train, y_train)"
   ]
  },
  {
   "cell_type": "code",
   "execution_count": 73,
   "metadata": {},
   "outputs": [],
   "source": [
    "lreg_predictions_tr =lreg.predict(X_train)"
   ]
  },
  {
   "cell_type": "code",
   "execution_count": 74,
   "metadata": {},
   "outputs": [
    {
     "data": {
      "text/plain": [
       "array([[0.93833086, 0.06166914],\n",
       "       [0.94057556, 0.05942444],\n",
       "       [0.94566873, 0.05433127],\n",
       "       ...,\n",
       "       [0.94566624, 0.05433376],\n",
       "       [0.94828994, 0.05171006],\n",
       "       [0.93809861, 0.06190139]])"
      ]
     },
     "execution_count": 74,
     "metadata": {},
     "output_type": "execute_result"
    }
   ],
   "source": [
    "#get the predicted probabilities in training:\n",
    "lreg_predict_prob_tr=lreg.predict_proba(X_train) # predictions for training set as probability values\n",
    "lreg_predict_prob_tr"
   ]
  },
  {
   "cell_type": "code",
   "execution_count": 75,
   "metadata": {},
   "outputs": [
    {
     "name": "stdout",
     "output_type": "stream",
     "text": [
      "Predicted probabilities of training data\n"
     ]
    },
    {
     "data": {
      "text/html": [
       "<div>\n",
       "<style scoped>\n",
       "    .dataframe tbody tr th:only-of-type {\n",
       "        vertical-align: middle;\n",
       "    }\n",
       "\n",
       "    .dataframe tbody tr th {\n",
       "        vertical-align: top;\n",
       "    }\n",
       "\n",
       "    .dataframe thead th {\n",
       "        text-align: right;\n",
       "    }\n",
       "</style>\n",
       "<table border=\"1\" class=\"dataframe\">\n",
       "  <thead>\n",
       "    <tr style=\"text-align: right;\">\n",
       "      <th></th>\n",
       "      <th>actual</th>\n",
       "      <th>p(0)</th>\n",
       "      <th>p(1)</th>\n",
       "      <th>predicted</th>\n",
       "    </tr>\n",
       "  </thead>\n",
       "  <tbody>\n",
       "    <tr>\n",
       "      <th>10104</th>\n",
       "      <td>0</td>\n",
       "      <td>0.938331</td>\n",
       "      <td>0.061669</td>\n",
       "      <td>0</td>\n",
       "    </tr>\n",
       "    <tr>\n",
       "      <th>32638</th>\n",
       "      <td>0</td>\n",
       "      <td>0.940576</td>\n",
       "      <td>0.059424</td>\n",
       "      <td>0</td>\n",
       "    </tr>\n",
       "    <tr>\n",
       "      <th>3968</th>\n",
       "      <td>0</td>\n",
       "      <td>0.945669</td>\n",
       "      <td>0.054331</td>\n",
       "      <td>0</td>\n",
       "    </tr>\n",
       "    <tr>\n",
       "      <th>9191</th>\n",
       "      <td>0</td>\n",
       "      <td>0.946755</td>\n",
       "      <td>0.053245</td>\n",
       "      <td>0</td>\n",
       "    </tr>\n",
       "    <tr>\n",
       "      <th>17620</th>\n",
       "      <td>1</td>\n",
       "      <td>0.950214</td>\n",
       "      <td>0.049786</td>\n",
       "      <td>0</td>\n",
       "    </tr>\n",
       "    <tr>\n",
       "      <th>...</th>\n",
       "      <td>...</td>\n",
       "      <td>...</td>\n",
       "      <td>...</td>\n",
       "      <td>...</td>\n",
       "    </tr>\n",
       "    <tr>\n",
       "      <th>5717</th>\n",
       "      <td>0</td>\n",
       "      <td>0.938623</td>\n",
       "      <td>0.061377</td>\n",
       "      <td>0</td>\n",
       "    </tr>\n",
       "    <tr>\n",
       "      <th>26072</th>\n",
       "      <td>0</td>\n",
       "      <td>0.943316</td>\n",
       "      <td>0.056684</td>\n",
       "      <td>0</td>\n",
       "    </tr>\n",
       "    <tr>\n",
       "      <th>4898</th>\n",
       "      <td>0</td>\n",
       "      <td>0.945666</td>\n",
       "      <td>0.054334</td>\n",
       "      <td>0</td>\n",
       "    </tr>\n",
       "    <tr>\n",
       "      <th>9023</th>\n",
       "      <td>0</td>\n",
       "      <td>0.948290</td>\n",
       "      <td>0.051710</td>\n",
       "      <td>0</td>\n",
       "    </tr>\n",
       "    <tr>\n",
       "      <th>25025</th>\n",
       "      <td>0</td>\n",
       "      <td>0.938099</td>\n",
       "      <td>0.061901</td>\n",
       "      <td>0</td>\n",
       "    </tr>\n",
       "  </tbody>\n",
       "</table>\n",
       "<p>25053 rows × 4 columns</p>\n",
       "</div>"
      ],
      "text/plain": [
       "       actual      p(0)      p(1)  predicted\n",
       "10104       0  0.938331  0.061669          0\n",
       "32638       0  0.940576  0.059424          0\n",
       "3968        0  0.945669  0.054331          0\n",
       "9191        0  0.946755  0.053245          0\n",
       "17620       1  0.950214  0.049786          0\n",
       "...       ...       ...       ...        ...\n",
       "5717        0  0.938623  0.061377          0\n",
       "26072       0  0.943316  0.056684          0\n",
       "4898        0  0.945666  0.054334          0\n",
       "9023        0  0.948290  0.051710          0\n",
       "25025       0  0.938099  0.061901          0\n",
       "\n",
       "[25053 rows x 4 columns]"
      ]
     },
     "execution_count": 75,
     "metadata": {},
     "output_type": "execute_result"
    }
   ],
   "source": [
    "logit_result_tr = pd.DataFrame({'actual': y_train, \n",
    "                             'p(0)': [p[0] for p in lreg_predict_prob_tr],\n",
    "                             'p(1)': [p[1] for p in lreg_predict_prob_tr],\n",
    "                             'predicted': lreg_predictions_tr })\n",
    "print(\"Predicted probabilities of training data\")\n",
    "logit_result_tr"
   ]
  },
  {
   "cell_type": "code",
   "execution_count": 76,
   "metadata": {},
   "outputs": [
    {
     "name": "stdout",
     "output_type": "stream",
     "text": [
      "Highest probability of being a donor from training data\n"
     ]
    },
    {
     "data": {
      "text/html": [
       "<div>\n",
       "<style scoped>\n",
       "    .dataframe tbody tr th:only-of-type {\n",
       "        vertical-align: middle;\n",
       "    }\n",
       "\n",
       "    .dataframe tbody tr th {\n",
       "        vertical-align: top;\n",
       "    }\n",
       "\n",
       "    .dataframe thead th {\n",
       "        text-align: right;\n",
       "    }\n",
       "</style>\n",
       "<table border=\"1\" class=\"dataframe\">\n",
       "  <thead>\n",
       "    <tr style=\"text-align: right;\">\n",
       "      <th></th>\n",
       "      <th>actual</th>\n",
       "      <th>p(0)</th>\n",
       "      <th>p(1)</th>\n",
       "      <th>predicted</th>\n",
       "    </tr>\n",
       "  </thead>\n",
       "  <tbody>\n",
       "    <tr>\n",
       "      <th>1324</th>\n",
       "      <td>1</td>\n",
       "      <td>0.000000e+00</td>\n",
       "      <td>1.000000</td>\n",
       "      <td>1</td>\n",
       "    </tr>\n",
       "    <tr>\n",
       "      <th>18404</th>\n",
       "      <td>1</td>\n",
       "      <td>0.000000e+00</td>\n",
       "      <td>1.000000</td>\n",
       "      <td>1</td>\n",
       "    </tr>\n",
       "    <tr>\n",
       "      <th>2172</th>\n",
       "      <td>1</td>\n",
       "      <td>2.065015e-14</td>\n",
       "      <td>1.000000</td>\n",
       "      <td>1</td>\n",
       "    </tr>\n",
       "    <tr>\n",
       "      <th>34056</th>\n",
       "      <td>1</td>\n",
       "      <td>9.900747e-12</td>\n",
       "      <td>1.000000</td>\n",
       "      <td>1</td>\n",
       "    </tr>\n",
       "    <tr>\n",
       "      <th>33186</th>\n",
       "      <td>1</td>\n",
       "      <td>3.376591e-03</td>\n",
       "      <td>0.996623</td>\n",
       "      <td>1</td>\n",
       "    </tr>\n",
       "  </tbody>\n",
       "</table>\n",
       "</div>"
      ],
      "text/plain": [
       "       actual          p(0)      p(1)  predicted\n",
       "1324        1  0.000000e+00  1.000000          1\n",
       "18404       1  0.000000e+00  1.000000          1\n",
       "2172        1  2.065015e-14  1.000000          1\n",
       "34056       1  9.900747e-12  1.000000          1\n",
       "33186       1  3.376591e-03  0.996623          1"
      ]
     },
     "execution_count": 76,
     "metadata": {},
     "output_type": "execute_result"
    }
   ],
   "source": [
    "print(\"Highest probability of being a donor from training data\")\n",
    "\n",
    "logit_result_tr.sort_values(by='p(1)', ascending=False).head()"
   ]
  },
  {
   "cell_type": "code",
   "execution_count": 77,
   "metadata": {},
   "outputs": [
    {
     "name": "stdout",
     "output_type": "stream",
     "text": [
      "Lowest probability of being a donor from training data\n"
     ]
    },
    {
     "data": {
      "text/html": [
       "<div>\n",
       "<style scoped>\n",
       "    .dataframe tbody tr th:only-of-type {\n",
       "        vertical-align: middle;\n",
       "    }\n",
       "\n",
       "    .dataframe tbody tr th {\n",
       "        vertical-align: top;\n",
       "    }\n",
       "\n",
       "    .dataframe thead th {\n",
       "        text-align: right;\n",
       "    }\n",
       "</style>\n",
       "<table border=\"1\" class=\"dataframe\">\n",
       "  <thead>\n",
       "    <tr style=\"text-align: right;\">\n",
       "      <th></th>\n",
       "      <th>actual</th>\n",
       "      <th>p(0)</th>\n",
       "      <th>p(1)</th>\n",
       "      <th>predicted</th>\n",
       "    </tr>\n",
       "  </thead>\n",
       "  <tbody>\n",
       "    <tr>\n",
       "      <th>6371</th>\n",
       "      <td>0</td>\n",
       "      <td>0.986273</td>\n",
       "      <td>0.013727</td>\n",
       "      <td>0</td>\n",
       "    </tr>\n",
       "    <tr>\n",
       "      <th>26555</th>\n",
       "      <td>0</td>\n",
       "      <td>0.966118</td>\n",
       "      <td>0.033882</td>\n",
       "      <td>0</td>\n",
       "    </tr>\n",
       "    <tr>\n",
       "      <th>26034</th>\n",
       "      <td>0</td>\n",
       "      <td>0.963600</td>\n",
       "      <td>0.036400</td>\n",
       "      <td>0</td>\n",
       "    </tr>\n",
       "    <tr>\n",
       "      <th>16913</th>\n",
       "      <td>0</td>\n",
       "      <td>0.963095</td>\n",
       "      <td>0.036905</td>\n",
       "      <td>0</td>\n",
       "    </tr>\n",
       "    <tr>\n",
       "      <th>4420</th>\n",
       "      <td>0</td>\n",
       "      <td>0.963078</td>\n",
       "      <td>0.036922</td>\n",
       "      <td>0</td>\n",
       "    </tr>\n",
       "  </tbody>\n",
       "</table>\n",
       "</div>"
      ],
      "text/plain": [
       "       actual      p(0)      p(1)  predicted\n",
       "6371        0  0.986273  0.013727          0\n",
       "26555       0  0.966118  0.033882          0\n",
       "26034       0  0.963600  0.036400          0\n",
       "16913       0  0.963095  0.036905          0\n",
       "4420        0  0.963078  0.036922          0"
      ]
     },
     "execution_count": 77,
     "metadata": {},
     "output_type": "execute_result"
    }
   ],
   "source": [
    "print(\"Lowest probability of being a donor from training data\")\n",
    "logit_result_tr.sort_values(by='p(1)').head()"
   ]
  },
  {
   "cell_type": "code",
   "execution_count": 78,
   "metadata": {},
   "outputs": [
    {
     "data": {
      "text/plain": [
       "Text(0.5, 1.0, 'Confusion matrix of lreg on train')"
      ]
     },
     "execution_count": 78,
     "metadata": {},
     "output_type": "execute_result"
    },
    {
     "data": {
      "image/png": "[encoded data removed]",
      "text/plain": [
       "<Figure size 288x288 with 2 Axes>"
      ]
     },
     "metadata": {
      "needs_background": "light"
     },
     "output_type": "display_data"
    }
   ],
   "source": [
    "skplt.metrics.plot_confusion_matrix(y_train, lreg_predictions_tr, figsize=(4,4), cmap=\"Blues\")\n",
    "plt.title('Confusion matrix of lreg on train')"
   ]
  },
  {
   "cell_type": "code",
   "execution_count": 79,
   "metadata": {},
   "outputs": [
    {
     "name": "stdout",
     "output_type": "stream",
     "text": [
      "Classification Report for lreg train:\n",
      "               precision    recall  f1-score   support\n",
      "\n",
      "           0       0.95      1.00      0.97     23669\n",
      "           1       0.87      0.01      0.02      1384\n",
      "\n",
      "    accuracy                           0.95     25053\n",
      "   macro avg       0.91      0.50      0.50     25053\n",
      "weighted avg       0.94      0.95      0.92     25053\n",
      "\n"
     ]
    }
   ],
   "source": [
    "#classification report for training\n",
    "print(\"Classification Report for lreg train:\\n\",classification_report(y_train, lreg_predictions_tr))"
   ]
  },
  {
   "cell_type": "code",
   "execution_count": 80,
   "metadata": {},
   "outputs": [],
   "source": [
    "#Performance on test data\n",
    "lreg_predictions_tt=lreg.predict(X_test)"
   ]
  },
  {
   "cell_type": "code",
   "execution_count": 81,
   "metadata": {},
   "outputs": [
    {
     "data": {
      "text/plain": [
       "Text(0.5, 1.0, 'Confusion matrix of lreg on test')"
      ]
     },
     "execution_count": 81,
     "metadata": {},
     "output_type": "execute_result"
    },
    {
     "data": {
      "image/png": "[encoded data removed]",
      "text/plain": [
       "<Figure size 288x288 with 2 Axes>"
      ]
     },
     "metadata": {
      "needs_background": "light"
     },
     "output_type": "display_data"
    }
   ],
   "source": [
    "skplt.metrics.plot_confusion_matrix(y_test, lreg_predictions_tt, figsize=(4,4), cmap=\"Greens\")\n",
    "plt.title('Confusion matrix of lreg on test')"
   ]
  },
  {
   "cell_type": "code",
   "execution_count": 82,
   "metadata": {},
   "outputs": [
    {
     "name": "stdout",
     "output_type": "stream",
     "text": [
      "Classification Report for lreg test:\n",
      "               precision    recall  f1-score   support\n",
      "\n",
      "           0       0.95      1.00      0.97      7890\n",
      "           1       1.00      0.01      0.01       461\n",
      "\n",
      "    accuracy                           0.95      8351\n",
      "   macro avg       0.97      0.50      0.49      8351\n",
      "weighted avg       0.95      0.95      0.92      8351\n",
      "\n"
     ]
    }
   ],
   "source": [
    "print(\"Classification Report for lreg test:\\n\",classification_report(y_test, lreg_predictions_tt))\n"
   ]
  },
  {
   "cell_type": "markdown",
   "metadata": {},
   "source": [
    "Performance of model on test model is much lower than on train data."
   ]
  },
  {
   "cell_type": "markdown",
   "metadata": {},
   "source": [
    "#### Lowering the probability for model from default of 50% to 5% to see if the model is able to capture more donors."
   ]
  },
  {
   "cell_type": "code",
   "execution_count": 83,
   "metadata": {},
   "outputs": [],
   "source": [
    "probabilities = lreg.predict_proba(X_test)[:, 1]"
   ]
  },
  {
   "cell_type": "code",
   "execution_count": 84,
   "metadata": {},
   "outputs": [
    {
     "data": {
      "text/plain": [
       "Text(0.5, 1.0, 'Confusion matrix of 5% lreg on test')"
      ]
     },
     "execution_count": 84,
     "metadata": {},
     "output_type": "execute_result"
    },
    {
     "data": {
      "image/png": "[encoded data removed]",
      "text/plain": [
       "<Figure size 288x288 with 2 Axes>"
      ]
     },
     "metadata": {
      "needs_background": "light"
     },
     "output_type": "display_data"
    }
   ],
   "source": [
    "prediction = probabilities > 0.05\n",
    "\n",
    "skplt.metrics.plot_confusion_matrix(y_test, prediction, figsize=(4,4), cmap=\"Greens\")\n",
    "plt.title('Confusion matrix of 5% lreg on test')"
   ]
  },
  {
   "cell_type": "code",
   "execution_count": 85,
   "metadata": {},
   "outputs": [
    {
     "name": "stdout",
     "output_type": "stream",
     "text": [
      "Classification Report of 5% lreg on test:\n",
      "               precision    recall  f1-score   support\n",
      "\n",
      "           0       0.95      0.23      0.37      7890\n",
      "           1       0.06      0.80      0.11       461\n",
      "\n",
      "    accuracy                           0.26      8351\n",
      "   macro avg       0.50      0.51      0.24      8351\n",
      "weighted avg       0.90      0.26      0.36      8351\n",
      "\n"
     ]
    }
   ],
   "source": [
    "print(\"Classification Report of 5% lreg on test:\\n\",classification_report(y_test, prediction))"
   ]
  },
  {
   "cell_type": "markdown",
   "metadata": {},
   "source": [
    "At 5% probability, the model makes many more mistakes on who is a donor but it also correctly identifies 367 donors. This could be preferable to capture potential donors. There should be a review on the negative effects of soliciting a donor that is unlikely to donate."
   ]
  },
  {
   "cell_type": "markdown",
   "metadata": {},
   "source": [
    "#### Adding a penalty and cross-validation to see if model can be improved."
   ]
  },
  {
   "cell_type": "markdown",
   "metadata": {},
   "source": [
    "L1"
   ]
  },
  {
   "cell_type": "code",
   "execution_count": 86,
   "metadata": {},
   "outputs": [
    {
     "data": {
      "text/plain": [
       "LogisticRegressionCV(cv=5, penalty='l1', solver='liblinear')"
      ]
     },
     "execution_count": 86,
     "metadata": {},
     "output_type": "execute_result"
    }
   ],
   "source": [
    "# regularization\n",
    "logitcv = sklm.LogisticRegressionCV(penalty=\"l1\", solver='liblinear', cv=5)\n",
    "logitcv.fit(X_train, y_train)"
   ]
  },
  {
   "cell_type": "code",
   "execution_count": 87,
   "metadata": {},
   "outputs": [
    {
     "data": {
      "text/plain": [
       "Text(0.5, 1.0, 'Confusion matrix of l1 lreg')"
      ]
     },
     "execution_count": 87,
     "metadata": {},
     "output_type": "execute_result"
    },
    {
     "data": {
      "image/png": "[encoded data removed]",
      "text/plain": [
       "<Figure size 288x288 with 2 Axes>"
      ]
     },
     "metadata": {
      "needs_background": "light"
     },
     "output_type": "display_data"
    }
   ],
   "source": [
    "skplt.metrics.plot_confusion_matrix(y_test, logitcv.predict(X_test), figsize=(4,4), cmap=\"Greens\")\n",
    "plt.title('Confusion matrix of l1 lreg')"
   ]
  },
  {
   "cell_type": "markdown",
   "metadata": {},
   "source": [
    "There is no improvement from the original model."
   ]
  },
  {
   "cell_type": "markdown",
   "metadata": {},
   "source": [
    "#### Nominal Logit"
   ]
  },
  {
   "cell_type": "code",
   "execution_count": 88,
   "metadata": {},
   "outputs": [
    {
     "data": {
      "text/plain": [
       "LogisticRegression(C=1e+24, multi_class='multinomial')"
      ]
     },
     "execution_count": 88,
     "metadata": {},
     "output_type": "execute_result"
    }
   ],
   "source": [
    "nlogit = sklm.LogisticRegression(penalty=\"l2\", solver='lbfgs', C=1e24, multi_class='multinomial')\n",
    "nlogit.fit(X, y)"
   ]
  },
  {
   "cell_type": "code",
   "execution_count": 89,
   "metadata": {},
   "outputs": [],
   "source": [
    "probs = nlogit.predict_proba(X)"
   ]
  },
  {
   "cell_type": "code",
   "execution_count": 90,
   "metadata": {},
   "outputs": [
    {
     "data": {
      "text/plain": [
       "Text(0.5, 1.0, 'Confusion matrix of l2 lreg')"
      ]
     },
     "execution_count": 90,
     "metadata": {},
     "output_type": "execute_result"
    },
    {
     "data": {
      "image/png": "[encoded data removed]",
      "text/plain": [
       "<Figure size 288x288 with 2 Axes>"
      ]
     },
     "metadata": {
      "needs_background": "light"
     },
     "output_type": "display_data"
    }
   ],
   "source": [
    "skplt.metrics.plot_confusion_matrix(y, nlogit.predict(X), figsize=(4,4), cmap=\"Blues\")\n",
    "plt.title('Confusion matrix of l2 lreg')"
   ]
  },
  {
   "cell_type": "code",
   "execution_count": 91,
   "metadata": {},
   "outputs": [
    {
     "name": "stdout",
     "output_type": "stream",
     "text": [
      "Classification Report:\n",
      "               precision    recall  f1-score   support\n",
      "\n",
      "           0       0.95      1.00      0.97     31559\n",
      "           1       0.76      0.01      0.02      1845\n",
      "\n",
      "    accuracy                           0.95     33404\n",
      "   macro avg       0.85      0.50      0.49     33404\n",
      "weighted avg       0.94      0.95      0.92     33404\n",
      "\n"
     ]
    }
   ],
   "source": [
    "print(\"Classification Report:\\n\",classification_report(y, nlogit.predict(X), zero_division=1))"
   ]
  },
  {
   "cell_type": "markdown",
   "metadata": {},
   "source": [
    "### Model #2: KNN"
   ]
  },
  {
   "cell_type": "code",
   "execution_count": 92,
   "metadata": {},
   "outputs": [],
   "source": [
    "# we scale the Xvar before using KNN:\n",
    "X=preprocessing.scale(X)"
   ]
  },
  {
   "cell_type": "code",
   "execution_count": 93,
   "metadata": {},
   "outputs": [
    {
     "name": "stdout",
     "output_type": "stream",
     "text": [
      "(25053, 31) (25053,)\n",
      "(8351, 31) (8351,)\n"
     ]
    }
   ],
   "source": [
    "# Set aside 25% of data for out-of-training-sample test:\n",
    "X3pc_train, X3pc_test, Y3pc_train, Y3pc_test = train_test_split(X, y, \\\n",
    "                                                           test_size=0.25, random_state=7)\n",
    "print(X3pc_train.shape, Y3pc_train.shape)\n",
    "print(X3pc_test.shape, Y3pc_test.shape)"
   ]
  },
  {
   "cell_type": "code",
   "execution_count": 94,
   "metadata": {},
   "outputs": [],
   "source": [
    "# Specify the parameters of the KNN classifer:\n",
    "knn_ccv = KNeighborsClassifier(n_neighbors=4, weights='uniform') # considering 4 nearest neighbors weighted equally"
   ]
  },
  {
   "cell_type": "code",
   "execution_count": 95,
   "metadata": {},
   "outputs": [
    {
     "data": {
      "text/plain": [
       "KNeighborsClassifier(n_neighbors=4)"
      ]
     },
     "execution_count": 95,
     "metadata": {},
     "output_type": "execute_result"
    }
   ],
   "source": [
    "# Fit the KNN model with training data:\n",
    "knn_ccv.fit(X3pc_train, Y3pc_train)"
   ]
  },
  {
   "cell_type": "code",
   "execution_count": 96,
   "metadata": {},
   "outputs": [],
   "source": [
    "# Get the prediction of the KNN training\n",
    "knn_prediction_ctr=knn_ccv.predict(X3pc_train)"
   ]
  },
  {
   "cell_type": "code",
   "execution_count": 97,
   "metadata": {},
   "outputs": [
    {
     "data": {
      "text/plain": [
       "Text(0.5, 1.0, 'Confusion matrix of knn train')"
      ]
     },
     "execution_count": 97,
     "metadata": {},
     "output_type": "execute_result"
    },
    {
     "data": {
      "image/png": "[encoded data removed]",
      "text/plain": [
       "<Figure size 288x288 with 2 Axes>"
      ]
     },
     "metadata": {
      "needs_background": "light"
     },
     "output_type": "display_data"
    }
   ],
   "source": [
    "skplt.metrics.plot_confusion_matrix(Y3pc_train, knn_prediction_ctr, figsize=(4,4), cmap=\"Blues\")\n",
    "plt.title('Confusion matrix of knn train')"
   ]
  },
  {
   "cell_type": "code",
   "execution_count": 98,
   "metadata": {},
   "outputs": [
    {
     "name": "stdout",
     "output_type": "stream",
     "text": [
      "Classification Report of knn train:\n",
      "               precision    recall  f1-score   support\n",
      "\n",
      "           0       0.95      1.00      0.97     23668\n",
      "           1       0.81      0.01      0.02      1385\n",
      "\n",
      "    accuracy                           0.95     25053\n",
      "   macro avg       0.88      0.51      0.50     25053\n",
      "weighted avg       0.94      0.95      0.92     25053\n",
      "\n"
     ]
    }
   ],
   "source": [
    "# Evaluate how good the knn classification of training data is:\n",
    "cm_knn = confusion_matrix(Y3pc_train, knn_prediction_ctr)\n",
    "\n",
    "print(\"Classification Report of knn train:\\n\",classification_report(Y3pc_train, knn_prediction_ctr))"
   ]
  },
  {
   "cell_type": "code",
   "execution_count": 99,
   "metadata": {},
   "outputs": [],
   "source": [
    "# Evaluate how good the knn classification, after cross-validation:\n",
    "cvparam = KFold(3, random_state=13, shuffle=True)\n",
    "scores_accuracy_knn =  cross_val_score(knn_ccv, X3pc_train, Y3pc_train, cv=cvparam, scoring='accuracy')"
   ]
  },
  {
   "cell_type": "code",
   "execution_count": 100,
   "metadata": {},
   "outputs": [
    {
     "data": {
      "text/plain": [
       "0.9446772841575859"
      ]
     },
     "execution_count": 100,
     "metadata": {},
     "output_type": "execute_result"
    }
   ],
   "source": [
    "scores_accuracy_knn.mean() #average training accuracy"
   ]
  },
  {
   "cell_type": "code",
   "execution_count": 101,
   "metadata": {},
   "outputs": [],
   "source": [
    "# How good is the trained model for predicting the test data?\n",
    "knn_prediction_ctr_tt=knn_ccv.predict(X3pc_test) #use test data"
   ]
  },
  {
   "cell_type": "code",
   "execution_count": 102,
   "metadata": {},
   "outputs": [
    {
     "data": {
      "text/plain": [
       "Text(0.5, 1.0, 'Confusion matrix of knn test')"
      ]
     },
     "execution_count": 102,
     "metadata": {},
     "output_type": "execute_result"
    },
    {
     "data": {
      "image/png": "[encoded data removed]",
      "text/plain": [
       "<Figure size 288x288 with 2 Axes>"
      ]
     },
     "metadata": {
      "needs_background": "light"
     },
     "output_type": "display_data"
    }
   ],
   "source": [
    "skplt.metrics.plot_confusion_matrix(Y3pc_test, knn_prediction_ctr_tt, figsize=(4,4), cmap=\"Greens\")\n",
    "plt.title('Confusion matrix of knn test')"
   ]
  },
  {
   "cell_type": "code",
   "execution_count": 103,
   "metadata": {},
   "outputs": [
    {
     "name": "stdout",
     "output_type": "stream",
     "text": [
      "Classification Report knn on test:\n",
      "               precision    recall  f1-score   support\n",
      "\n",
      "           0       0.95      1.00      0.97      7891\n",
      "           1       0.33      0.01      0.01       460\n",
      "\n",
      "    accuracy                           0.94      8351\n",
      "   macro avg       0.64      0.50      0.49      8351\n",
      "weighted avg       0.91      0.94      0.92      8351\n",
      "\n"
     ]
    }
   ],
   "source": [
    "# Evaluate how good the knn classification of training data is:\n",
    "cm_knn_tt = confusion_matrix(Y3pc_test, knn_prediction_ctr_tt)\n",
    "print(\"Classification Report knn on test:\\n\",classification_report(Y3pc_test, knn_prediction_ctr_tt))"
   ]
  },
  {
   "cell_type": "markdown",
   "metadata": {},
   "source": [
    "### Model #3: XGBoost"
   ]
  },
  {
   "cell_type": "code",
   "execution_count": 104,
   "metadata": {},
   "outputs": [],
   "source": [
    "#hyper parameter optimization\n",
    "\n",
    "params = {\n",
    "     'max_depth': [1, 2, 3, 4, 5],\n",
    "     'learning_rate': [0.1, 0.01, 0.05],\n",
    "     'min_child_weight': [1, 3, 5, 7],\n",
    "     'colsample_bytree': [ 0.3, 0.4, 0.5, 0.7],\n",
    "     'gamma': [0, 0.25, 1.0, 1.5],\n",
    "     'reg_lambda': [0, 1.0, 10.0],\n",
    "     'scale_pos_weight': [1, 3, 5, 7] # NOTE: XGBoost recommends sum(negative instances) / sum(positive instances)\n",
    " }"
   ]
  },
  {
   "cell_type": "code",
   "execution_count": 105,
   "metadata": {},
   "outputs": [],
   "source": [
    "def timer(start_time=None):\n",
    "    if not start_time:\n",
    "        start_time =datetime.now()\n",
    "        return start_time\n",
    "    elif start_time:\n",
    "        thour, temp_sec = divmod((datetime.now() - start_time).total_seconds(), 3600)\n",
    "        tmin, tsec = divmod(temp_sec, 60)\n",
    "        print('\\n Time taken: %i hours %i minutes and %s seconds.' % (thour, tmin, round(tsec, 2)))"
   ]
  },
  {
   "cell_type": "code",
   "execution_count": 106,
   "metadata": {},
   "outputs": [],
   "source": [
    "classifier=xgboost.XGBClassifier(objective='binary:logistic')"
   ]
  },
  {
   "cell_type": "code",
   "execution_count": 107,
   "metadata": {},
   "outputs": [],
   "source": [
    "random_search=RandomizedSearchCV(classifier,param_distributions=params,n_iter=5,scoring='roc_auc',n_jobs=-1,cv=5,verbose=3, random_state=42)"
   ]
  },
  {
   "cell_type": "code",
   "execution_count": 108,
   "metadata": {},
   "outputs": [
    {
     "name": "stdout",
     "output_type": "stream",
     "text": [
      "Fitting 5 folds for each of 5 candidates, totalling 25 fits\n",
      "\n",
      " Time taken: 0 hours 0 minutes and 7.79 seconds.\n"
     ]
    }
   ],
   "source": [
    "from datetime import datetime\n",
    "\n",
    "start_time=timer(None)\n",
    "random_search.fit(X,y)\n",
    "timer(start_time)\n"
   ]
  },
  {
   "cell_type": "code",
   "execution_count": 109,
   "metadata": {},
   "outputs": [
    {
     "data": {
      "text/plain": [
       "XGBClassifier(base_score=0.5, booster='gbtree', callbacks=None,\n",
       "              colsample_bylevel=1, colsample_bynode=1, colsample_bytree=0.4,\n",
       "              early_stopping_rounds=None, enable_categorical=False,\n",
       "              eval_metric=None, feature_types=None, gamma=1.5, gpu_id=-1,\n",
       "              grow_policy='depthwise', importance_type=None,\n",
       "              interaction_constraints='', learning_rate=0.1, max_bin=256,\n",
       "              max_cat_threshold=64, max_cat_to_onehot=4, max_delta_step=0,\n",
       "              max_depth=4, max_leaves=0, min_child_weight=1, missing=nan,\n",
       "              monotone_constraints='()', n_estimators=100, n_jobs=0,\n",
       "              num_parallel_tree=1, predictor='auto', random_state=0, ...)"
      ]
     },
     "execution_count": 109,
     "metadata": {},
     "output_type": "execute_result"
    }
   ],
   "source": [
    "random_search.best_estimator_"
   ]
  },
  {
   "cell_type": "code",
   "execution_count": 110,
   "metadata": {},
   "outputs": [
    {
     "data": {
      "text/plain": [
       "{'scale_pos_weight': 7,\n",
       " 'reg_lambda': 1.0,\n",
       " 'min_child_weight': 1,\n",
       " 'max_depth': 4,\n",
       " 'learning_rate': 0.1,\n",
       " 'gamma': 1.5,\n",
       " 'colsample_bytree': 0.4}"
      ]
     },
     "execution_count": 110,
     "metadata": {},
     "output_type": "execute_result"
    }
   ],
   "source": [
    "random_search.best_params_"
   ]
  },
  {
   "cell_type": "code",
   "execution_count": 111,
   "metadata": {},
   "outputs": [
    {
     "name": "stdout",
     "output_type": "stream",
     "text": [
      "[0]\tvalidation_0-aucpr:0.05889\n",
      "[1]\tvalidation_0-aucpr:0.06286\n",
      "[2]\tvalidation_0-aucpr:0.06527\n",
      "[3]\tvalidation_0-aucpr:0.06729\n",
      "[4]\tvalidation_0-aucpr:0.07043\n",
      "[5]\tvalidation_0-aucpr:0.07090\n",
      "[6]\tvalidation_0-aucpr:0.07109\n",
      "[7]\tvalidation_0-aucpr:0.07312\n",
      "[8]\tvalidation_0-aucpr:0.07476\n",
      "[9]\tvalidation_0-aucpr:0.07441\n",
      "[10]\tvalidation_0-aucpr:0.07525\n",
      "[11]\tvalidation_0-aucpr:0.07660\n",
      "[12]\tvalidation_0-aucpr:0.07717\n",
      "[13]\tvalidation_0-aucpr:0.07653\n"
     ]
    },
    {
     "name": "stderr",
     "output_type": "stream",
     "text": [
      "C:\\Users\\dsemi\\anaconda3\\lib\\site-packages\\xgboost\\sklearn.py:1421: UserWarning: `use_label_encoder` is deprecated in 1.7.0.\n",
      "  warnings.warn(\"`use_label_encoder` is deprecated in 1.7.0.\")\n",
      "C:\\Users\\dsemi\\anaconda3\\lib\\site-packages\\xgboost\\sklearn.py:861: UserWarning: `eval_metric` in `fit` method is deprecated for better compatibility with scikit-learn, use `eval_metric` in constructor or`set_params` instead.\n",
      "  warnings.warn(\n",
      "C:\\Users\\dsemi\\anaconda3\\lib\\site-packages\\xgboost\\sklearn.py:861: UserWarning: `early_stopping_rounds` in `fit` method is deprecated for better compatibility with scikit-learn, use `early_stopping_rounds` in constructor or`set_params` instead.\n",
      "  warnings.warn(\n"
     ]
    },
    {
     "name": "stdout",
     "output_type": "stream",
     "text": [
      "[14]\tvalidation_0-aucpr:0.07655\n",
      "[15]\tvalidation_0-aucpr:0.07680\n",
      "[16]\tvalidation_0-aucpr:0.07664\n",
      "[17]\tvalidation_0-aucpr:0.07667\n",
      "[18]\tvalidation_0-aucpr:0.07631\n",
      "[19]\tvalidation_0-aucpr:0.07512\n",
      "[20]\tvalidation_0-aucpr:0.07479\n",
      "[21]\tvalidation_0-aucpr:0.07605\n",
      "[22]\tvalidation_0-aucpr:0.07674\n"
     ]
    },
    {
     "data": {
      "text/plain": [
       "XGBClassifier(base_score=0.5, booster='gbtree', callbacks=None,\n",
       "              colsample_bylevel=1, colsample_bynode=1, colsample_bytree=0.4,\n",
       "              early_stopping_rounds=None, enable_categorical=False,\n",
       "              eval_metric=None, feature_types=None, gamma=1.5, gpu_id=-1,\n",
       "              grow_policy='depthwise', importance_type=None,\n",
       "              interaction_constraints='', learning_rate=0.1, max_bin=256,\n",
       "              max_cat_threshold=64, max_cat_to_onehot=4, max_delta_step=0,\n",
       "              max_depth=4, max_leaves=0, min_child_weight=1, missing=nan,\n",
       "              monotone_constraints='()', n_estimators=100, n_jobs=0,\n",
       "              num_parallel_tree=1, predictor='auto', random_state=42, ...)"
      ]
     },
     "execution_count": 111,
     "metadata": {},
     "output_type": "execute_result"
    }
   ],
   "source": [
    "clf_xgb=xgb.XGBClassifier(seed=42,\n",
    "                          objective='binary:logistic',\n",
    "                          gamma=1.5,\n",
    "                          learning_rate=0.1,\n",
    "                          max_depth=4,\n",
    "                          reg_lambda=1.0,\n",
    "                          scale_pos_weight=7,\n",
    "                          subsample=0.9,\n",
    "                          colsample_bytree=0.4,\n",
    "                          use_label_encoder=False)\n",
    "\n",
    "clf_xgb.fit(X_train, \n",
    "            y_train, \n",
    "            verbose=True, \n",
    "            early_stopping_rounds=10,\n",
    "            eval_metric='aucpr',\n",
    "            eval_set=[(X_test, y_test)])"
   ]
  },
  {
   "cell_type": "code",
   "execution_count": 112,
   "metadata": {},
   "outputs": [
    {
     "data": {
      "text/plain": [
       "Text(0.5, 1.0, 'Confusion matrix of XGB train')"
      ]
     },
     "execution_count": 112,
     "metadata": {},
     "output_type": "execute_result"
    },
    {
     "data": {
      "image/png": "[encoded data removed]",
      "text/plain": [
       "<Figure size 432x288 with 2 Axes>"
      ]
     },
     "metadata": {
      "needs_background": "light"
     },
     "output_type": "display_data"
    }
   ],
   "source": [
    "plot_confusion_matrix(clf_xgb, \n",
    "                      X_train, \n",
    "                      y_train,\n",
    "                      values_format='d',\n",
    "                      cmap=\"Blues\",\n",
    "                      display_labels=[\"Did not donate\", \"Donated\"])\n",
    "plt.title('Confusion matrix of XGB train')"
   ]
  },
  {
   "cell_type": "code",
   "execution_count": 113,
   "metadata": {},
   "outputs": [
    {
     "data": {
      "text/plain": [
       "Text(0.5, 1.0, 'Confusion matrix of XGB test')"
      ]
     },
     "execution_count": 113,
     "metadata": {},
     "output_type": "execute_result"
    },
    {
     "data": {
      "image/png": "[encoded data removed]",
      "text/plain": [
       "<Figure size 432x288 with 2 Axes>"
      ]
     },
     "metadata": {
      "needs_background": "light"
     },
     "output_type": "display_data"
    }
   ],
   "source": [
    "plot_confusion_matrix(clf_xgb, \n",
    "                      X_test, \n",
    "                      y_test,\n",
    "                      values_format='d',\n",
    "                      cmap=\"Greens\",\n",
    "                      display_labels=[\"Did not donate\", \"Donated\"])\n",
    "plt.title('Confusion matrix of XGB test')"
   ]
  },
  {
   "cell_type": "code",
   "execution_count": 114,
   "metadata": {},
   "outputs": [
    {
     "name": "stderr",
     "output_type": "stream",
     "text": [
      "ntree_limit is deprecated, use `iteration_range` or model slicing instead.\n"
     ]
    }
   ],
   "source": [
    "import shap\n",
    "explainer = shap.Explainer(clf_xgb)\n",
    "shap_values = explainer(X_test)"
   ]
  },
  {
   "cell_type": "code",
   "execution_count": 115,
   "metadata": {},
   "outputs": [
    {
     "data": {
      "image/png": "[encoded data removed]",
      "text/plain": [
       "<Figure size 576x396 with 2 Axes>"
      ]
     },
     "metadata": {
      "needs_background": "light"
     },
     "output_type": "display_data"
    }
   ],
   "source": [
    "shap.plots.beeswarm(shap_values)"
   ]
  },
  {
   "cell_type": "markdown",
   "metadata": {},
   "source": [
    "#### Evaluating all the models"
   ]
  },
  {
   "cell_type": "code",
   "execution_count": 116,
   "metadata": {},
   "outputs": [
    {
     "data": {
      "image/png": "[encoded data removed]",
      "text/plain": [
       "<Figure size 432x288 with 1 Axes>"
      ]
     },
     "metadata": {
      "needs_background": "light"
     },
     "output_type": "display_data"
    }
   ],
   "source": [
    "def build_cumulative_curve(model, scale=100):\n",
    "    # Fit model\n",
    "    model.fit(X_train, y_train)\n",
    "\n",
    "    # Get the probability of Y_test records being = 1\n",
    "    Y_test_probability_1 = model.predict_proba(X_test)[:, 1]\n",
    "\n",
    "    # Sort theseprobabilities and the true value in descending order of probability\n",
    "    order = np.argsort(Y_test_probability_1)[::-1]\n",
    "    Y_test_probability_1_sorted = Y_test_probability_1[order]\n",
    "    Y_test_sorted = np.array(y_test)[order]\n",
    "\n",
    "    # Build the cumulative response curve\n",
    "    x_cumulative = np.arange(len(Y_test_probability_1_sorted)) + 1\n",
    "    y_cumulative = np.cumsum(Y_test_sorted)\n",
    "\n",
    "    # Rescale\n",
    "    x_cumulative = np.array(x_cumulative)/float(x_cumulative.max()) * scale\n",
    "    y_cumulative = np.array(y_cumulative)/float(y_cumulative.max()) * scale\n",
    "    \n",
    "    return x_cumulative, y_cumulative\n",
    "\n",
    "def plot_cumulative_curve(models):\n",
    "    # Plot curve for each model\n",
    "    for key in models:\n",
    "        x_cumulative, y_cumulative = build_cumulative_curve(models[key])\n",
    "        plt.plot(x_cumulative, y_cumulative, label=key)\n",
    "    # Plot other details\n",
    "    plt.plot([0,100], [0,100], 'k--', label=\"Random\")\n",
    "    plt.xlabel(\"Percentage of test instances targeted (decreasing score)\")\n",
    "    plt.ylabel(\"Percentage of positives targeted\")\n",
    "    plt.title(\"Cumulative response curve\")\n",
    "    plt.legend()\n",
    "\n",
    "models = {\"Logistic Regression\": lreg,\n",
    "          \"KNN\": knn_ccv,\n",
    "          \"XGBoost\": clf_xgb}\n",
    "plot_cumulative_curve(models)"
   ]
  },
  {
   "cell_type": "code",
   "execution_count": 117,
   "metadata": {},
   "outputs": [
    {
     "data": {
      "image/png": "[encoded data removed]",
      "text/plain": [
       "<Figure size 432x288 with 1 Axes>"
      ]
     },
     "metadata": {
      "needs_background": "light"
     },
     "output_type": "display_data"
    }
   ],
   "source": [
    "def plot_lift_curve(models):\n",
    "    # Plot curve for each model\n",
    "    for key in models:\n",
    "        x_cumulative, y_cumulative = build_cumulative_curve(models[key])\n",
    "        plt.plot(x_cumulative, y_cumulative/x_cumulative, label=key)\n",
    "    # Plot other details\n",
    "    plt.plot([0,100], [1,1], 'k--', label=\"Random\")\n",
    "    plt.xlabel(\"Percentage of test instances (decreasing score)\")\n",
    "    plt.ylabel(\"Lift (times)\")\n",
    "    plt.title(\"Lift curve\")\n",
    "    plt.legend()\n",
    "\n",
    "plot_lift_curve(models)"
   ]
  },
  {
   "cell_type": "markdown",
   "metadata": {},
   "source": [
    "## 4. Summary"
   ]
  },
  {
   "cell_type": "markdown",
   "metadata": {},
   "source": [
    "### Some key takeaways"
   ]
  },
  {
   "cell_type": "markdown",
   "metadata": {},
   "source": [
    "From the data prepartion stage, this anonymized dataset is from an instituion where a majority of the constiuents were densely located in Malibu, CA. The dataset tracks membership, alumnus, parent, and involvement indicators. The majority of the 34,000 rows of data are not members, alumni, parent, or involved. There's an even split between male and female constiuents and the majority are married.\n",
    "\n",
    "Analyzing the data further, most of the constituents are between the ages of 35-45. Nearly 2/3 of the constituents have made a gift in the past and are identified as a donor. Some of the highest total giving at the institution are from those in the ages of 35-45. The highest donors are female with total giving over $1M. Male consituents with a wealth rating of 1 have previously made a gift to the institution while the wealthest female consituent has not made a donation.\n",
    "\n",
    "At the time of this data collection, the institutions has eighty percent of the donors that it does from last year with 1,689 new donors from last year. This churn is high and implicates that predicting returning donors could be difficult.\n",
    "\n",
    "There is an opportunity to rate donors who have already given to the institution by identifying those with high giving and no wealth rating. This will help inform the strategic plan to cultivate these donors further."
   ]
  },
  {
   "cell_type": "markdown",
   "metadata": {},
   "source": [
    "### Predicting donors "
   ]
  },
  {
   "cell_type": "markdown",
   "metadata": {},
   "source": [
    "Predicting current year donors with the available features was a difficult task given the imbalance of donors to non-donors.\n",
    "\n",
    "While most models were overall accurate at 94%+ on average, they all failed to appropriately identified donors by mostly classifying everyone as a non-donor. This proved even more difficult when testing generalization on the test dataset.\n",
    "\n",
    "Sacrificing overall accuracy, a logistic regression with a lower probability could identify more true donors but misclassifying non-donors as donors. A overall cuttoff and cost benefit analysis could help determine if this model would be helpful in outreach such as mailings, event invitations, calls, or visits from fundraisers."
   ]
  },
  {
   "cell_type": "markdown",
   "metadata": {},
   "source": [
    "### Limitations"
   ]
  },
  {
   "cell_type": "markdown",
   "metadata": {},
   "source": [
    "Given the poor performance of the models to predict donors, more data and information especially around past giving could be helpful as the giving features were the highest correlated variables. The challenge with this classification task will continue to be the imbalance of the dataset. With a larger dataset, the model could also have a better opportunity to learn  patterns that increase performance to correctly classify donors."
   ]
  }
 ],
 "metadata": {
  "kernelspec": {
   "display_name": "Python 3 (ipykernel)",
   "language": "python",
   "name": "python3"
  },
  "language_info": {
   "codemirror_mode": {
    "name": "ipython",
    "version": 3
   },
   "file_extension": ".py",
   "mimetype": "text/x-python",
   "name": "python",
   "nbconvert_exporter": "python",
   "pygments_lexer": "ipython3",
   "version": "3.9.7"
  }
 },
 "nbformat": 4,
 "nbformat_minor": 2
}
