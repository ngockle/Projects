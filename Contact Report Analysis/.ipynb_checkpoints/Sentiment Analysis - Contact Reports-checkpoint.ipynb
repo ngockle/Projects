{
 "cells": [
  {
   "cell_type": "markdown",
   "id": "b657d749",
   "metadata": {},
   "source": [
    "### Importing Packages"
   ]
  },
  {
   "cell_type": "code",
   "execution_count": 1,
   "id": "52894812",
   "metadata": {},
   "outputs": [],
   "source": [
    "import numpy as np\n",
    "import pandas as pd\n",
    "import seaborn as sns\n",
    "import matplotlib.pyplot as plt"
   ]
  },
  {
   "cell_type": "code",
   "execution_count": 2,
   "id": "d4e20368",
   "metadata": {},
   "outputs": [
    {
     "name": "stderr",
     "output_type": "stream",
     "text": [
      "[nltk_data] Downloading package vader_lexicon to\n",
      "[nltk_data]     C:\\Users\\dsemi\\AppData\\Roaming\\nltk_data...\n",
      "[nltk_data]   Package vader_lexicon is already up-to-date!\n"
     ]
    }
   ],
   "source": [
    "import nltk\n",
    "nltk.download('vader_lexicon')\n",
    "from nltk.sentiment.vader import SentimentIntensityAnalyzer\n",
    "sid = SentimentIntensityAnalyzer()\n",
    "def compound_score(txt):\n",
    "    return sid.polarity_scores(txt)[\"compound\"]"
   ]
  },
  {
   "cell_type": "code",
   "execution_count": 3,
   "id": "030f6f87",
   "metadata": {},
   "outputs": [
    {
     "name": "stdout",
     "output_type": "stream",
     "text": [
      "Requirement already satisfied: vaderSentiment in c:\\users\\dsemi\\anaconda3\\lib\\site-packages (3.3.2)\n",
      "Requirement already satisfied: requests in c:\\users\\dsemi\\anaconda3\\lib\\site-packages (from vaderSentiment) (2.26.0)\n",
      "Requirement already satisfied: idna<4,>=2.5 in c:\\users\\dsemi\\anaconda3\\lib\\site-packages (from requests->vaderSentiment) (3.2)\n",
      "Requirement already satisfied: charset-normalizer~=2.0.0 in c:\\users\\dsemi\\anaconda3\\lib\\site-packages (from requests->vaderSentiment) (2.0.4)\n",
      "Requirement already satisfied: urllib3<1.27,>=1.21.1 in c:\\users\\dsemi\\anaconda3\\lib\\site-packages (from requests->vaderSentiment) (1.26.7)\n",
      "Requirement already satisfied: certifi>=2017.4.17 in c:\\users\\dsemi\\anaconda3\\lib\\site-packages (from requests->vaderSentiment) (2021.10.8)\n",
      "Note: you may need to restart the kernel to use updated packages.\n"
     ]
    }
   ],
   "source": [
    "pip install vaderSentiment"
   ]
  },
  {
   "cell_type": "code",
   "execution_count": 4,
   "id": "4763c3cb",
   "metadata": {},
   "outputs": [
    {
     "name": "stdout",
     "output_type": "stream",
     "text": [
      "Requirement already satisfied: wordcloud in c:\\users\\dsemi\\anaconda3\\lib\\site-packages (1.8.2.2)\n",
      "Requirement already satisfied: numpy>=1.6.1 in c:\\users\\dsemi\\anaconda3\\lib\\site-packages (from wordcloud) (1.20.3)\n",
      "Requirement already satisfied: pillow in c:\\users\\dsemi\\anaconda3\\lib\\site-packages (from wordcloud) (8.4.0)\n",
      "Requirement already satisfied: matplotlib in c:\\users\\dsemi\\anaconda3\\lib\\site-packages (from wordcloud) (3.4.3)\n",
      "Requirement already satisfied: cycler>=0.10 in c:\\users\\dsemi\\anaconda3\\lib\\site-packages (from matplotlib->wordcloud) (0.10.0)\n",
      "Requirement already satisfied: kiwisolver>=1.0.1 in c:\\users\\dsemi\\anaconda3\\lib\\site-packages (from matplotlib->wordcloud) (1.3.1)\n",
      "Requirement already satisfied: python-dateutil>=2.7 in c:\\users\\dsemi\\anaconda3\\lib\\site-packages (from matplotlib->wordcloud) (2.8.2)\n",
      "Requirement already satisfied: pyparsing>=2.2.1 in c:\\users\\dsemi\\anaconda3\\lib\\site-packages (from matplotlib->wordcloud) (3.0.4)\n",
      "Requirement already satisfied: six in c:\\users\\dsemi\\anaconda3\\lib\\site-packages (from cycler>=0.10->matplotlib->wordcloud) (1.16.0)\n",
      "Note: you may need to restart the kernel to use updated packages.\n"
     ]
    }
   ],
   "source": [
    "pip install wordcloud"
   ]
  },
  {
   "cell_type": "code",
   "execution_count": 5,
   "id": "52483016",
   "metadata": {},
   "outputs": [],
   "source": [
    "import re\n",
    "import string\n",
    "from vaderSentiment.vaderSentiment import SentimentIntensityAnalyzer\n",
    "from wordcloud import WordCloud,STOPWORDS"
   ]
  },
  {
   "cell_type": "markdown",
   "id": "88a0bdae",
   "metadata": {},
   "source": [
    "### Import dataset"
   ]
  },
  {
   "cell_type": "code",
   "execution_count": 6,
   "id": "6f437cea",
   "metadata": {},
   "outputs": [
    {
     "name": "stdout",
     "output_type": "stream",
     "text": [
      "<class 'pandas.core.frame.DataFrame'>\n",
      "RangeIndex: 196 entries, 0 to 195\n",
      "Data columns (total 7 columns):\n",
      " #   Column       Non-Null Count  Dtype \n",
      "---  ------       --------------  ----- \n",
      " 0   Staff Name   196 non-null    object\n",
      " 1   Method       196 non-null    object\n",
      " 2   Date         196 non-null    object\n",
      " 3   Summary      196 non-null    object\n",
      " 4   Substantive  196 non-null    object\n",
      " 5   Donor        196 non-null    object\n",
      " 6   Outcome      196 non-null    object\n",
      "dtypes: object(7)\n",
      "memory usage: 10.8+ KB\n"
     ]
    }
   ],
   "source": [
    "df = pd.read_csv(\"data_science_for_fundraising_contact_reports.csv\")\n",
    "df.info()"
   ]
  },
  {
   "cell_type": "markdown",
   "id": "aef04ea2",
   "metadata": {},
   "source": [
    "### Clean the data"
   ]
  },
  {
   "cell_type": "code",
   "execution_count": 7,
   "id": "3070af25",
   "metadata": {},
   "outputs": [
    {
     "name": "stdout",
     "output_type": "stream",
     "text": [
      "Number of duplicate rows = 0\n"
     ]
    }
   ],
   "source": [
    "#check for duplicates\n",
    "dups = df.duplicated()\n",
    "print('Number of duplicate rows = %d' % (dups.sum()))"
   ]
  },
  {
   "cell_type": "code",
   "execution_count": 8,
   "id": "a4e3955a",
   "metadata": {},
   "outputs": [
    {
     "data": {
      "text/html": [
       "<div>\n",
       "<style scoped>\n",
       "    .dataframe tbody tr th:only-of-type {\n",
       "        vertical-align: middle;\n",
       "    }\n",
       "\n",
       "    .dataframe tbody tr th {\n",
       "        vertical-align: top;\n",
       "    }\n",
       "\n",
       "    .dataframe thead th {\n",
       "        text-align: right;\n",
       "    }\n",
       "</style>\n",
       "<table border=\"1\" class=\"dataframe\">\n",
       "  <thead>\n",
       "    <tr style=\"text-align: right;\">\n",
       "      <th></th>\n",
       "    </tr>\n",
       "  </thead>\n",
       "  <tbody>\n",
       "    <tr>\n",
       "      <th>0</th>\n",
       "    </tr>\n",
       "    <tr>\n",
       "      <th>1</th>\n",
       "    </tr>\n",
       "    <tr>\n",
       "      <th>2</th>\n",
       "    </tr>\n",
       "    <tr>\n",
       "      <th>3</th>\n",
       "    </tr>\n",
       "    <tr>\n",
       "      <th>4</th>\n",
       "    </tr>\n",
       "    <tr>\n",
       "      <th>...</th>\n",
       "    </tr>\n",
       "    <tr>\n",
       "      <th>191</th>\n",
       "    </tr>\n",
       "    <tr>\n",
       "      <th>192</th>\n",
       "    </tr>\n",
       "    <tr>\n",
       "      <th>193</th>\n",
       "    </tr>\n",
       "    <tr>\n",
       "      <th>194</th>\n",
       "    </tr>\n",
       "    <tr>\n",
       "      <th>195</th>\n",
       "    </tr>\n",
       "  </tbody>\n",
       "</table>\n",
       "<p>196 rows × 0 columns</p>\n",
       "</div>"
      ],
      "text/plain": [
       "Empty DataFrame\n",
       "Columns: []\n",
       "Index: [0, 1, 2, 3, 4, 5, 6, 7, 8, 9, 10, 11, 12, 13, 14, 15, 16, 17, 18, 19, 20, 21, 22, 23, 24, 25, 26, 27, 28, 29, 30, 31, 32, 33, 34, 35, 36, 37, 38, 39, 40, 41, 42, 43, 44, 45, 46, 47, 48, 49, 50, 51, 52, 53, 54, 55, 56, 57, 58, 59, 60, 61, 62, 63, 64, 65, 66, 67, 68, 69, 70, 71, 72, 73, 74, 75, 76, 77, 78, 79, 80, 81, 82, 83, 84, 85, 86, 87, 88, 89, 90, 91, 92, 93, 94, 95, 96, 97, 98, 99, ...]\n",
       "\n",
       "[196 rows x 0 columns]"
      ]
     },
     "execution_count": 8,
     "metadata": {},
     "output_type": "execute_result"
    }
   ],
   "source": [
    "# missing data\n",
    "nan_cols = df.loc[:,df.isna().any(axis=0)]\n",
    "nan_cols"
   ]
  },
  {
   "cell_type": "code",
   "execution_count": 9,
   "id": "ddf23e5c",
   "metadata": {},
   "outputs": [
    {
     "data": {
      "text/html": [
       "<div>\n",
       "<style scoped>\n",
       "    .dataframe tbody tr th:only-of-type {\n",
       "        vertical-align: middle;\n",
       "    }\n",
       "\n",
       "    .dataframe tbody tr th {\n",
       "        vertical-align: top;\n",
       "    }\n",
       "\n",
       "    .dataframe thead th {\n",
       "        text-align: right;\n",
       "    }\n",
       "</style>\n",
       "<table border=\"1\" class=\"dataframe\">\n",
       "  <thead>\n",
       "    <tr style=\"text-align: right;\">\n",
       "      <th></th>\n",
       "      <th>Staff Name</th>\n",
       "      <th>Method</th>\n",
       "      <th>Date</th>\n",
       "      <th>Summary</th>\n",
       "      <th>Substantive</th>\n",
       "      <th>Donor</th>\n",
       "      <th>Outcome</th>\n",
       "    </tr>\n",
       "  </thead>\n",
       "  <tbody>\n",
       "    <tr>\n",
       "      <th>0</th>\n",
       "      <td>Ann Marie Levier</td>\n",
       "      <td>Email</td>\n",
       "      <td>12/1/17</td>\n",
       "      <td>Sent Dominic an email asking for an update if ...</td>\n",
       "      <td>Y</td>\n",
       "      <td>Dominic Richards</td>\n",
       "      <td>Positive</td>\n",
       "    </tr>\n",
       "    <tr>\n",
       "      <th>1</th>\n",
       "      <td>Ann Marie Levier</td>\n",
       "      <td>Email</td>\n",
       "      <td>12/1/17</td>\n",
       "      <td>Emailed Dr. Jonathan Winters, who have ties to...</td>\n",
       "      <td>Y</td>\n",
       "      <td>William Bendrich</td>\n",
       "      <td>Positive</td>\n",
       "    </tr>\n",
       "    <tr>\n",
       "      <th>2</th>\n",
       "      <td>Ann Marie Levier</td>\n",
       "      <td>Letter</td>\n",
       "      <td>11/30/17</td>\n",
       "      <td>Sent Belinda an upgrade brochure, appeal lette...</td>\n",
       "      <td>Y</td>\n",
       "      <td>Belinda Carlyle</td>\n",
       "      <td>Positive</td>\n",
       "    </tr>\n",
       "    <tr>\n",
       "      <th>3</th>\n",
       "      <td>Deborah Mettier</td>\n",
       "      <td>Phone</td>\n",
       "      <td>11/29/17</td>\n",
       "      <td>$50k to extend Kendrick Memorial Undergraduate...</td>\n",
       "      <td>Y</td>\n",
       "      <td>Donna Gilbert</td>\n",
       "      <td>Positive</td>\n",
       "    </tr>\n",
       "    <tr>\n",
       "      <th>4</th>\n",
       "      <td>Ann Marie Levier</td>\n",
       "      <td>Letter</td>\n",
       "      <td>11/27/17</td>\n",
       "      <td>Sent upgrade brochure asking Jeffrey and Julie...</td>\n",
       "      <td>Y</td>\n",
       "      <td>Jeffrey Jantz</td>\n",
       "      <td>Positive</td>\n",
       "    </tr>\n",
       "  </tbody>\n",
       "</table>\n",
       "</div>"
      ],
      "text/plain": [
       "         Staff Name  Method      Date  \\\n",
       "0  Ann Marie Levier   Email   12/1/17   \n",
       "1  Ann Marie Levier   Email   12/1/17   \n",
       "2  Ann Marie Levier  Letter  11/30/17   \n",
       "3   Deborah Mettier   Phone  11/29/17   \n",
       "4  Ann Marie Levier  Letter  11/27/17   \n",
       "\n",
       "                                             Summary Substantive  \\\n",
       "0  Sent Dominic an email asking for an update if ...           Y   \n",
       "1  Emailed Dr. Jonathan Winters, who have ties to...           Y   \n",
       "2  Sent Belinda an upgrade brochure, appeal lette...           Y   \n",
       "3  $50k to extend Kendrick Memorial Undergraduate...           Y   \n",
       "4  Sent upgrade brochure asking Jeffrey and Julie...           Y   \n",
       "\n",
       "              Donor   Outcome  \n",
       "0  Dominic Richards  Positive  \n",
       "1  William Bendrich  Positive  \n",
       "2   Belinda Carlyle  Positive  \n",
       "3     Donna Gilbert  Positive  \n",
       "4     Jeffrey Jantz  Positive  "
      ]
     },
     "execution_count": 9,
     "metadata": {},
     "output_type": "execute_result"
    }
   ],
   "source": [
    "df.head()"
   ]
  },
  {
   "cell_type": "code",
   "execution_count": 10,
   "id": "b0a4e250",
   "metadata": {},
   "outputs": [
    {
     "data": {
      "text/plain": [
       "Negative    133\n",
       "Positive     63\n",
       "Name: Outcome, dtype: int64"
      ]
     },
     "execution_count": 10,
     "metadata": {},
     "output_type": "execute_result"
    }
   ],
   "source": [
    "df['Outcome'].value_counts()"
   ]
  },
  {
   "cell_type": "markdown",
   "id": "20c2694d",
   "metadata": {},
   "source": [
    "### Adding sentiment scores"
   ]
  },
  {
   "cell_type": "code",
   "execution_count": 11,
   "id": "142ff882",
   "metadata": {},
   "outputs": [
    {
     "data": {
      "text/html": [
       "<div>\n",
       "<style scoped>\n",
       "    .dataframe tbody tr th:only-of-type {\n",
       "        vertical-align: middle;\n",
       "    }\n",
       "\n",
       "    .dataframe tbody tr th {\n",
       "        vertical-align: top;\n",
       "    }\n",
       "\n",
       "    .dataframe thead th {\n",
       "        text-align: right;\n",
       "    }\n",
       "</style>\n",
       "<table border=\"1\" class=\"dataframe\">\n",
       "  <thead>\n",
       "    <tr style=\"text-align: right;\">\n",
       "      <th></th>\n",
       "      <th>Staff Name</th>\n",
       "      <th>Method</th>\n",
       "      <th>Date</th>\n",
       "      <th>Summary</th>\n",
       "      <th>Substantive</th>\n",
       "      <th>Donor</th>\n",
       "      <th>Outcome</th>\n",
       "      <th>score</th>\n",
       "    </tr>\n",
       "  </thead>\n",
       "  <tbody>\n",
       "    <tr>\n",
       "      <th>0</th>\n",
       "      <td>Ann Marie Levier</td>\n",
       "      <td>Email</td>\n",
       "      <td>12/1/17</td>\n",
       "      <td>Sent Dominic an email asking for an update if ...</td>\n",
       "      <td>Y</td>\n",
       "      <td>Dominic Richards</td>\n",
       "      <td>Positive</td>\n",
       "      <td>{'neg': 0.0, 'neu': 0.728, 'pos': 0.272, 'comp...</td>\n",
       "    </tr>\n",
       "    <tr>\n",
       "      <th>1</th>\n",
       "      <td>Ann Marie Levier</td>\n",
       "      <td>Email</td>\n",
       "      <td>12/1/17</td>\n",
       "      <td>Emailed Dr. Jonathan Winters, who have ties to...</td>\n",
       "      <td>Y</td>\n",
       "      <td>William Bendrich</td>\n",
       "      <td>Positive</td>\n",
       "      <td>{'neg': 0.0, 'neu': 0.674, 'pos': 0.326, 'comp...</td>\n",
       "    </tr>\n",
       "    <tr>\n",
       "      <th>2</th>\n",
       "      <td>Ann Marie Levier</td>\n",
       "      <td>Letter</td>\n",
       "      <td>11/30/17</td>\n",
       "      <td>Sent Belinda an upgrade brochure, appeal lette...</td>\n",
       "      <td>Y</td>\n",
       "      <td>Belinda Carlyle</td>\n",
       "      <td>Positive</td>\n",
       "      <td>{'neg': 0.0, 'neu': 0.833, 'pos': 0.167, 'comp...</td>\n",
       "    </tr>\n",
       "    <tr>\n",
       "      <th>3</th>\n",
       "      <td>Deborah Mettier</td>\n",
       "      <td>Phone</td>\n",
       "      <td>11/29/17</td>\n",
       "      <td>$50k to extend Kendrick Memorial Undergraduate...</td>\n",
       "      <td>Y</td>\n",
       "      <td>Donna Gilbert</td>\n",
       "      <td>Positive</td>\n",
       "      <td>{'neg': 0.0, 'neu': 0.826, 'pos': 0.174, 'comp...</td>\n",
       "    </tr>\n",
       "    <tr>\n",
       "      <th>4</th>\n",
       "      <td>Ann Marie Levier</td>\n",
       "      <td>Letter</td>\n",
       "      <td>11/27/17</td>\n",
       "      <td>Sent upgrade brochure asking Jeffrey and Julie...</td>\n",
       "      <td>Y</td>\n",
       "      <td>Jeffrey Jantz</td>\n",
       "      <td>Positive</td>\n",
       "      <td>{'neg': 0.0, 'neu': 0.82, 'pos': 0.18, 'compou...</td>\n",
       "    </tr>\n",
       "  </tbody>\n",
       "</table>\n",
       "</div>"
      ],
      "text/plain": [
       "         Staff Name  Method      Date  \\\n",
       "0  Ann Marie Levier   Email   12/1/17   \n",
       "1  Ann Marie Levier   Email   12/1/17   \n",
       "2  Ann Marie Levier  Letter  11/30/17   \n",
       "3   Deborah Mettier   Phone  11/29/17   \n",
       "4  Ann Marie Levier  Letter  11/27/17   \n",
       "\n",
       "                                             Summary Substantive  \\\n",
       "0  Sent Dominic an email asking for an update if ...           Y   \n",
       "1  Emailed Dr. Jonathan Winters, who have ties to...           Y   \n",
       "2  Sent Belinda an upgrade brochure, appeal lette...           Y   \n",
       "3  $50k to extend Kendrick Memorial Undergraduate...           Y   \n",
       "4  Sent upgrade brochure asking Jeffrey and Julie...           Y   \n",
       "\n",
       "              Donor   Outcome  \\\n",
       "0  Dominic Richards  Positive   \n",
       "1  William Bendrich  Positive   \n",
       "2   Belinda Carlyle  Positive   \n",
       "3     Donna Gilbert  Positive   \n",
       "4     Jeffrey Jantz  Positive   \n",
       "\n",
       "                                               score  \n",
       "0  {'neg': 0.0, 'neu': 0.728, 'pos': 0.272, 'comp...  \n",
       "1  {'neg': 0.0, 'neu': 0.674, 'pos': 0.326, 'comp...  \n",
       "2  {'neg': 0.0, 'neu': 0.833, 'pos': 0.167, 'comp...  \n",
       "3  {'neg': 0.0, 'neu': 0.826, 'pos': 0.174, 'comp...  \n",
       "4  {'neg': 0.0, 'neu': 0.82, 'pos': 0.18, 'compou...  "
      ]
     },
     "execution_count": 11,
     "metadata": {},
     "output_type": "execute_result"
    }
   ],
   "source": [
    "df['score']= df['Summary'].apply(lambda Summary:\n",
    "sid.polarity_scores(Summary))\n",
    "\n",
    "df.head()"
   ]
  },
  {
   "cell_type": "markdown",
   "id": "71db543d",
   "metadata": {},
   "source": [
    "Now will call out compound as a separate column and all values greater than zeroes will be considered a positive review and all values less than zero would be considered as a negative review."
   ]
  },
  {
   "cell_type": "code",
   "execution_count": 12,
   "id": "2c37d2c4",
   "metadata": {},
   "outputs": [
    {
     "data": {
      "text/html": [
       "<div>\n",
       "<style scoped>\n",
       "    .dataframe tbody tr th:only-of-type {\n",
       "        vertical-align: middle;\n",
       "    }\n",
       "\n",
       "    .dataframe tbody tr th {\n",
       "        vertical-align: top;\n",
       "    }\n",
       "\n",
       "    .dataframe thead th {\n",
       "        text-align: right;\n",
       "    }\n",
       "</style>\n",
       "<table border=\"1\" class=\"dataframe\">\n",
       "  <thead>\n",
       "    <tr style=\"text-align: right;\">\n",
       "      <th></th>\n",
       "      <th>Staff Name</th>\n",
       "      <th>Method</th>\n",
       "      <th>Date</th>\n",
       "      <th>Summary</th>\n",
       "      <th>Substantive</th>\n",
       "      <th>Donor</th>\n",
       "      <th>Outcome</th>\n",
       "      <th>score</th>\n",
       "      <th>compound</th>\n",
       "    </tr>\n",
       "  </thead>\n",
       "  <tbody>\n",
       "    <tr>\n",
       "      <th>0</th>\n",
       "      <td>Ann Marie Levier</td>\n",
       "      <td>Email</td>\n",
       "      <td>12/1/17</td>\n",
       "      <td>Sent Dominic an email asking for an update if ...</td>\n",
       "      <td>Y</td>\n",
       "      <td>Dominic Richards</td>\n",
       "      <td>Positive</td>\n",
       "      <td>{'neg': 0.0, 'neu': 0.728, 'pos': 0.272, 'comp...</td>\n",
       "      <td>0.8910</td>\n",
       "    </tr>\n",
       "    <tr>\n",
       "      <th>1</th>\n",
       "      <td>Ann Marie Levier</td>\n",
       "      <td>Email</td>\n",
       "      <td>12/1/17</td>\n",
       "      <td>Emailed Dr. Jonathan Winters, who have ties to...</td>\n",
       "      <td>Y</td>\n",
       "      <td>William Bendrich</td>\n",
       "      <td>Positive</td>\n",
       "      <td>{'neg': 0.0, 'neu': 0.674, 'pos': 0.326, 'comp...</td>\n",
       "      <td>0.8481</td>\n",
       "    </tr>\n",
       "  </tbody>\n",
       "</table>\n",
       "</div>"
      ],
      "text/plain": [
       "         Staff Name Method     Date  \\\n",
       "0  Ann Marie Levier  Email  12/1/17   \n",
       "1  Ann Marie Levier  Email  12/1/17   \n",
       "\n",
       "                                             Summary Substantive  \\\n",
       "0  Sent Dominic an email asking for an update if ...           Y   \n",
       "1  Emailed Dr. Jonathan Winters, who have ties to...           Y   \n",
       "\n",
       "              Donor   Outcome  \\\n",
       "0  Dominic Richards  Positive   \n",
       "1  William Bendrich  Positive   \n",
       "\n",
       "                                               score  compound  \n",
       "0  {'neg': 0.0, 'neu': 0.728, 'pos': 0.272, 'comp...    0.8910  \n",
       "1  {'neg': 0.0, 'neu': 0.674, 'pos': 0.326, 'comp...    0.8481  "
      ]
     },
     "execution_count": 12,
     "metadata": {},
     "output_type": "execute_result"
    }
   ],
   "source": [
    "df['compound'] = df['Summary'].astype(\"str\").apply(compound_score)\n",
    "df.head(2)"
   ]
  },
  {
   "cell_type": "code",
   "execution_count": 13,
   "id": "478b541b",
   "metadata": {},
   "outputs": [],
   "source": [
    "##sentiment\n",
    "def sentiment(compound):\n",
    "    emotion=\"\"\n",
    "    if compound >=0.5:\n",
    "        emotion=\"Positive\"\n",
    "    elif compound <= -0.5:\n",
    "        emotion= \"Negative\"\n",
    "    else:\n",
    "        emotion= \"Neutral\"\n",
    "    return emotion"
   ]
  },
  {
   "cell_type": "code",
   "execution_count": 14,
   "id": "384297b6",
   "metadata": {},
   "outputs": [
    {
     "data": {
      "text/html": [
       "<div>\n",
       "<style scoped>\n",
       "    .dataframe tbody tr th:only-of-type {\n",
       "        vertical-align: middle;\n",
       "    }\n",
       "\n",
       "    .dataframe tbody tr th {\n",
       "        vertical-align: top;\n",
       "    }\n",
       "\n",
       "    .dataframe thead th {\n",
       "        text-align: right;\n",
       "    }\n",
       "</style>\n",
       "<table border=\"1\" class=\"dataframe\">\n",
       "  <thead>\n",
       "    <tr style=\"text-align: right;\">\n",
       "      <th></th>\n",
       "      <th>Staff Name</th>\n",
       "      <th>Method</th>\n",
       "      <th>Date</th>\n",
       "      <th>Summary</th>\n",
       "      <th>Substantive</th>\n",
       "      <th>Donor</th>\n",
       "      <th>Outcome</th>\n",
       "      <th>score</th>\n",
       "      <th>compound</th>\n",
       "      <th>Sentiment</th>\n",
       "    </tr>\n",
       "  </thead>\n",
       "  <tbody>\n",
       "    <tr>\n",
       "      <th>191</th>\n",
       "      <td>Rashi Mohinder</td>\n",
       "      <td>Visit</td>\n",
       "      <td>8/27/17</td>\n",
       "      <td>Definitely interested in the University and wo...</td>\n",
       "      <td>N</td>\n",
       "      <td>Ben Johnson</td>\n",
       "      <td>Positive</td>\n",
       "      <td>{'neg': 0.0, 'neu': 0.503, 'pos': 0.497, 'comp...</td>\n",
       "      <td>0.7845</td>\n",
       "      <td>Positive</td>\n",
       "    </tr>\n",
       "    <tr>\n",
       "      <th>192</th>\n",
       "      <td>Rashi Mohinder</td>\n",
       "      <td>Email</td>\n",
       "      <td>8/27/17</td>\n",
       "      <td>not interested in the University</td>\n",
       "      <td>N</td>\n",
       "      <td>Adam Panda</td>\n",
       "      <td>Negative</td>\n",
       "      <td>{'neg': 0.361, 'neu': 0.639, 'pos': 0.0, 'comp...</td>\n",
       "      <td>-0.3089</td>\n",
       "      <td>Neutral</td>\n",
       "    </tr>\n",
       "    <tr>\n",
       "      <th>193</th>\n",
       "      <td>April Catson</td>\n",
       "      <td>Visit</td>\n",
       "      <td>8/27/17</td>\n",
       "      <td>not interested in the University</td>\n",
       "      <td>N</td>\n",
       "      <td>Billy Gross</td>\n",
       "      <td>Negative</td>\n",
       "      <td>{'neg': 0.361, 'neu': 0.639, 'pos': 0.0, 'comp...</td>\n",
       "      <td>-0.3089</td>\n",
       "      <td>Neutral</td>\n",
       "    </tr>\n",
       "    <tr>\n",
       "      <th>194</th>\n",
       "      <td>April Catson</td>\n",
       "      <td>Phone</td>\n",
       "      <td>8/27/17</td>\n",
       "      <td>not interested in the University</td>\n",
       "      <td>N</td>\n",
       "      <td>Carrie Booker</td>\n",
       "      <td>Negative</td>\n",
       "      <td>{'neg': 0.361, 'neu': 0.639, 'pos': 0.0, 'comp...</td>\n",
       "      <td>-0.3089</td>\n",
       "      <td>Neutral</td>\n",
       "    </tr>\n",
       "    <tr>\n",
       "      <th>195</th>\n",
       "      <td>April Catson</td>\n",
       "      <td>Visit</td>\n",
       "      <td>8/27/17</td>\n",
       "      <td>Definitely interested in the University and wo...</td>\n",
       "      <td>N</td>\n",
       "      <td>Dori Keller</td>\n",
       "      <td>Positive</td>\n",
       "      <td>{'neg': 0.0, 'neu': 0.503, 'pos': 0.497, 'comp...</td>\n",
       "      <td>0.7845</td>\n",
       "      <td>Positive</td>\n",
       "    </tr>\n",
       "  </tbody>\n",
       "</table>\n",
       "</div>"
      ],
      "text/plain": [
       "         Staff Name Method     Date  \\\n",
       "191  Rashi Mohinder  Visit  8/27/17   \n",
       "192  Rashi Mohinder  Email  8/27/17   \n",
       "193    April Catson  Visit  8/27/17   \n",
       "194    April Catson  Phone  8/27/17   \n",
       "195    April Catson  Visit  8/27/17   \n",
       "\n",
       "                                               Summary Substantive  \\\n",
       "191  Definitely interested in the University and wo...           N   \n",
       "192                   not interested in the University           N   \n",
       "193                   not interested in the University           N   \n",
       "194                   not interested in the University           N   \n",
       "195  Definitely interested in the University and wo...           N   \n",
       "\n",
       "             Donor   Outcome  \\\n",
       "191    Ben Johnson  Positive   \n",
       "192     Adam Panda  Negative   \n",
       "193    Billy Gross  Negative   \n",
       "194  Carrie Booker  Negative   \n",
       "195    Dori Keller  Positive   \n",
       "\n",
       "                                                 score  compound Sentiment  \n",
       "191  {'neg': 0.0, 'neu': 0.503, 'pos': 0.497, 'comp...    0.7845  Positive  \n",
       "192  {'neg': 0.361, 'neu': 0.639, 'pos': 0.0, 'comp...   -0.3089   Neutral  \n",
       "193  {'neg': 0.361, 'neu': 0.639, 'pos': 0.0, 'comp...   -0.3089   Neutral  \n",
       "194  {'neg': 0.361, 'neu': 0.639, 'pos': 0.0, 'comp...   -0.3089   Neutral  \n",
       "195  {'neg': 0.0, 'neu': 0.503, 'pos': 0.497, 'comp...    0.7845  Positive  "
      ]
     },
     "execution_count": 14,
     "metadata": {},
     "output_type": "execute_result"
    }
   ],
   "source": [
    "df['Sentiment'] = df['compound'].apply(sentiment)\n",
    "df.tail()"
   ]
  },
  {
   "cell_type": "code",
   "execution_count": 15,
   "id": "675fcf13",
   "metadata": {},
   "outputs": [
    {
     "name": "stderr",
     "output_type": "stream",
     "text": [
      "C:\\Users\\dsemi\\anaconda3\\lib\\site-packages\\seaborn\\_decorators.py:36: FutureWarning: Pass the following variable as a keyword arg: x. From version 0.12, the only valid positional argument will be `data`, and passing other arguments without an explicit keyword will result in an error or misinterpretation.\n",
      "  warnings.warn(\n",
      "C:\\Users\\dsemi\\anaconda3\\lib\\site-packages\\seaborn\\_decorators.py:36: FutureWarning: Pass the following variable as a keyword arg: x. From version 0.12, the only valid positional argument will be `data`, and passing other arguments without an explicit keyword will result in an error or misinterpretation.\n",
      "  warnings.warn(\n"
     ]
    },
    {
     "data": {
      "text/plain": [
       "<AxesSubplot:xlabel='Sentiment', ylabel='count'>"
      ]
     },
     "execution_count": 15,
     "metadata": {},
     "output_type": "execute_result"
    },
    {
     "data": {
      "image/png": "[encoded data removed]",
      "text/plain": [
       "<Figure size 432x288 with 2 Axes>"
      ]
     },
     "metadata": {
      "needs_background": "light"
     },
     "output_type": "display_data"
    }
   ],
   "source": [
    "fig, ax=plt.subplots(1,2)\n",
    "sns.countplot(df['Outcome'], ax=ax[0])\n",
    "sns.countplot(df['Sentiment'], ax=ax[1])"
   ]
  },
  {
   "cell_type": "code",
   "execution_count": 16,
   "id": "3f3dbfaf",
   "metadata": {},
   "outputs": [],
   "source": [
    "#too many neutrals, let's take a closer look\n",
    "Neutral = df.loc[df['Sentiment'] == \"Neutral\"]"
   ]
  },
  {
   "cell_type": "code",
   "execution_count": 17,
   "id": "8c574a82",
   "metadata": {},
   "outputs": [
    {
     "data": {
      "text/html": [
       "<div>\n",
       "<style scoped>\n",
       "    .dataframe tbody tr th:only-of-type {\n",
       "        vertical-align: middle;\n",
       "    }\n",
       "\n",
       "    .dataframe tbody tr th {\n",
       "        vertical-align: top;\n",
       "    }\n",
       "\n",
       "    .dataframe thead th {\n",
       "        text-align: right;\n",
       "    }\n",
       "</style>\n",
       "<table border=\"1\" class=\"dataframe\">\n",
       "  <thead>\n",
       "    <tr style=\"text-align: right;\">\n",
       "      <th></th>\n",
       "      <th>Staff Name</th>\n",
       "      <th>Method</th>\n",
       "      <th>Date</th>\n",
       "      <th>Summary</th>\n",
       "      <th>Substantive</th>\n",
       "      <th>Donor</th>\n",
       "      <th>Outcome</th>\n",
       "      <th>score</th>\n",
       "      <th>compound</th>\n",
       "      <th>Sentiment</th>\n",
       "    </tr>\n",
       "  </thead>\n",
       "  <tbody>\n",
       "    <tr>\n",
       "      <th>3</th>\n",
       "      <td>Deborah Mettier</td>\n",
       "      <td>Phone</td>\n",
       "      <td>11/29/17</td>\n",
       "      <td>$50k to extend Kendrick Memorial Undergraduate...</td>\n",
       "      <td>Y</td>\n",
       "      <td>Donna Gilbert</td>\n",
       "      <td>Positive</td>\n",
       "      <td>{'neg': 0.0, 'neu': 0.826, 'pos': 0.174, 'comp...</td>\n",
       "      <td>0.4215</td>\n",
       "      <td>Neutral</td>\n",
       "    </tr>\n",
       "    <tr>\n",
       "      <th>5</th>\n",
       "      <td>Ann Marie Levier</td>\n",
       "      <td>Letter</td>\n",
       "      <td>11/24/17</td>\n",
       "      <td>Sent Marsha an leadership annual fund upgrade ...</td>\n",
       "      <td>Y</td>\n",
       "      <td>Marsha Kenmore</td>\n",
       "      <td>Positive</td>\n",
       "      <td>{'neg': 0.0, 'neu': 0.884, 'pos': 0.116, 'comp...</td>\n",
       "      <td>0.4404</td>\n",
       "      <td>Neutral</td>\n",
       "    </tr>\n",
       "    <tr>\n",
       "      <th>8</th>\n",
       "      <td>Carlos Bendiga</td>\n",
       "      <td>Email</td>\n",
       "      <td>10/30/17</td>\n",
       "      <td>Not available during next trip to Seattle. Dec...</td>\n",
       "      <td>N</td>\n",
       "      <td>Barbara Benaldi</td>\n",
       "      <td>Negative</td>\n",
       "      <td>{'neg': 0.0, 'neu': 1.0, 'pos': 0.0, 'compound...</td>\n",
       "      <td>0.0000</td>\n",
       "      <td>Neutral</td>\n",
       "    </tr>\n",
       "    <tr>\n",
       "      <th>9</th>\n",
       "      <td>Ann Marie Levier</td>\n",
       "      <td>Email</td>\n",
       "      <td>10/27/17</td>\n",
       "      <td>Emailed about continued funding or guidance re...</td>\n",
       "      <td>N</td>\n",
       "      <td>Jeff Zink</td>\n",
       "      <td>Positive</td>\n",
       "      <td>{'neg': 0.0, 'neu': 1.0, 'pos': 0.0, 'compound...</td>\n",
       "      <td>0.0000</td>\n",
       "      <td>Neutral</td>\n",
       "    </tr>\n",
       "    <tr>\n",
       "      <th>10</th>\n",
       "      <td>Ann Marie Levier</td>\n",
       "      <td>Email</td>\n",
       "      <td>10/27/17</td>\n",
       "      <td>Laurie is not able to meet now (too busy)</td>\n",
       "      <td>N</td>\n",
       "      <td>Laurie Stickel</td>\n",
       "      <td>Negative</td>\n",
       "      <td>{'neg': 0.0, 'neu': 1.0, 'pos': 0.0, 'compound...</td>\n",
       "      <td>0.0000</td>\n",
       "      <td>Neutral</td>\n",
       "    </tr>\n",
       "    <tr>\n",
       "      <th>...</th>\n",
       "      <td>...</td>\n",
       "      <td>...</td>\n",
       "      <td>...</td>\n",
       "      <td>...</td>\n",
       "      <td>...</td>\n",
       "      <td>...</td>\n",
       "      <td>...</td>\n",
       "      <td>...</td>\n",
       "      <td>...</td>\n",
       "      <td>...</td>\n",
       "    </tr>\n",
       "    <tr>\n",
       "      <th>189</th>\n",
       "      <td>Deborah Mettier</td>\n",
       "      <td>Phone</td>\n",
       "      <td>8/27/17</td>\n",
       "      <td>not interested in the University</td>\n",
       "      <td>N</td>\n",
       "      <td>Steve Pinchas</td>\n",
       "      <td>Negative</td>\n",
       "      <td>{'neg': 0.361, 'neu': 0.639, 'pos': 0.0, 'comp...</td>\n",
       "      <td>-0.3089</td>\n",
       "      <td>Neutral</td>\n",
       "    </tr>\n",
       "    <tr>\n",
       "      <th>190</th>\n",
       "      <td>Rashi Mohinder</td>\n",
       "      <td>Email</td>\n",
       "      <td>8/27/17</td>\n",
       "      <td>not interested in the University</td>\n",
       "      <td>N</td>\n",
       "      <td>Bill Mendez</td>\n",
       "      <td>Negative</td>\n",
       "      <td>{'neg': 0.361, 'neu': 0.639, 'pos': 0.0, 'comp...</td>\n",
       "      <td>-0.3089</td>\n",
       "      <td>Neutral</td>\n",
       "    </tr>\n",
       "    <tr>\n",
       "      <th>192</th>\n",
       "      <td>Rashi Mohinder</td>\n",
       "      <td>Email</td>\n",
       "      <td>8/27/17</td>\n",
       "      <td>not interested in the University</td>\n",
       "      <td>N</td>\n",
       "      <td>Adam Panda</td>\n",
       "      <td>Negative</td>\n",
       "      <td>{'neg': 0.361, 'neu': 0.639, 'pos': 0.0, 'comp...</td>\n",
       "      <td>-0.3089</td>\n",
       "      <td>Neutral</td>\n",
       "    </tr>\n",
       "    <tr>\n",
       "      <th>193</th>\n",
       "      <td>April Catson</td>\n",
       "      <td>Visit</td>\n",
       "      <td>8/27/17</td>\n",
       "      <td>not interested in the University</td>\n",
       "      <td>N</td>\n",
       "      <td>Billy Gross</td>\n",
       "      <td>Negative</td>\n",
       "      <td>{'neg': 0.361, 'neu': 0.639, 'pos': 0.0, 'comp...</td>\n",
       "      <td>-0.3089</td>\n",
       "      <td>Neutral</td>\n",
       "    </tr>\n",
       "    <tr>\n",
       "      <th>194</th>\n",
       "      <td>April Catson</td>\n",
       "      <td>Phone</td>\n",
       "      <td>8/27/17</td>\n",
       "      <td>not interested in the University</td>\n",
       "      <td>N</td>\n",
       "      <td>Carrie Booker</td>\n",
       "      <td>Negative</td>\n",
       "      <td>{'neg': 0.361, 'neu': 0.639, 'pos': 0.0, 'comp...</td>\n",
       "      <td>-0.3089</td>\n",
       "      <td>Neutral</td>\n",
       "    </tr>\n",
       "  </tbody>\n",
       "</table>\n",
       "<p>145 rows × 10 columns</p>\n",
       "</div>"
      ],
      "text/plain": [
       "           Staff Name  Method      Date  \\\n",
       "3     Deborah Mettier   Phone  11/29/17   \n",
       "5    Ann Marie Levier  Letter  11/24/17   \n",
       "8      Carlos Bendiga   Email  10/30/17   \n",
       "9    Ann Marie Levier   Email  10/27/17   \n",
       "10   Ann Marie Levier   Email  10/27/17   \n",
       "..                ...     ...       ...   \n",
       "189   Deborah Mettier   Phone   8/27/17   \n",
       "190    Rashi Mohinder   Email   8/27/17   \n",
       "192    Rashi Mohinder   Email   8/27/17   \n",
       "193      April Catson   Visit   8/27/17   \n",
       "194      April Catson   Phone   8/27/17   \n",
       "\n",
       "                                               Summary Substantive  \\\n",
       "3    $50k to extend Kendrick Memorial Undergraduate...           Y   \n",
       "5    Sent Marsha an leadership annual fund upgrade ...           Y   \n",
       "8    Not available during next trip to Seattle. Dec...           N   \n",
       "9    Emailed about continued funding or guidance re...           N   \n",
       "10           Laurie is not able to meet now (too busy)           N   \n",
       "..                                                 ...         ...   \n",
       "189                   not interested in the University           N   \n",
       "190                   not interested in the University           N   \n",
       "192                   not interested in the University           N   \n",
       "193                   not interested in the University           N   \n",
       "194                   not interested in the University           N   \n",
       "\n",
       "               Donor   Outcome  \\\n",
       "3      Donna Gilbert  Positive   \n",
       "5     Marsha Kenmore  Positive   \n",
       "8    Barbara Benaldi  Negative   \n",
       "9          Jeff Zink  Positive   \n",
       "10    Laurie Stickel  Negative   \n",
       "..               ...       ...   \n",
       "189    Steve Pinchas  Negative   \n",
       "190      Bill Mendez  Negative   \n",
       "192       Adam Panda  Negative   \n",
       "193      Billy Gross  Negative   \n",
       "194    Carrie Booker  Negative   \n",
       "\n",
       "                                                 score  compound Sentiment  \n",
       "3    {'neg': 0.0, 'neu': 0.826, 'pos': 0.174, 'comp...    0.4215   Neutral  \n",
       "5    {'neg': 0.0, 'neu': 0.884, 'pos': 0.116, 'comp...    0.4404   Neutral  \n",
       "8    {'neg': 0.0, 'neu': 1.0, 'pos': 0.0, 'compound...    0.0000   Neutral  \n",
       "9    {'neg': 0.0, 'neu': 1.0, 'pos': 0.0, 'compound...    0.0000   Neutral  \n",
       "10   {'neg': 0.0, 'neu': 1.0, 'pos': 0.0, 'compound...    0.0000   Neutral  \n",
       "..                                                 ...       ...       ...  \n",
       "189  {'neg': 0.361, 'neu': 0.639, 'pos': 0.0, 'comp...   -0.3089   Neutral  \n",
       "190  {'neg': 0.361, 'neu': 0.639, 'pos': 0.0, 'comp...   -0.3089   Neutral  \n",
       "192  {'neg': 0.361, 'neu': 0.639, 'pos': 0.0, 'comp...   -0.3089   Neutral  \n",
       "193  {'neg': 0.361, 'neu': 0.639, 'pos': 0.0, 'comp...   -0.3089   Neutral  \n",
       "194  {'neg': 0.361, 'neu': 0.639, 'pos': 0.0, 'comp...   -0.3089   Neutral  \n",
       "\n",
       "[145 rows x 10 columns]"
      ]
     },
     "execution_count": 17,
     "metadata": {},
     "output_type": "execute_result"
    }
   ],
   "source": [
    "Neutral"
   ]
  },
  {
   "cell_type": "code",
   "execution_count": 18,
   "id": "c90617c2",
   "metadata": {},
   "outputs": [
    {
     "data": {
      "text/plain": [
       "<seaborn.axisgrid.FacetGrid at 0x141c4014550>"
      ]
     },
     "execution_count": 18,
     "metadata": {},
     "output_type": "execute_result"
    },
    {
     "data": {
      "image/png": "[encoded data removed]",
      "text/plain": [
       "<Figure size 427.25x360 with 1 Axes>"
      ]
     },
     "metadata": {
      "needs_background": "light"
     },
     "output_type": "display_data"
    }
   ],
   "source": [
    "#Nonsubstantive contacts would be fine as neutral\n",
    "sns.relplot(x='Sentiment', y =\"compound\", hue=\"Substantive\", data=df)"
   ]
  },
  {
   "cell_type": "code",
   "execution_count": 19,
   "id": "e7e6fc28",
   "metadata": {},
   "outputs": [
    {
     "data": {
      "text/plain": [
       "<AxesSubplot:xlabel='count', ylabel='Substantive'>"
      ]
     },
     "execution_count": 19,
     "metadata": {},
     "output_type": "execute_result"
    },
    {
     "data": {
      "image/png": "[encoded data removed]",
      "text/plain": [
       "<Figure size 432x288 with 1 Axes>"
      ]
     },
     "metadata": {
      "needs_background": "light"
     },
     "output_type": "display_data"
    }
   ],
   "source": [
    "sns.countplot(y=\"Substantive\", data=Neutral)"
   ]
  },
  {
   "cell_type": "code",
   "execution_count": 37,
   "id": "1c81ff52",
   "metadata": {},
   "outputs": [],
   "source": [
    "stop_words = STOPWORDS.update([\"university\", \"student\"])"
   ]
  },
  {
   "cell_type": "code",
   "execution_count": 29,
   "id": "141f9e6c",
   "metadata": {},
   "outputs": [
    {
     "data": {
      "text/plain": [
       "array(['university', 'student'], dtype='<U10')"
      ]
     },
     "execution_count": 29,
     "metadata": {},
     "output_type": "execute_result"
    }
   ],
   "source": [
    "stoplist"
   ]
  },
  {
   "cell_type": "code",
   "execution_count": null,
   "id": "5e38c2c6",
   "metadata": {},
   "outputs": [],
   "source": [
    "#stopwords\n",
    "np.array(list(STOPWORDS))[0:5]\n",
    "new_stop = np.append('University', 'Student')"
   ]
  },
  {
   "cell_type": "code",
   "execution_count": null,
   "id": "5c76b730",
   "metadata": {},
   "outputs": [],
   "source": [
    "STOPWORDS.extend(new_stop)"
   ]
  },
  {
   "cell_type": "code",
   "execution_count": null,
   "id": "8ba936be",
   "metadata": {},
   "outputs": [],
   "source": [
    "fig, (ax1, ax2) = plt.subplots(1,2, figsize=[14,14], facecolor = None)\n",
    "\n",
    "wc = WordCloud(width = 800, height = 800, background_color=\"white\", min_font_size=10,\n",
    "               repeat=True, stopwords = STOPWORDS)\n",
    "wc.generate(\"\". join(df['Summary'].astype(str)))\n",
    "ax1.axis(\"off\")\n",
    "ax1.imshow(wc, interpolation='bilinear')\n",
    "ax1.set_title('Contact Reports', fontsize=16);\n",
    "\n",
    "wc = WordCloud(width = 800, height = 800, background_color=\"white\", min_font_size=10,\n",
    "               repeat=True, stopwords = STOPWORDS)\n",
    "wc.generate(\"\". join(df['Summary'].astype(str)))\n",
    "ax1.axis(\"off\")\n",
    "ax1.imshow(wc, interpolation='bilinear')\n",
    "ax1.set_title('Contact Reports', fontsize=16);"
   ]
  }
 ],
 "metadata": {
  "kernelspec": {
   "display_name": "Python 3 (ipykernel)",
   "language": "python",
   "name": "python3"
  },
  "language_info": {
   "codemirror_mode": {
    "name": "ipython",
    "version": 3
   },
   "file_extension": ".py",
   "mimetype": "text/x-python",
   "name": "python",
   "nbconvert_exporter": "python",
   "pygments_lexer": "ipython3",
   "version": "3.9.7"
  }
 },
 "nbformat": 4,
 "nbformat_minor": 5
}
